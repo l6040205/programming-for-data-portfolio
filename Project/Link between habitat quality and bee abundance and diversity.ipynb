{
 "cells": [
  {
   "cell_type": "markdown",
   "id": "a6f84b59",
   "metadata": {},
   "source": [
    "# **Linking bee abundance and diversity with habitat quality**\n",
    "\n",
    "## Is there a link between bee abundance, bee species diversity and the quality of habitat, defined as:\n",
    "\n",
    "### - Floral resources\n",
    "### - Flower species diversity\n",
    "### - Shelter\n",
    "### - Percentage of semi-natural habitat\n",
    "\n",
    "\n",
    "## The Dataset\n",
    "Dataset URL: https://catalogue.ceh.ac.uk/documents/d774f98f-030d-45bb-8042-7729573a13b2\n",
    "\n",
    "This data was collected from 48 farms with different patches of habitat designed to provide resources for wildlife between 2007 and 2008. The aim of this was to address whether EU agri-environmental schemes that promote patches of habitat which are nectar and seed rich on farms are impacting the diversity of birds, bees and butterflies, and to better understand farmer attitudes to the schemes and the impact this has on wildlife, and the quality of patches (amount of floral and seed resources). \n",
    "\n",
    "In its raw state, the data contains geographic information relating to sample site (farm, region, patch, soil), survey data (year, temperature, wind), ecological data (bee species, bee abundance, flowers, flower species, amount of semi-natural habitat), and qualitative data relating to the farmer (experience and motiviation for environmental management, concerns about how this impacts their lives and meeting the targets set by the schemes). Whilst the qualitative data is interesting, the sample size is somewhat limited relative to the ecologicial data, and these could represent confounding variables. As such I decided to focus on the ecological data relating to floral resources, bee abundance and diversity, shelter and semi-natural habitat (sampling of floral resources and shelter is purely related to the patch, semi-natural habitat is % cover in a 4k^2 cell centered on the farm, therefore there is not confounding influence).\n",
    "\n",
    "## The Plan\n",
    "\n",
    "First, my dependent variables are bee abundance and bee species diversity. My independent variables are number of flowers, number of flower species, shelter and % of semi-natural habitat. \n",
    "\n",
    "Step one, I will need to clean my data. Check it for outliers using boxplots and remove as nessecary, and then check for normality and transform if necessary. \n",
    "\n",
    "Next, I will visualise the data to see if there are any correlations that are immmediately obvious. Again this will be seperate for bee abundance and diversity. \n",
    "\n",
    "To explore the influence of the independent variables, I need to run two analyses- one for bee abundance and one for bee diversity. For an analysis, I will run two multiple linear models comparing independent variables against each of the dependent variables. \n",
    "\n",
    "I will report the p-value, F and R^2 statistics for the test, and, if there are any correlations I will display graphs with the regression line for each correlation.\n"
   ]
  },
  {
   "cell_type": "markdown",
   "id": "500a8631",
   "metadata": {},
   "source": [
    "## First, I need to set up my workspace.\n",
    "I will import packages here, if I need any packages later in the workbook I will add them here to keep track of them. \n",
    "I am importing my data, and looking at the overview to check it's read correctly"
   ]
  },
  {
   "cell_type": "code",
   "execution_count": 1,
   "id": "e83118c1",
   "metadata": {},
   "outputs": [
    {
     "data": {
      "text/html": [
       "<div>\n",
       "<style scoped>\n",
       "    .dataframe tbody tr th:only-of-type {\n",
       "        vertical-align: middle;\n",
       "    }\n",
       "\n",
       "    .dataframe tbody tr th {\n",
       "        vertical-align: top;\n",
       "    }\n",
       "\n",
       "    .dataframe thead th {\n",
       "        text-align: right;\n",
       "    }\n",
       "</style>\n",
       "<table border=\"1\" class=\"dataframe\">\n",
       "  <thead>\n",
       "    <tr style=\"text-align: right;\">\n",
       "      <th></th>\n",
       "      <th>Farm</th>\n",
       "      <th>Patch_No</th>\n",
       "      <th>Year</th>\n",
       "      <th>Bees</th>\n",
       "      <th>BeeSp</th>\n",
       "      <th>Flowers</th>\n",
       "      <th>FlowerSp</th>\n",
       "      <th>Shelter</th>\n",
       "      <th>PCSemi_Nat</th>\n",
       "    </tr>\n",
       "  </thead>\n",
       "  <tbody>\n",
       "    <tr>\n",
       "      <th>0</th>\n",
       "      <td>E4.11</td>\n",
       "      <td>P1</td>\n",
       "      <td>2007</td>\n",
       "      <td>20</td>\n",
       "      <td>3</td>\n",
       "      <td>1408</td>\n",
       "      <td>6</td>\n",
       "      <td>6.0</td>\n",
       "      <td>14.8</td>\n",
       "    </tr>\n",
       "    <tr>\n",
       "      <th>1</th>\n",
       "      <td>E4.11</td>\n",
       "      <td>P2</td>\n",
       "      <td>2007</td>\n",
       "      <td>20</td>\n",
       "      <td>2</td>\n",
       "      <td>422</td>\n",
       "      <td>6</td>\n",
       "      <td>6.0</td>\n",
       "      <td>14.8</td>\n",
       "    </tr>\n",
       "    <tr>\n",
       "      <th>2</th>\n",
       "      <td>E4.11</td>\n",
       "      <td>P3</td>\n",
       "      <td>2007</td>\n",
       "      <td>0</td>\n",
       "      <td>0</td>\n",
       "      <td>2</td>\n",
       "      <td>1</td>\n",
       "      <td>3.0</td>\n",
       "      <td>14.8</td>\n",
       "    </tr>\n",
       "    <tr>\n",
       "      <th>3</th>\n",
       "      <td>E4.11</td>\n",
       "      <td>P1</td>\n",
       "      <td>2008</td>\n",
       "      <td>5</td>\n",
       "      <td>2</td>\n",
       "      <td>30</td>\n",
       "      <td>3</td>\n",
       "      <td>6.0</td>\n",
       "      <td>14.8</td>\n",
       "    </tr>\n",
       "    <tr>\n",
       "      <th>4</th>\n",
       "      <td>E4.11</td>\n",
       "      <td>P2</td>\n",
       "      <td>2008</td>\n",
       "      <td>0</td>\n",
       "      <td>0</td>\n",
       "      <td>1</td>\n",
       "      <td>0</td>\n",
       "      <td>6.0</td>\n",
       "      <td>14.8</td>\n",
       "    </tr>\n",
       "    <tr>\n",
       "      <th>...</th>\n",
       "      <td>...</td>\n",
       "      <td>...</td>\n",
       "      <td>...</td>\n",
       "      <td>...</td>\n",
       "      <td>...</td>\n",
       "      <td>...</td>\n",
       "      <td>...</td>\n",
       "      <td>...</td>\n",
       "      <td>...</td>\n",
       "    </tr>\n",
       "    <tr>\n",
       "      <th>117</th>\n",
       "      <td>W4.5</td>\n",
       "      <td>P3</td>\n",
       "      <td>2008</td>\n",
       "      <td>0</td>\n",
       "      <td>0</td>\n",
       "      <td>60</td>\n",
       "      <td>3</td>\n",
       "      <td>0.0</td>\n",
       "      <td>7.5</td>\n",
       "    </tr>\n",
       "    <tr>\n",
       "      <th>118</th>\n",
       "      <td>W4.8</td>\n",
       "      <td>P1</td>\n",
       "      <td>2007</td>\n",
       "      <td>2</td>\n",
       "      <td>1</td>\n",
       "      <td>93</td>\n",
       "      <td>3</td>\n",
       "      <td>2.0</td>\n",
       "      <td>9.3</td>\n",
       "    </tr>\n",
       "    <tr>\n",
       "      <th>119</th>\n",
       "      <td>W4.8</td>\n",
       "      <td>P2</td>\n",
       "      <td>2007</td>\n",
       "      <td>0</td>\n",
       "      <td>0</td>\n",
       "      <td>89</td>\n",
       "      <td>3</td>\n",
       "      <td>2.5</td>\n",
       "      <td>9.3</td>\n",
       "    </tr>\n",
       "    <tr>\n",
       "      <th>120</th>\n",
       "      <td>W4.8</td>\n",
       "      <td>P1</td>\n",
       "      <td>2008</td>\n",
       "      <td>0</td>\n",
       "      <td>0</td>\n",
       "      <td>11</td>\n",
       "      <td>4</td>\n",
       "      <td>2.0</td>\n",
       "      <td>9.3</td>\n",
       "    </tr>\n",
       "    <tr>\n",
       "      <th>121</th>\n",
       "      <td>W4.8</td>\n",
       "      <td>P2</td>\n",
       "      <td>2008</td>\n",
       "      <td>0</td>\n",
       "      <td>0</td>\n",
       "      <td>10</td>\n",
       "      <td>2</td>\n",
       "      <td>2.5</td>\n",
       "      <td>9.3</td>\n",
       "    </tr>\n",
       "  </tbody>\n",
       "</table>\n",
       "<p>122 rows × 9 columns</p>\n",
       "</div>"
      ],
      "text/plain": [
       "      Farm Patch_No  Year  Bees  BeeSp  Flowers  FlowerSp  Shelter  PCSemi_Nat\n",
       "0    E4.11       P1  2007    20      3     1408         6      6.0        14.8\n",
       "1    E4.11       P2  2007    20      2      422         6      6.0        14.8\n",
       "2    E4.11       P3  2007     0      0        2         1      3.0        14.8\n",
       "3    E4.11       P1  2008     5      2       30         3      6.0        14.8\n",
       "4    E4.11       P2  2008     0      0        1         0      6.0        14.8\n",
       "..     ...      ...   ...   ...    ...      ...       ...      ...         ...\n",
       "117   W4.5       P3  2008     0      0       60         3      0.0         7.5\n",
       "118   W4.8       P1  2007     2      1       93         3      2.0         9.3\n",
       "119   W4.8       P2  2007     0      0       89         3      2.5         9.3\n",
       "120   W4.8       P1  2008     0      0       11         4      2.0         9.3\n",
       "121   W4.8       P2  2008     0      0       10         2      2.5         9.3\n",
       "\n",
       "[122 rows x 9 columns]"
      ]
     },
     "metadata": {},
     "output_type": "display_data"
    },
    {
     "name": "stdout",
     "output_type": "stream",
     "text": [
      "<class 'pandas.core.frame.DataFrame'>\n",
      "RangeIndex: 122 entries, 0 to 121\n",
      "Data columns (total 9 columns):\n",
      " #   Column      Non-Null Count  Dtype  \n",
      "---  ------      --------------  -----  \n",
      " 0   Farm        122 non-null    object \n",
      " 1   Patch_No    122 non-null    object \n",
      " 2   Year        122 non-null    int64  \n",
      " 3   Bees        122 non-null    int64  \n",
      " 4   BeeSp       122 non-null    int64  \n",
      " 5   Flowers     122 non-null    int64  \n",
      " 6   FlowerSp    122 non-null    int64  \n",
      " 7   Shelter     122 non-null    float64\n",
      " 8   PCSemi_Nat  122 non-null    float64\n",
      "dtypes: float64(2), int64(5), object(2)\n",
      "memory usage: 8.7+ KB\n"
     ]
    }
   ],
   "source": [
    "#Setting up\n",
    "\n",
    "##required packages\n",
    "\n",
    "import pandas as pd\n",
    "import matplotlib.pyplot as plt\n",
    "import seaborn as sns\n",
    "import numpy as np\n",
    "from scipy import stats\n",
    "\n",
    "dat=pd.read_csv(\"beedata.csv\")\n",
    "\n",
    "##Get overview\n",
    "display(dat)\n",
    "dat.info()\n",
    "\n",
    "\n"
   ]
  },
  {
   "cell_type": "markdown",
   "id": "315527a4",
   "metadata": {},
   "source": [
    "## Cleaning the data\n",
    "Next I need to clean the data, first I will check for na values.\n",
    "Then I will use boxplots to check for any outliers, so first I need to subset these into their own variables. I will plot these all on the same access for easier visualisation, but flowers will need to be plotted on its own axes as it is at a much larger scale than the others. \n",
    "I can see I have outliers, so I will apply the function to remove these from each of the variables from the main data.\n",
    "I display the info and data to check that outliers have been removed and it looks okay"
   ]
  },
  {
   "cell_type": "code",
   "execution_count": 2,
   "id": "71934a63",
   "metadata": {},
   "outputs": [
    {
     "name": "stdout",
     "output_type": "stream",
     "text": [
      "False\n",
      "<class 'pandas.core.frame.DataFrame'>\n",
      "Int64Index: 109 entries, 0 to 121\n",
      "Data columns (total 9 columns):\n",
      " #   Column      Non-Null Count  Dtype  \n",
      "---  ------      --------------  -----  \n",
      " 0   Farm        109 non-null    object \n",
      " 1   Patch_No    109 non-null    object \n",
      " 2   Year        109 non-null    int64  \n",
      " 3   Bees        109 non-null    int64  \n",
      " 4   BeeSp       109 non-null    int64  \n",
      " 5   Flowers     109 non-null    int64  \n",
      " 6   FlowerSp    109 non-null    int64  \n",
      " 7   Shelter     109 non-null    float64\n",
      " 8   PCSemi_Nat  109 non-null    float64\n",
      "dtypes: float64(2), int64(5), object(2)\n",
      "memory usage: 8.5+ KB\n"
     ]
    },
    {
     "data": {
      "text/html": [
       "<div>\n",
       "<style scoped>\n",
       "    .dataframe tbody tr th:only-of-type {\n",
       "        vertical-align: middle;\n",
       "    }\n",
       "\n",
       "    .dataframe tbody tr th {\n",
       "        vertical-align: top;\n",
       "    }\n",
       "\n",
       "    .dataframe thead th {\n",
       "        text-align: right;\n",
       "    }\n",
       "</style>\n",
       "<table border=\"1\" class=\"dataframe\">\n",
       "  <thead>\n",
       "    <tr style=\"text-align: right;\">\n",
       "      <th></th>\n",
       "      <th>Farm</th>\n",
       "      <th>Patch_No</th>\n",
       "      <th>Year</th>\n",
       "      <th>Bees</th>\n",
       "      <th>BeeSp</th>\n",
       "      <th>Flowers</th>\n",
       "      <th>FlowerSp</th>\n",
       "      <th>Shelter</th>\n",
       "      <th>PCSemi_Nat</th>\n",
       "    </tr>\n",
       "  </thead>\n",
       "  <tbody>\n",
       "    <tr>\n",
       "      <th>0</th>\n",
       "      <td>E4.11</td>\n",
       "      <td>P1</td>\n",
       "      <td>2007</td>\n",
       "      <td>20</td>\n",
       "      <td>3</td>\n",
       "      <td>1408</td>\n",
       "      <td>6</td>\n",
       "      <td>6.0</td>\n",
       "      <td>14.8</td>\n",
       "    </tr>\n",
       "    <tr>\n",
       "      <th>1</th>\n",
       "      <td>E4.11</td>\n",
       "      <td>P2</td>\n",
       "      <td>2007</td>\n",
       "      <td>20</td>\n",
       "      <td>2</td>\n",
       "      <td>422</td>\n",
       "      <td>6</td>\n",
       "      <td>6.0</td>\n",
       "      <td>14.8</td>\n",
       "    </tr>\n",
       "    <tr>\n",
       "      <th>2</th>\n",
       "      <td>E4.11</td>\n",
       "      <td>P3</td>\n",
       "      <td>2007</td>\n",
       "      <td>0</td>\n",
       "      <td>0</td>\n",
       "      <td>2</td>\n",
       "      <td>1</td>\n",
       "      <td>3.0</td>\n",
       "      <td>14.8</td>\n",
       "    </tr>\n",
       "    <tr>\n",
       "      <th>3</th>\n",
       "      <td>E4.11</td>\n",
       "      <td>P1</td>\n",
       "      <td>2008</td>\n",
       "      <td>5</td>\n",
       "      <td>2</td>\n",
       "      <td>30</td>\n",
       "      <td>3</td>\n",
       "      <td>6.0</td>\n",
       "      <td>14.8</td>\n",
       "    </tr>\n",
       "    <tr>\n",
       "      <th>4</th>\n",
       "      <td>E4.11</td>\n",
       "      <td>P2</td>\n",
       "      <td>2008</td>\n",
       "      <td>0</td>\n",
       "      <td>0</td>\n",
       "      <td>1</td>\n",
       "      <td>0</td>\n",
       "      <td>6.0</td>\n",
       "      <td>14.8</td>\n",
       "    </tr>\n",
       "    <tr>\n",
       "      <th>...</th>\n",
       "      <td>...</td>\n",
       "      <td>...</td>\n",
       "      <td>...</td>\n",
       "      <td>...</td>\n",
       "      <td>...</td>\n",
       "      <td>...</td>\n",
       "      <td>...</td>\n",
       "      <td>...</td>\n",
       "      <td>...</td>\n",
       "    </tr>\n",
       "    <tr>\n",
       "      <th>117</th>\n",
       "      <td>W4.5</td>\n",
       "      <td>P3</td>\n",
       "      <td>2008</td>\n",
       "      <td>0</td>\n",
       "      <td>0</td>\n",
       "      <td>60</td>\n",
       "      <td>3</td>\n",
       "      <td>0.0</td>\n",
       "      <td>7.5</td>\n",
       "    </tr>\n",
       "    <tr>\n",
       "      <th>118</th>\n",
       "      <td>W4.8</td>\n",
       "      <td>P1</td>\n",
       "      <td>2007</td>\n",
       "      <td>2</td>\n",
       "      <td>1</td>\n",
       "      <td>93</td>\n",
       "      <td>3</td>\n",
       "      <td>2.0</td>\n",
       "      <td>9.3</td>\n",
       "    </tr>\n",
       "    <tr>\n",
       "      <th>119</th>\n",
       "      <td>W4.8</td>\n",
       "      <td>P2</td>\n",
       "      <td>2007</td>\n",
       "      <td>0</td>\n",
       "      <td>0</td>\n",
       "      <td>89</td>\n",
       "      <td>3</td>\n",
       "      <td>2.5</td>\n",
       "      <td>9.3</td>\n",
       "    </tr>\n",
       "    <tr>\n",
       "      <th>120</th>\n",
       "      <td>W4.8</td>\n",
       "      <td>P1</td>\n",
       "      <td>2008</td>\n",
       "      <td>0</td>\n",
       "      <td>0</td>\n",
       "      <td>11</td>\n",
       "      <td>4</td>\n",
       "      <td>2.0</td>\n",
       "      <td>9.3</td>\n",
       "    </tr>\n",
       "    <tr>\n",
       "      <th>121</th>\n",
       "      <td>W4.8</td>\n",
       "      <td>P2</td>\n",
       "      <td>2008</td>\n",
       "      <td>0</td>\n",
       "      <td>0</td>\n",
       "      <td>10</td>\n",
       "      <td>2</td>\n",
       "      <td>2.5</td>\n",
       "      <td>9.3</td>\n",
       "    </tr>\n",
       "  </tbody>\n",
       "</table>\n",
       "<p>109 rows × 9 columns</p>\n",
       "</div>"
      ],
      "text/plain": [
       "      Farm Patch_No  Year  Bees  BeeSp  Flowers  FlowerSp  Shelter  PCSemi_Nat\n",
       "0    E4.11       P1  2007    20      3     1408         6      6.0        14.8\n",
       "1    E4.11       P2  2007    20      2      422         6      6.0        14.8\n",
       "2    E4.11       P3  2007     0      0        2         1      3.0        14.8\n",
       "3    E4.11       P1  2008     5      2       30         3      6.0        14.8\n",
       "4    E4.11       P2  2008     0      0        1         0      6.0        14.8\n",
       "..     ...      ...   ...   ...    ...      ...       ...      ...         ...\n",
       "117   W4.5       P3  2008     0      0       60         3      0.0         7.5\n",
       "118   W4.8       P1  2007     2      1       93         3      2.0         9.3\n",
       "119   W4.8       P2  2007     0      0       89         3      2.5         9.3\n",
       "120   W4.8       P1  2008     0      0       11         4      2.0         9.3\n",
       "121   W4.8       P2  2008     0      0       10         2      2.5         9.3\n",
       "\n",
       "[109 rows x 9 columns]"
      ]
     },
     "metadata": {},
     "output_type": "display_data"
    },
    {
     "data": {
      "image/png": "[encoded data removed]",
      "text/plain": [
       "<Figure size 432x288 with 1 Axes>"
      ]
     },
     "metadata": {
      "needs_background": "light"
     },
     "output_type": "display_data"
    },
    {
     "data": {
      "image/png": "[encoded data removed]",
      "text/plain": [
       "<Figure size 720x432 with 1 Axes>"
      ]
     },
     "metadata": {
      "needs_background": "light"
     },
     "output_type": "display_data"
    }
   ],
   "source": [
    "# Cleaning\n",
    "\n",
    "##Check for NA and remove if any\n",
    "print(dat.isnull().values.any())\n",
    "\n",
    "###None\n",
    "\n",
    "##Check for outliers\n",
    "Bees= dat['Bees']\n",
    "Bees_box=plt.boxplot(Bees, positions=[2])\n",
    "\n",
    "Bee_sp= dat['BeeSp']\n",
    "Bee_sp_box=plt.boxplot(Bee_sp, positions=[3])\n",
    "\n",
    "Flower_sp= dat['FlowerSp']\n",
    "Flowers_sp_box=plt.boxplot(Flower_sp, positions=[5])\n",
    "\n",
    "Shelter= dat['Shelter']\n",
    "Shelter_box=plt.boxplot(Shelter, positions=[6])\n",
    "\n",
    "Semi_nat= dat['PCSemi_Nat']\n",
    "Semi_nat_box=plt.boxplot(Semi_nat, positions=[7])\n",
    "\n",
    "plt.figure(figsize=(10, 6))\n",
    "\n",
    "###Plot alone as scale is v. different\n",
    "\n",
    "Flowers= dat['Flowers']\n",
    "Flowers_box=plt.boxplot(Flowers)\n",
    "\n",
    "###Outliers in Bees, Flower sp, and Flower, removing these: \n",
    "def remove_outliers(df, column):\n",
    "    q1= column.quantile(0.25)\n",
    "    q3= column.quantile(0.75)\n",
    "    IQR = q3 - q1\n",
    "    upper_limit = (q3 + 1.5*IQR)\n",
    "    lower_limit = (q1 - 1.5*IQR)\n",
    "    df_normal = df[(column <= upper_limit) & (column >= lower_limit)]\n",
    "    return df_normal\n",
    "\n",
    "dat1=remove_outliers(dat, dat['Bees'])\n",
    "dat2=remove_outliers(dat1, dat1['FlowerSp'])\n",
    "dat3=remove_outliers(dat2, dat2['Flowers'])\n",
    "\n",
    "dat3.info()\n",
    "display(dat3)\n"
   ]
  },
  {
   "cell_type": "markdown",
   "id": "4fbc531c",
   "metadata": {},
   "source": [
    "## Normality \n",
    "First, I'd like to visualise this. On visualising it I can see that there is some skew. Bee abundance looks really skewed so I will get the skew and kurtosis to work out how skewed it is. \n",
    "The table shows it is highly positively skewed. Normally I would use log transformation to offset this, but the data has 0's so I will apply a transformation which can handle this and add this to the data. \n",
    "The transformed bee abundance isn't perfect, but it's better than it was so I feel okay to use it and I will check normality in the regression plots. "
   ]
  },
  {
   "cell_type": "code",
   "execution_count": 4,
   "id": "48d378f5",
   "metadata": {},
   "outputs": [
    {
     "ename": "ValueError",
     "evalue": "cannot insert Bees_log, already exists",
     "output_type": "error",
     "traceback": [
      "\u001b[1;31m---------------------------------------------------------------------------\u001b[0m",
      "\u001b[1;31mValueError\u001b[0m                                Traceback (most recent call last)",
      "\u001b[1;32m<ipython-input-4-1f5872ef47ed>\u001b[0m in \u001b[0;36m<module>\u001b[1;34m\u001b[0m\n\u001b[0;32m     14\u001b[0m \u001b[1;33m\u001b[0m\u001b[0m\n\u001b[0;32m     15\u001b[0m \u001b[1;31m###Bees needs log transform, use arcsinh as 0 values\u001b[0m\u001b[1;33m\u001b[0m\u001b[1;33m\u001b[0m\u001b[1;33m\u001b[0m\u001b[0m\n\u001b[1;32m---> 16\u001b[1;33m \u001b[0mdat3\u001b[0m\u001b[1;33m.\u001b[0m\u001b[0minsert\u001b[0m\u001b[1;33m(\u001b[0m\u001b[0mlen\u001b[0m\u001b[1;33m(\u001b[0m\u001b[0mdat3\u001b[0m\u001b[1;33m.\u001b[0m\u001b[0mcolumns\u001b[0m\u001b[1;33m)\u001b[0m\u001b[1;33m,\u001b[0m \u001b[1;34m'Bees_log'\u001b[0m\u001b[1;33m,\u001b[0m \u001b[0mnp\u001b[0m\u001b[1;33m.\u001b[0m\u001b[0marcsinh\u001b[0m\u001b[1;33m(\u001b[0m\u001b[0mdat3\u001b[0m\u001b[1;33m[\u001b[0m\u001b[1;34m'Bees'\u001b[0m\u001b[1;33m]\u001b[0m\u001b[1;33m)\u001b[0m\u001b[1;33m)\u001b[0m\u001b[1;33m\u001b[0m\u001b[1;33m\u001b[0m\u001b[0m\n\u001b[0m\u001b[0;32m     17\u001b[0m \u001b[0msns\u001b[0m\u001b[1;33m.\u001b[0m\u001b[0mdisplot\u001b[0m\u001b[1;33m(\u001b[0m\u001b[0mdata\u001b[0m\u001b[1;33m=\u001b[0m\u001b[0mdat3\u001b[0m\u001b[1;33m,\u001b[0m \u001b[0mx\u001b[0m\u001b[1;33m=\u001b[0m\u001b[1;34m\"Bees_log\"\u001b[0m\u001b[1;33m)\u001b[0m\u001b[1;33m\u001b[0m\u001b[1;33m\u001b[0m\u001b[0m\n\u001b[0;32m     18\u001b[0m \u001b[1;33m\u001b[0m\u001b[0m\n",
      "\u001b[1;32m~\\anaconda3\\lib\\site-packages\\pandas\\core\\frame.py\u001b[0m in \u001b[0;36minsert\u001b[1;34m(self, loc, column, value, allow_duplicates)\u001b[0m\n\u001b[0;32m   3761\u001b[0m         \u001b[0mself\u001b[0m\u001b[1;33m.\u001b[0m\u001b[0m_ensure_valid_index\u001b[0m\u001b[1;33m(\u001b[0m\u001b[0mvalue\u001b[0m\u001b[1;33m)\u001b[0m\u001b[1;33m\u001b[0m\u001b[1;33m\u001b[0m\u001b[0m\n\u001b[0;32m   3762\u001b[0m         \u001b[0mvalue\u001b[0m \u001b[1;33m=\u001b[0m \u001b[0mself\u001b[0m\u001b[1;33m.\u001b[0m\u001b[0m_sanitize_column\u001b[0m\u001b[1;33m(\u001b[0m\u001b[0mcolumn\u001b[0m\u001b[1;33m,\u001b[0m \u001b[0mvalue\u001b[0m\u001b[1;33m,\u001b[0m \u001b[0mbroadcast\u001b[0m\u001b[1;33m=\u001b[0m\u001b[1;32mFalse\u001b[0m\u001b[1;33m)\u001b[0m\u001b[1;33m\u001b[0m\u001b[1;33m\u001b[0m\u001b[0m\n\u001b[1;32m-> 3763\u001b[1;33m         \u001b[0mself\u001b[0m\u001b[1;33m.\u001b[0m\u001b[0m_mgr\u001b[0m\u001b[1;33m.\u001b[0m\u001b[0minsert\u001b[0m\u001b[1;33m(\u001b[0m\u001b[0mloc\u001b[0m\u001b[1;33m,\u001b[0m \u001b[0mcolumn\u001b[0m\u001b[1;33m,\u001b[0m \u001b[0mvalue\u001b[0m\u001b[1;33m,\u001b[0m \u001b[0mallow_duplicates\u001b[0m\u001b[1;33m=\u001b[0m\u001b[0mallow_duplicates\u001b[0m\u001b[1;33m)\u001b[0m\u001b[1;33m\u001b[0m\u001b[1;33m\u001b[0m\u001b[0m\n\u001b[0m\u001b[0;32m   3764\u001b[0m \u001b[1;33m\u001b[0m\u001b[0m\n\u001b[0;32m   3765\u001b[0m     \u001b[1;32mdef\u001b[0m \u001b[0massign\u001b[0m\u001b[1;33m(\u001b[0m\u001b[0mself\u001b[0m\u001b[1;33m,\u001b[0m \u001b[1;33m**\u001b[0m\u001b[0mkwargs\u001b[0m\u001b[1;33m)\u001b[0m \u001b[1;33m->\u001b[0m \u001b[0mDataFrame\u001b[0m\u001b[1;33m:\u001b[0m\u001b[1;33m\u001b[0m\u001b[1;33m\u001b[0m\u001b[0m\n",
      "\u001b[1;32m~\\anaconda3\\lib\\site-packages\\pandas\\core\\internals\\managers.py\u001b[0m in \u001b[0;36minsert\u001b[1;34m(self, loc, item, value, allow_duplicates)\u001b[0m\n\u001b[0;32m   1189\u001b[0m         \u001b[1;32mif\u001b[0m \u001b[1;32mnot\u001b[0m \u001b[0mallow_duplicates\u001b[0m \u001b[1;32mand\u001b[0m \u001b[0mitem\u001b[0m \u001b[1;32min\u001b[0m \u001b[0mself\u001b[0m\u001b[1;33m.\u001b[0m\u001b[0mitems\u001b[0m\u001b[1;33m:\u001b[0m\u001b[1;33m\u001b[0m\u001b[1;33m\u001b[0m\u001b[0m\n\u001b[0;32m   1190\u001b[0m             \u001b[1;31m# Should this be a different kind of error??\u001b[0m\u001b[1;33m\u001b[0m\u001b[1;33m\u001b[0m\u001b[1;33m\u001b[0m\u001b[0m\n\u001b[1;32m-> 1191\u001b[1;33m             \u001b[1;32mraise\u001b[0m \u001b[0mValueError\u001b[0m\u001b[1;33m(\u001b[0m\u001b[1;34mf\"cannot insert {item}, already exists\"\u001b[0m\u001b[1;33m)\u001b[0m\u001b[1;33m\u001b[0m\u001b[1;33m\u001b[0m\u001b[0m\n\u001b[0m\u001b[0;32m   1192\u001b[0m \u001b[1;33m\u001b[0m\u001b[0m\n\u001b[0;32m   1193\u001b[0m         \u001b[1;32mif\u001b[0m \u001b[1;32mnot\u001b[0m \u001b[0misinstance\u001b[0m\u001b[1;33m(\u001b[0m\u001b[0mloc\u001b[0m\u001b[1;33m,\u001b[0m \u001b[0mint\u001b[0m\u001b[1;33m)\u001b[0m\u001b[1;33m:\u001b[0m\u001b[1;33m\u001b[0m\u001b[1;33m\u001b[0m\u001b[0m\n",
      "\u001b[1;31mValueError\u001b[0m: cannot insert Bees_log, already exists"
     ]
    },
    {
     "data": {
      "image/png": "[encoded data removed]",
      "text/plain": [
       "<Figure size 360x360 with 1 Axes>"
      ]
     },
     "metadata": {
      "needs_background": "light"
     },
     "output_type": "display_data"
    },
    {
     "data": {
      "image/png": "[encoded data removed]",
      "text/plain": [
       "<Figure size 360x360 with 1 Axes>"
      ]
     },
     "metadata": {
      "needs_background": "light"
     },
     "output_type": "display_data"
    },
    {
     "data": {
      "image/png": "[encoded data removed]",
      "text/plain": [
       "<Figure size 360x360 with 1 Axes>"
      ]
     },
     "metadata": {
      "needs_background": "light"
     },
     "output_type": "display_data"
    },
    {
     "data": {
      "image/png": "[encoded data removed]",
      "text/plain": [
       "<Figure size 360x360 with 1 Axes>"
      ]
     },
     "metadata": {
      "needs_background": "light"
     },
     "output_type": "display_data"
    },
    {
     "data": {
      "image/png": "[encoded data removed]",
      "text/plain": [
       "<Figure size 360x360 with 1 Axes>"
      ]
     },
     "metadata": {
      "needs_background": "light"
     },
     "output_type": "display_data"
    },
    {
     "data": {
      "image/png": "[encoded data removed]",
      "text/plain": [
       "<Figure size 360x360 with 1 Axes>"
      ]
     },
     "metadata": {
      "needs_background": "light"
     },
     "output_type": "display_data"
    }
   ],
   "source": [
    "#Visualisations for normality etc\n",
    "\n",
    "##Check for normality\n",
    "import seaborn as sns\n",
    "sns.displot(data=dat3, x=\"Bees\")\n",
    "sns.displot(data=dat3, x=\"BeeSp\")\n",
    "sns.displot(data=dat3, x=\"Flowers\")\n",
    "sns.displot(data=dat3, x=\"FlowerSp\")\n",
    "sns.displot(data=dat3, x=\"Shelter\")\n",
    "sns.displot(data=dat3, x='PCSemi_Nat')\n",
    "\n",
    "###Some skew, get values\n",
    "dat3.agg(['skew', 'kurtosis']).transpose()\n",
    "\n",
    "###Bees needs log transform, use arcsinh as 0 values\n",
    "dat3.insert(len(dat3.columns), 'Bees_log', np.arcsinh(dat3['Bees']))\n",
    "sns.displot(data=dat3, x=\"Bees_log\")\n",
    "\n"
   ]
  },
  {
   "cell_type": "markdown",
   "id": "dc6548ea",
   "metadata": {},
   "source": [
    "## Visualisations\n",
    "Before doing anything else, I will visualise the data compared with abundance and diversity. \n",
    "The data looks a bit odd as some variables are discrete, and there are not that many bee species. Makes it difficult to predict any strong trends. \n",
    "I will export the clean and transformed data so it can be imported into an R workspace ready for analysis. "
   ]
  },
  {
   "cell_type": "code",
   "execution_count": 5,
   "id": "5fab1276",
   "metadata": {},
   "outputs": [
    {
     "data": {
      "image/png": "[encoded data removed]",
      "text/plain": [
       "<Figure size 432x288 with 4 Axes>"
      ]
     },
     "metadata": {
      "needs_background": "light"
     },
     "output_type": "display_data"
    },
    {
     "data": {
      "image/png": "[encoded data removed]",
      "text/plain": [
       "<Figure size 432x288 with 4 Axes>"
      ]
     },
     "metadata": {
      "needs_background": "light"
     },
     "output_type": "display_data"
    }
   ],
   "source": [
    "#Visualisations cont. \n",
    "##Bee abundance\n",
    "fig, axs = plt.subplots(2, 2)\n",
    "fig.tight_layout()\n",
    "axs[0,0].scatter(dat3['Flowers'], dat3['Bees_log'])\n",
    "axs[1,0].scatter(dat3['FlowerSp'], dat3['Bees_log'])\n",
    "axs[0,1].scatter(dat3['Shelter'], dat3['Bees_log'])\n",
    "axs[1,1].scatter(dat3['PCSemi_Nat'], dat3['Bees_log'])\n",
    "axs[0,0].title.set_text('Flowers')\n",
    "axs[1,0].title.set_text('Flower Species')\n",
    "axs[0,1].title.set_text('Shelter')\n",
    "axs[1,1].title.set_text('% Natural Habitat')\n",
    "fig.text(0.02, 0.5, 'Bee Abundance', va='center', rotation='vertical')\n",
    "plt.show()\n",
    "\n",
    "##Bee Diversity\n",
    "fig, axs = plt.subplots(2, 2)\n",
    "fig.tight_layout()\n",
    "axs[0,0].scatter(dat3['Flowers'], dat3['BeeSp'])\n",
    "axs[1,0].scatter(dat3['FlowerSp'], dat3['BeeSp'])\n",
    "axs[0,1].scatter(dat3['Shelter'], dat3['BeeSp'])\n",
    "axs[1,1].scatter(dat3['PCSemi_Nat'], dat3['BeeSp'])\n",
    "axs[0,0].title.set_text('Flowers')\n",
    "axs[1,0].title.set_text('Flower Species')\n",
    "axs[0,1].title.set_text('Shelter')\n",
    "axs[1,1].title.set_text('% Natural Habitat')\n",
    "fig.text(0.02, 0.5, '# Bee Species', va='center', rotation='vertical')\n",
    "plt.show()\n",
    "\n",
    "\n",
    "###Potentially problematic that any species count is discrete. Export dat3 as csv for R\n",
    "dat3.to_csv(r'bees_clean.csv', index = False)"
   ]
  }
 ],
 "metadata": {
  "kernelspec": {
   "display_name": "Python 3",
   "language": "python",
   "name": "python3"
  },
  "language_info": {
   "codemirror_mode": {
    "name": "ipython",
    "version": 3
   },
   "file_extension": ".py",
   "mimetype": "text/x-python",
   "name": "python",
   "nbconvert_exporter": "python",
   "pygments_lexer": "ipython3",
   "version": "3.8.8"
  }
 },
 "nbformat": 4,
 "nbformat_minor": 5
}
