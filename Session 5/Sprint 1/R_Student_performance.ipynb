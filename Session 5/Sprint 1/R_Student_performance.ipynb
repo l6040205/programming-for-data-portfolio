{
  "nbformat": 4,
  "nbformat_minor": 5,
  "metadata": {
    "kernelspec": {
      "display_name": "R",
      "language": "R",
      "name": "ir"
    },
    "colab": {
      "name": "R - Student performance.ipynb",
      "provenance": [],
      "collapsed_sections": [],
      "include_colab_link": true
    }
  },
  "cells": [
    {
      "cell_type": "markdown",
      "metadata": {
        "id": "view-in-github",
        "colab_type": "text"
      },
      "source": [
        "<a href=\"https://colab.research.google.com/github/l6040205/programming-for-data-portfolio/blob/main/Session%205/Sprint%201/R_Student_performance.ipynb\" target=\"_parent\"><img src=\"https://colab.research.google.com/assets/colab-badge.svg\" alt=\"Open In Colab\"/></a>"
      ]
    },
    {
      "cell_type": "markdown",
      "metadata": {
        "id": "13ce0267"
      },
      "source": [
        "# Using R for data analysis # \n",
        "\n",
        "R is a powerful statistical tool used frequently in science academia. Similar to Python, to use R effectively, we must use a variety of libraries.  \n",
        "\n",
        "**Run the cell block below to install and load the necessary packages**"
      ],
      "id": "13ce0267"
    },
    {
      "cell_type": "code",
      "metadata": {
        "id": "92ad1352",
        "colab": {
          "base_uri": "https://localhost:8080/"
        },
        "outputId": "15d5ea8a-ea77-4c0c-92f2-ebf587895c83"
      },
      "source": [
        "# this code needs to be run once to install the packages on your system\n",
        "install.packages(\"tidyverse\")\n",
        "install.packages(\"ggplot2\")\n",
        "install.packages(\"fastDummies\")"
      ],
      "id": "92ad1352",
      "execution_count": null,
      "outputs": [
        {
          "output_type": "stream",
          "text": [
            "Installing package into ‘/usr/local/lib/R/site-library’\n",
            "(as ‘lib’ is unspecified)\n",
            "\n",
            "Installing package into ‘/usr/local/lib/R/site-library’\n",
            "(as ‘lib’ is unspecified)\n",
            "\n",
            "Installing package into ‘/usr/local/lib/R/site-library’\n",
            "(as ‘lib’ is unspecified)\n",
            "\n"
          ],
          "name": "stderr"
        }
      ]
    },
    {
      "cell_type": "markdown",
      "metadata": {
        "id": "3wLXFZ00rPXM"
      },
      "source": [
        "**Run the cell block below here to open the packages ready for use**"
      ],
      "id": "3wLXFZ00rPXM"
    },
    {
      "cell_type": "code",
      "metadata": {
        "id": "7ad1e610",
        "colab": {
          "base_uri": "https://localhost:8080/"
        },
        "outputId": "7a4ed3dc-5993-4e3f-d3ac-28cf64631d51"
      },
      "source": [
        "# this code needs to be run to open the packages \n",
        "\n",
        "# tidyverse includes dpylr which includes all the functions such as mutate, select, summarise etc\n",
        "library(\"tidyverse\")\n",
        "\n",
        "# ggplot2 contains all the visualisation tools (similar to matplotlib)\n",
        "library(\"ggplot2\")\n",
        "\n",
        "# fastdummies is for dummy coding\n",
        "library(\"fastDummies\")\n",
        "\n",
        "# displaying in real numbers \n",
        "\n",
        "options(scipen = 999)"
      ],
      "id": "7ad1e610",
      "execution_count": null,
      "outputs": [
        {
          "output_type": "stream",
          "text": [
            "Warning message in system(\"timedatectl\", intern = TRUE):\n",
            "“running command 'timedatectl' had status 1”\n",
            "── \u001b[1mAttaching packages\u001b[22m ─────────────────────────────────────── tidyverse 1.3.1 ──\n",
            "\n",
            "\u001b[32m✔\u001b[39m \u001b[34mggplot2\u001b[39m 3.3.5     \u001b[32m✔\u001b[39m \u001b[34mpurrr  \u001b[39m 0.3.4\n",
            "\u001b[32m✔\u001b[39m \u001b[34mtibble \u001b[39m 3.1.2     \u001b[32m✔\u001b[39m \u001b[34mdplyr  \u001b[39m 1.0.6\n",
            "\u001b[32m✔\u001b[39m \u001b[34mtidyr  \u001b[39m 1.1.3     \u001b[32m✔\u001b[39m \u001b[34mstringr\u001b[39m 1.4.0\n",
            "\u001b[32m✔\u001b[39m \u001b[34mreadr  \u001b[39m 1.4.0     \u001b[32m✔\u001b[39m \u001b[34mforcats\u001b[39m 0.5.1\n",
            "\n",
            "── \u001b[1mConflicts\u001b[22m ────────────────────────────────────────── tidyverse_conflicts() ──\n",
            "\u001b[31m✖\u001b[39m \u001b[34mdplyr\u001b[39m::\u001b[32mfilter()\u001b[39m masks \u001b[34mstats\u001b[39m::filter()\n",
            "\u001b[31m✖\u001b[39m \u001b[34mdplyr\u001b[39m::\u001b[32mlag()\u001b[39m    masks \u001b[34mstats\u001b[39m::lag()\n",
            "\n"
          ],
          "name": "stderr"
        }
      ]
    },
    {
      "cell_type": "markdown",
      "metadata": {
        "id": "e7e51ad2"
      },
      "source": [
        "### In this worksheet you will be analysing student performance data and performing a multiple linear regression. ###\n",
        "\n",
        "url = \"https://raw.githubusercontent.com/lilaceri/Working-with-data-/main/exams.csv\"\n",
        "\n",
        "### Setting variables ### \n",
        "\n",
        "```variable <- ...```\n",
        "\n",
        "**In R we use <- instead of using = python** \n",
        "\n",
        "### Reading data from our computer into a variable ###\n",
        "\n",
        "```df <- read_csv(\"data.csv\")```\n",
        "\n",
        "### Reading data from a URL into a variable ###\n",
        "\n",
        "```df <- read_csv(\"https://raw.github.com/file.csv\")```\n",
        "\n",
        "### Look at the first few rows of the dataset ###\n",
        "\n",
        "```head(data)```\n",
        "\n",
        "### Summary of the data ###\n",
        "\n",
        "```summary(data)```"
      ],
      "id": "e7e51ad2"
    },
    {
      "cell_type": "markdown",
      "metadata": {
        "id": "f80ef2b6"
      },
      "source": [
        "## Exercise 1\n",
        "---\n",
        "\n",
        "Read the data into a variable and have a look at it. "
      ],
      "id": "f80ef2b6"
    },
    {
      "cell_type": "code",
      "metadata": {
        "id": "278012b6",
        "colab": {
          "base_uri": "https://localhost:8080/",
          "height": 523
        },
        "outputId": "7ec9f642-0017-45a0-cfea-3c7a1305e363"
      },
      "source": [
        "df <- read_csv(\"https://raw.githubusercontent.com/lilaceri/Working-with-data-/main/exams.csv\")\n",
        "head(df)"
      ],
      "id": "278012b6",
      "execution_count": null,
      "outputs": [
        {
          "output_type": "stream",
          "text": [
            "\n",
            "\u001b[36m──\u001b[39m \u001b[1m\u001b[1mColumn specification\u001b[1m\u001b[22m \u001b[36m────────────────────────────────────────────────────────\u001b[39m\n",
            "cols(\n",
            "  gender = \u001b[31mcol_character()\u001b[39m,\n",
            "  ethnicity = \u001b[31mcol_character()\u001b[39m,\n",
            "  parental_education = \u001b[31mcol_character()\u001b[39m,\n",
            "  lunch = \u001b[31mcol_character()\u001b[39m,\n",
            "  preparation_course = \u001b[31mcol_character()\u001b[39m,\n",
            "  math_score = \u001b[32mcol_double()\u001b[39m,\n",
            "  reading_score = \u001b[32mcol_double()\u001b[39m,\n",
            "  writing_score = \u001b[32mcol_double()\u001b[39m\n",
            ")\n",
            "\n",
            "\n"
          ],
          "name": "stderr"
        },
        {
          "output_type": "display_data",
          "data": {
            "text/plain": [
              "  gender ethnicity parental_education lunch        preparation_course\n",
              "1 female group E   some college       free/reduced none              \n",
              "2 male   group C   some college       standard     completed         \n",
              "3 female group B   some high school   free/reduced completed         \n",
              "4 male   group D   some high school   standard     completed         \n",
              "5 female group C   high school        free/reduced completed         \n",
              "6 female group B   some college       free/reduced none              \n",
              "  math_score reading_score writing_score\n",
              "1 65         76            71           \n",
              "2 75         72            69           \n",
              "3 62         56            61           \n",
              "4 60         60            59           \n",
              "5 34         54            55           \n",
              "6 53         66            61           "
            ],
            "text/latex": "A tibble: 6 × 8\n\\begin{tabular}{llllllll}\n gender & ethnicity & parental\\_education & lunch & preparation\\_course & math\\_score & reading\\_score & writing\\_score\\\\\n <chr> & <chr> & <chr> & <chr> & <chr> & <dbl> & <dbl> & <dbl>\\\\\n\\hline\n\t female & group E & some college     & free/reduced & none      & 65 & 76 & 71\\\\\n\t male   & group C & some college     & standard     & completed & 75 & 72 & 69\\\\\n\t female & group B & some high school & free/reduced & completed & 62 & 56 & 61\\\\\n\t male   & group D & some high school & standard     & completed & 60 & 60 & 59\\\\\n\t female & group C & high school      & free/reduced & completed & 34 & 54 & 55\\\\\n\t female & group B & some college     & free/reduced & none      & 53 & 66 & 61\\\\\n\\end{tabular}\n",
            "text/markdown": "\nA tibble: 6 × 8\n\n| gender &lt;chr&gt; | ethnicity &lt;chr&gt; | parental_education &lt;chr&gt; | lunch &lt;chr&gt; | preparation_course &lt;chr&gt; | math_score &lt;dbl&gt; | reading_score &lt;dbl&gt; | writing_score &lt;dbl&gt; |\n|---|---|---|---|---|---|---|---|\n| female | group E | some college     | free/reduced | none      | 65 | 76 | 71 |\n| male   | group C | some college     | standard     | completed | 75 | 72 | 69 |\n| female | group B | some high school | free/reduced | completed | 62 | 56 | 61 |\n| male   | group D | some high school | standard     | completed | 60 | 60 | 59 |\n| female | group C | high school      | free/reduced | completed | 34 | 54 | 55 |\n| female | group B | some college     | free/reduced | none      | 53 | 66 | 61 |\n\n",
            "text/html": [
              "<table class=\"dataframe\">\n",
              "<caption>A tibble: 6 × 8</caption>\n",
              "<thead>\n",
              "\t<tr><th scope=col>gender</th><th scope=col>ethnicity</th><th scope=col>parental_education</th><th scope=col>lunch</th><th scope=col>preparation_course</th><th scope=col>math_score</th><th scope=col>reading_score</th><th scope=col>writing_score</th></tr>\n",
              "\t<tr><th scope=col>&lt;chr&gt;</th><th scope=col>&lt;chr&gt;</th><th scope=col>&lt;chr&gt;</th><th scope=col>&lt;chr&gt;</th><th scope=col>&lt;chr&gt;</th><th scope=col>&lt;dbl&gt;</th><th scope=col>&lt;dbl&gt;</th><th scope=col>&lt;dbl&gt;</th></tr>\n",
              "</thead>\n",
              "<tbody>\n",
              "\t<tr><td>female</td><td>group E</td><td>some college    </td><td>free/reduced</td><td>none     </td><td>65</td><td>76</td><td>71</td></tr>\n",
              "\t<tr><td>male  </td><td>group C</td><td>some college    </td><td>standard    </td><td>completed</td><td>75</td><td>72</td><td>69</td></tr>\n",
              "\t<tr><td>female</td><td>group B</td><td>some high school</td><td>free/reduced</td><td>completed</td><td>62</td><td>56</td><td>61</td></tr>\n",
              "\t<tr><td>male  </td><td>group D</td><td>some high school</td><td>standard    </td><td>completed</td><td>60</td><td>60</td><td>59</td></tr>\n",
              "\t<tr><td>female</td><td>group C</td><td>high school     </td><td>free/reduced</td><td>completed</td><td>34</td><td>54</td><td>55</td></tr>\n",
              "\t<tr><td>female</td><td>group B</td><td>some college    </td><td>free/reduced</td><td>none     </td><td>53</td><td>66</td><td>61</td></tr>\n",
              "</tbody>\n",
              "</table>\n"
            ]
          },
          "metadata": {
            "tags": []
          }
        }
      ]
    },
    {
      "cell_type": "markdown",
      "metadata": {
        "id": "f22b0df3"
      },
      "source": [
        "# Lets have a look at the data ###\n",
        "\n",
        "We can use the `arrange()` function to sort the data\n",
        "\n",
        "```\n",
        "arranged_column <- arrange(data, column_name)\n",
        "head(arranged_column)\n",
        "tail(arranged_column)\n",
        "summary(arranged_column)\n",
        "```\n",
        "\n",
        "We can use the select() function to look at specific columns\n",
        "\n",
        "```\n",
        "column_specific <- select(data, column_1, column_2)\n",
        "column_specific\n",
        "```\n",
        "\n",
        "\n",
        "\n",
        "### Exercise 2 ###\n",
        "---\n",
        "\n",
        "Now have a go looking at the data in different ways, using the functions above:"
      ],
      "id": "f22b0df3"
    },
    {
      "cell_type": "code",
      "metadata": {
        "id": "e99d1914",
        "colab": {
          "base_uri": "https://localhost:8080/",
          "height": 787
        },
        "outputId": "b7df369d-011d-47d7-c2ed-ce8022e1a9b2"
      },
      "source": [
        "arranged_column <- arrange(df, ethnicity)\n",
        "head(arranged_column)\n",
        "tail(arranged_column)\n",
        "summary(arranged_column)\n",
        "\n",
        "# column_specific <- select(df, math_score, reading_score)\n",
        "# column_specific"
      ],
      "id": "e99d1914",
      "execution_count": null,
      "outputs": [
        {
          "output_type": "display_data",
          "data": {
            "text/plain": [
              "  gender ethnicity parental_education lunch        preparation_course\n",
              "1 female group A   some high school   free/reduced none              \n",
              "2 male   group A   master's degree    free/reduced completed         \n",
              "3 female group A   high school        free/reduced completed         \n",
              "4 female group A   some high school   free/reduced completed         \n",
              "5 male   group A   high school        free/reduced none              \n",
              "6 male   group A   high school        free/reduced none              \n",
              "  math_score reading_score writing_score\n",
              "1 38         57            52           \n",
              "2 58         60            56           \n",
              "3 71         85            81           \n",
              "4 65         84            80           \n",
              "5 37         46            38           \n",
              "6 57         59            53           "
            ],
            "text/latex": "A tibble: 6 × 8\n\\begin{tabular}{llllllll}\n gender & ethnicity & parental\\_education & lunch & preparation\\_course & math\\_score & reading\\_score & writing\\_score\\\\\n <chr> & <chr> & <chr> & <chr> & <chr> & <dbl> & <dbl> & <dbl>\\\\\n\\hline\n\t female & group A & some high school & free/reduced & none      & 38 & 57 & 52\\\\\n\t male   & group A & master's degree  & free/reduced & completed & 58 & 60 & 56\\\\\n\t female & group A & high school      & free/reduced & completed & 71 & 85 & 81\\\\\n\t female & group A & some high school & free/reduced & completed & 65 & 84 & 80\\\\\n\t male   & group A & high school      & free/reduced & none      & 37 & 46 & 38\\\\\n\t male   & group A & high school      & free/reduced & none      & 57 & 59 & 53\\\\\n\\end{tabular}\n",
            "text/markdown": "\nA tibble: 6 × 8\n\n| gender &lt;chr&gt; | ethnicity &lt;chr&gt; | parental_education &lt;chr&gt; | lunch &lt;chr&gt; | preparation_course &lt;chr&gt; | math_score &lt;dbl&gt; | reading_score &lt;dbl&gt; | writing_score &lt;dbl&gt; |\n|---|---|---|---|---|---|---|---|\n| female | group A | some high school | free/reduced | none      | 38 | 57 | 52 |\n| male   | group A | master's degree  | free/reduced | completed | 58 | 60 | 56 |\n| female | group A | high school      | free/reduced | completed | 71 | 85 | 81 |\n| female | group A | some high school | free/reduced | completed | 65 | 84 | 80 |\n| male   | group A | high school      | free/reduced | none      | 37 | 46 | 38 |\n| male   | group A | high school      | free/reduced | none      | 57 | 59 | 53 |\n\n",
            "text/html": [
              "<table class=\"dataframe\">\n",
              "<caption>A tibble: 6 × 8</caption>\n",
              "<thead>\n",
              "\t<tr><th scope=col>gender</th><th scope=col>ethnicity</th><th scope=col>parental_education</th><th scope=col>lunch</th><th scope=col>preparation_course</th><th scope=col>math_score</th><th scope=col>reading_score</th><th scope=col>writing_score</th></tr>\n",
              "\t<tr><th scope=col>&lt;chr&gt;</th><th scope=col>&lt;chr&gt;</th><th scope=col>&lt;chr&gt;</th><th scope=col>&lt;chr&gt;</th><th scope=col>&lt;chr&gt;</th><th scope=col>&lt;dbl&gt;</th><th scope=col>&lt;dbl&gt;</th><th scope=col>&lt;dbl&gt;</th></tr>\n",
              "</thead>\n",
              "<tbody>\n",
              "\t<tr><td>female</td><td>group A</td><td>some high school</td><td>free/reduced</td><td>none     </td><td>38</td><td>57</td><td>52</td></tr>\n",
              "\t<tr><td>male  </td><td>group A</td><td>master's degree </td><td>free/reduced</td><td>completed</td><td>58</td><td>60</td><td>56</td></tr>\n",
              "\t<tr><td>female</td><td>group A</td><td>high school     </td><td>free/reduced</td><td>completed</td><td>71</td><td>85</td><td>81</td></tr>\n",
              "\t<tr><td>female</td><td>group A</td><td>some high school</td><td>free/reduced</td><td>completed</td><td>65</td><td>84</td><td>80</td></tr>\n",
              "\t<tr><td>male  </td><td>group A</td><td>high school     </td><td>free/reduced</td><td>none     </td><td>37</td><td>46</td><td>38</td></tr>\n",
              "\t<tr><td>male  </td><td>group A</td><td>high school     </td><td>free/reduced</td><td>none     </td><td>57</td><td>59</td><td>53</td></tr>\n",
              "</tbody>\n",
              "</table>\n"
            ]
          },
          "metadata": {
            "tags": []
          }
        },
        {
          "output_type": "display_data",
          "data": {
            "text/plain": [
              "  gender ethnicity parental_education lunch        preparation_course\n",
              "1 female group E   some college       free/reduced completed         \n",
              "2 female group E   bachelor's degree  standard     completed         \n",
              "3 male   group E   associate's degree standard     completed         \n",
              "4 female group E   high school        standard     none              \n",
              "5 male   group E   some college       standard     none              \n",
              "6 male   group E   high school        standard     none              \n",
              "  math_score reading_score writing_score\n",
              "1  62        67            67           \n",
              "2  74        83            85           \n",
              "3  81        69            76           \n",
              "4  77        82            83           \n",
              "5 100        81            84           \n",
              "6  79        78            69           "
            ],
            "text/latex": "A tibble: 6 × 8\n\\begin{tabular}{llllllll}\n gender & ethnicity & parental\\_education & lunch & preparation\\_course & math\\_score & reading\\_score & writing\\_score\\\\\n <chr> & <chr> & <chr> & <chr> & <chr> & <dbl> & <dbl> & <dbl>\\\\\n\\hline\n\t female & group E & some college       & free/reduced & completed &  62 & 67 & 67\\\\\n\t female & group E & bachelor's degree  & standard     & completed &  74 & 83 & 85\\\\\n\t male   & group E & associate's degree & standard     & completed &  81 & 69 & 76\\\\\n\t female & group E & high school        & standard     & none      &  77 & 82 & 83\\\\\n\t male   & group E & some college       & standard     & none      & 100 & 81 & 84\\\\\n\t male   & group E & high school        & standard     & none      &  79 & 78 & 69\\\\\n\\end{tabular}\n",
            "text/markdown": "\nA tibble: 6 × 8\n\n| gender &lt;chr&gt; | ethnicity &lt;chr&gt; | parental_education &lt;chr&gt; | lunch &lt;chr&gt; | preparation_course &lt;chr&gt; | math_score &lt;dbl&gt; | reading_score &lt;dbl&gt; | writing_score &lt;dbl&gt; |\n|---|---|---|---|---|---|---|---|\n| female | group E | some college       | free/reduced | completed |  62 | 67 | 67 |\n| female | group E | bachelor's degree  | standard     | completed |  74 | 83 | 85 |\n| male   | group E | associate's degree | standard     | completed |  81 | 69 | 76 |\n| female | group E | high school        | standard     | none      |  77 | 82 | 83 |\n| male   | group E | some college       | standard     | none      | 100 | 81 | 84 |\n| male   | group E | high school        | standard     | none      |  79 | 78 | 69 |\n\n",
            "text/html": [
              "<table class=\"dataframe\">\n",
              "<caption>A tibble: 6 × 8</caption>\n",
              "<thead>\n",
              "\t<tr><th scope=col>gender</th><th scope=col>ethnicity</th><th scope=col>parental_education</th><th scope=col>lunch</th><th scope=col>preparation_course</th><th scope=col>math_score</th><th scope=col>reading_score</th><th scope=col>writing_score</th></tr>\n",
              "\t<tr><th scope=col>&lt;chr&gt;</th><th scope=col>&lt;chr&gt;</th><th scope=col>&lt;chr&gt;</th><th scope=col>&lt;chr&gt;</th><th scope=col>&lt;chr&gt;</th><th scope=col>&lt;dbl&gt;</th><th scope=col>&lt;dbl&gt;</th><th scope=col>&lt;dbl&gt;</th></tr>\n",
              "</thead>\n",
              "<tbody>\n",
              "\t<tr><td>female</td><td>group E</td><td>some college      </td><td>free/reduced</td><td>completed</td><td> 62</td><td>67</td><td>67</td></tr>\n",
              "\t<tr><td>female</td><td>group E</td><td>bachelor's degree </td><td>standard    </td><td>completed</td><td> 74</td><td>83</td><td>85</td></tr>\n",
              "\t<tr><td>male  </td><td>group E</td><td>associate's degree</td><td>standard    </td><td>completed</td><td> 81</td><td>69</td><td>76</td></tr>\n",
              "\t<tr><td>female</td><td>group E</td><td>high school       </td><td>standard    </td><td>none     </td><td> 77</td><td>82</td><td>83</td></tr>\n",
              "\t<tr><td>male  </td><td>group E</td><td>some college      </td><td>standard    </td><td>none     </td><td>100</td><td>81</td><td>84</td></tr>\n",
              "\t<tr><td>male  </td><td>group E</td><td>high school       </td><td>standard    </td><td>none     </td><td> 79</td><td>78</td><td>69</td></tr>\n",
              "</tbody>\n",
              "</table>\n"
            ]
          },
          "metadata": {
            "tags": []
          }
        },
        {
          "output_type": "display_data",
          "data": {
            "text/plain": [
              "    gender           ethnicity         parental_education    lunch          \n",
              " Length:1000        Length:1000        Length:1000        Length:1000       \n",
              " Class :character   Class :character   Class :character   Class :character  \n",
              " Mode  :character   Mode  :character   Mode  :character   Mode  :character  \n",
              "                                                                            \n",
              "                                                                            \n",
              "                                                                            \n",
              " preparation_course   math_score     reading_score    writing_score   \n",
              " Length:1000        Min.   : 13.00   Min.   : 16.00   Min.   : 12.00  \n",
              " Class :character   1st Qu.: 57.00   1st Qu.: 60.00   1st Qu.: 58.00  \n",
              " Mode  :character   Median : 67.00   Median : 70.00   Median : 69.00  \n",
              "                    Mean   : 66.86   Mean   : 69.72   Mean   : 68.58  \n",
              "                    3rd Qu.: 77.00   3rd Qu.: 80.00   3rd Qu.: 80.00  \n",
              "                    Max.   :100.00   Max.   :100.00   Max.   :100.00  "
            ]
          },
          "metadata": {
            "tags": []
          }
        }
      ]
    },
    {
      "cell_type": "markdown",
      "metadata": {
        "id": "ed7b8c0d"
      },
      "source": [
        "# Prepare the data for a linear regression\n",
        "\n",
        "Rows containing null, or error-prone values can affect statistics such as measures of central tendency (e.g. mean, median) and operations such as linear regressions, reducing accuracy.\n",
        "\n",
        "To check for null values we can use:\n",
        "\n",
        "``` is.na(data) ```\n",
        "\n",
        "To remove rows which contain null values we can use:  \n",
        "\n",
        "``` data <- na.omit(data) ```   \n",
        "or \n",
        "\n",
        "``` data <- drop_na(data) ```\n",
        "\n",
        "**Make sure to set it into the dataframe variable to save the change** \n",
        "\n",
        "To check a columns datatype:\n",
        "\n",
        "``` is.numeric(data$column) ```  \n",
        "``` is.character(data$column) ```\n",
        "\n",
        "To change columns datatype to numeric:\n",
        "\n",
        "``` data$column <- as.numeric(data$column) ```  \n",
        "**Make sure to set it into the dataframe variable to save the change**\n",
        "\n",
        "\n",
        "### Exercise 3\n",
        "---\n",
        "\n",
        "Check your dataframe for null values and remove rows with null values if necessary"
      ],
      "id": "ed7b8c0d"
    },
    {
      "cell_type": "code",
      "metadata": {
        "id": "7f261cc0",
        "colab": {
          "base_uri": "https://localhost:8080/",
          "height": 1000
        },
        "outputId": "44da7c88-4a9e-4865-e309-c517556c4b37"
      },
      "source": [
        "is.numeric(df$gender)\n",
        "is.na(df)"
      ],
      "id": "7f261cc0",
      "execution_count": null,
      "outputs": [
        {
          "output_type": "display_data",
          "data": {
            "text/plain": [
              "[1] FALSE"
            ],
            "text/latex": "FALSE",
            "text/markdown": "FALSE",
            "text/html": [
              "FALSE"
            ]
          },
          "metadata": {
            "tags": []
          }
        },
        {
          "output_type": "display_data",
          "data": {
            "text/plain": [
              "      gender ethnicity parental_education lunch preparation_course math_score\n",
              " [1,] FALSE  FALSE     FALSE              FALSE FALSE              FALSE     \n",
              " [2,] FALSE  FALSE     FALSE              FALSE FALSE              FALSE     \n",
              " [3,] FALSE  FALSE     FALSE              FALSE FALSE              FALSE     \n",
              " [4,] FALSE  FALSE     FALSE              FALSE FALSE              FALSE     \n",
              " [5,] FALSE  FALSE     FALSE              FALSE FALSE              FALSE     \n",
              " [6,] FALSE  FALSE     FALSE              FALSE FALSE              FALSE     \n",
              " [7,] FALSE  FALSE     FALSE              FALSE FALSE              FALSE     \n",
              " [8,] FALSE  FALSE     FALSE              FALSE FALSE              FALSE     \n",
              " [9,] FALSE  FALSE     FALSE              FALSE FALSE              FALSE     \n",
              "[10,] FALSE  FALSE     FALSE              FALSE FALSE              FALSE     \n",
              "[11,] FALSE  FALSE     FALSE              FALSE FALSE              FALSE     \n",
              "[12,] FALSE  FALSE     FALSE              FALSE FALSE              FALSE     \n",
              "[13,] FALSE  FALSE     FALSE              FALSE FALSE              FALSE     \n",
              "[14,] FALSE  FALSE     FALSE              FALSE FALSE              FALSE     \n",
              "[15,] FALSE  FALSE     FALSE              FALSE FALSE              FALSE     \n",
              "[16,] FALSE  FALSE     FALSE              FALSE FALSE              FALSE     \n",
              "[17,] FALSE  FALSE     FALSE              FALSE FALSE              FALSE     \n",
              "[18,] FALSE  FALSE     FALSE              FALSE FALSE              FALSE     \n",
              "[19,] FALSE  FALSE     FALSE              FALSE FALSE              FALSE     \n",
              "[20,] FALSE  FALSE     FALSE              FALSE FALSE              FALSE     \n",
              "[21,] FALSE  FALSE     FALSE              FALSE FALSE              FALSE     \n",
              "[22,] FALSE  FALSE     FALSE              FALSE FALSE              FALSE     \n",
              "[23,] FALSE  FALSE     FALSE              FALSE FALSE              FALSE     \n",
              "[24,] FALSE  FALSE     FALSE              FALSE FALSE              FALSE     \n",
              "[25,] FALSE  FALSE     FALSE              FALSE FALSE              FALSE     \n",
              "[26,] FALSE  FALSE     FALSE              FALSE FALSE              FALSE     \n",
              "[27,] FALSE  FALSE     FALSE              FALSE FALSE              FALSE     \n",
              "[28,] FALSE  FALSE     FALSE              FALSE FALSE              FALSE     \n",
              "[29,] FALSE  FALSE     FALSE              FALSE FALSE              FALSE     \n",
              "[30,] FALSE  FALSE     FALSE              FALSE FALSE              FALSE     \n",
              "[31,] ⋮      ⋮         ⋮                  ⋮     ⋮                  ⋮         \n",
              "[32,] FALSE  FALSE     FALSE              FALSE FALSE              FALSE     \n",
              "[33,] FALSE  FALSE     FALSE              FALSE FALSE              FALSE     \n",
              "[34,] FALSE  FALSE     FALSE              FALSE FALSE              FALSE     \n",
              "[35,] FALSE  FALSE     FALSE              FALSE FALSE              FALSE     \n",
              "[36,] FALSE  FALSE     FALSE              FALSE FALSE              FALSE     \n",
              "[37,] FALSE  FALSE     FALSE              FALSE FALSE              FALSE     \n",
              "[38,] FALSE  FALSE     FALSE              FALSE FALSE              FALSE     \n",
              "[39,] FALSE  FALSE     FALSE              FALSE FALSE              FALSE     \n",
              "[40,] FALSE  FALSE     FALSE              FALSE FALSE              FALSE     \n",
              "[41,] FALSE  FALSE     FALSE              FALSE FALSE              FALSE     \n",
              "[42,] FALSE  FALSE     FALSE              FALSE FALSE              FALSE     \n",
              "[43,] FALSE  FALSE     FALSE              FALSE FALSE              FALSE     \n",
              "[44,] FALSE  FALSE     FALSE              FALSE FALSE              FALSE     \n",
              "[45,] FALSE  FALSE     FALSE              FALSE FALSE              FALSE     \n",
              "[46,] FALSE  FALSE     FALSE              FALSE FALSE              FALSE     \n",
              "[47,] FALSE  FALSE     FALSE              FALSE FALSE              FALSE     \n",
              "[48,] FALSE  FALSE     FALSE              FALSE FALSE              FALSE     \n",
              "[49,] FALSE  FALSE     FALSE              FALSE FALSE              FALSE     \n",
              "[50,] FALSE  FALSE     FALSE              FALSE FALSE              FALSE     \n",
              "[51,] FALSE  FALSE     FALSE              FALSE FALSE              FALSE     \n",
              "[52,] FALSE  FALSE     FALSE              FALSE FALSE              FALSE     \n",
              "[53,] FALSE  FALSE     FALSE              FALSE FALSE              FALSE     \n",
              "[54,] FALSE  FALSE     FALSE              FALSE FALSE              FALSE     \n",
              "[55,] FALSE  FALSE     FALSE              FALSE FALSE              FALSE     \n",
              "[56,] FALSE  FALSE     FALSE              FALSE FALSE              FALSE     \n",
              "[57,] FALSE  FALSE     FALSE              FALSE FALSE              FALSE     \n",
              "[58,] FALSE  FALSE     FALSE              FALSE FALSE              FALSE     \n",
              "[59,] FALSE  FALSE     FALSE              FALSE FALSE              FALSE     \n",
              "[60,] FALSE  FALSE     FALSE              FALSE FALSE              FALSE     \n",
              "[61,] FALSE  FALSE     FALSE              FALSE FALSE              FALSE     \n",
              "      reading_score writing_score\n",
              " [1,] FALSE         FALSE        \n",
              " [2,] FALSE         FALSE        \n",
              " [3,] FALSE         FALSE        \n",
              " [4,] FALSE         FALSE        \n",
              " [5,] FALSE         FALSE        \n",
              " [6,] FALSE         FALSE        \n",
              " [7,] FALSE         FALSE        \n",
              " [8,] FALSE         FALSE        \n",
              " [9,] FALSE         FALSE        \n",
              "[10,] FALSE         FALSE        \n",
              "[11,] FALSE         FALSE        \n",
              "[12,] FALSE         FALSE        \n",
              "[13,] FALSE         FALSE        \n",
              "[14,] FALSE         FALSE        \n",
              "[15,] FALSE         FALSE        \n",
              "[16,] FALSE         FALSE        \n",
              "[17,] FALSE         FALSE        \n",
              "[18,] FALSE         FALSE        \n",
              "[19,] FALSE         FALSE        \n",
              "[20,] FALSE         FALSE        \n",
              "[21,] FALSE         FALSE        \n",
              "[22,] FALSE         FALSE        \n",
              "[23,] FALSE         FALSE        \n",
              "[24,] FALSE         FALSE        \n",
              "[25,] FALSE         FALSE        \n",
              "[26,] FALSE         FALSE        \n",
              "[27,] FALSE         FALSE        \n",
              "[28,] FALSE         FALSE        \n",
              "[29,] FALSE         FALSE        \n",
              "[30,] FALSE         FALSE        \n",
              "[31,] ⋮             ⋮            \n",
              "[32,] FALSE         FALSE        \n",
              "[33,] FALSE         FALSE        \n",
              "[34,] FALSE         FALSE        \n",
              "[35,] FALSE         FALSE        \n",
              "[36,] FALSE         FALSE        \n",
              "[37,] FALSE         FALSE        \n",
              "[38,] FALSE         FALSE        \n",
              "[39,] FALSE         FALSE        \n",
              "[40,] FALSE         FALSE        \n",
              "[41,] FALSE         FALSE        \n",
              "[42,] FALSE         FALSE        \n",
              "[43,] FALSE         FALSE        \n",
              "[44,] FALSE         FALSE        \n",
              "[45,] FALSE         FALSE        \n",
              "[46,] FALSE         FALSE        \n",
              "[47,] FALSE         FALSE        \n",
              "[48,] FALSE         FALSE        \n",
              "[49,] FALSE         FALSE        \n",
              "[50,] FALSE         FALSE        \n",
              "[51,] FALSE         FALSE        \n",
              "[52,] FALSE         FALSE        \n",
              "[53,] FALSE         FALSE        \n",
              "[54,] FALSE         FALSE        \n",
              "[55,] FALSE         FALSE        \n",
              "[56,] FALSE         FALSE        \n",
              "[57,] FALSE         FALSE        \n",
              "[58,] FALSE         FALSE        \n",
              "[59,] FALSE         FALSE        \n",
              "[60,] FALSE         FALSE        \n",
              "[61,] FALSE         FALSE        "
            ],
            "text/latex": "A matrix: 1000 × 8 of type lgl\n\\begin{tabular}{llllllll}\n gender & ethnicity & parental\\_education & lunch & preparation\\_course & math\\_score & reading\\_score & writing\\_score\\\\\n\\hline\n\t FALSE & FALSE & FALSE & FALSE & FALSE & FALSE & FALSE & FALSE\\\\\n\t FALSE & FALSE & FALSE & FALSE & FALSE & FALSE & FALSE & FALSE\\\\\n\t FALSE & FALSE & FALSE & FALSE & FALSE & FALSE & FALSE & FALSE\\\\\n\t FALSE & FALSE & FALSE & FALSE & FALSE & FALSE & FALSE & FALSE\\\\\n\t FALSE & FALSE & FALSE & FALSE & FALSE & FALSE & FALSE & FALSE\\\\\n\t FALSE & FALSE & FALSE & FALSE & FALSE & FALSE & FALSE & FALSE\\\\\n\t FALSE & FALSE & FALSE & FALSE & FALSE & FALSE & FALSE & FALSE\\\\\n\t FALSE & FALSE & FALSE & FALSE & FALSE & FALSE & FALSE & FALSE\\\\\n\t FALSE & FALSE & FALSE & FALSE & FALSE & FALSE & FALSE & FALSE\\\\\n\t FALSE & FALSE & FALSE & FALSE & FALSE & FALSE & FALSE & FALSE\\\\\n\t FALSE & FALSE & FALSE & FALSE & FALSE & FALSE & FALSE & FALSE\\\\\n\t FALSE & FALSE & FALSE & FALSE & FALSE & FALSE & FALSE & FALSE\\\\\n\t FALSE & FALSE & FALSE & FALSE & FALSE & FALSE & FALSE & FALSE\\\\\n\t FALSE & FALSE & FALSE & FALSE & FALSE & FALSE & FALSE & FALSE\\\\\n\t FALSE & FALSE & FALSE & FALSE & FALSE & FALSE & FALSE & FALSE\\\\\n\t FALSE & FALSE & FALSE & FALSE & FALSE & FALSE & FALSE & FALSE\\\\\n\t FALSE & FALSE & FALSE & FALSE & FALSE & FALSE & FALSE & FALSE\\\\\n\t FALSE & FALSE & FALSE & FALSE & FALSE & FALSE & FALSE & FALSE\\\\\n\t FALSE & FALSE & FALSE & FALSE & FALSE & FALSE & FALSE & FALSE\\\\\n\t FALSE & FALSE & FALSE & FALSE & FALSE & FALSE & FALSE & FALSE\\\\\n\t FALSE & FALSE & FALSE & FALSE & FALSE & FALSE & FALSE & FALSE\\\\\n\t FALSE & FALSE & FALSE & FALSE & FALSE & FALSE & FALSE & FALSE\\\\\n\t FALSE & FALSE & FALSE & FALSE & FALSE & FALSE & FALSE & FALSE\\\\\n\t FALSE & FALSE & FALSE & FALSE & FALSE & FALSE & FALSE & FALSE\\\\\n\t FALSE & FALSE & FALSE & FALSE & FALSE & FALSE & FALSE & FALSE\\\\\n\t FALSE & FALSE & FALSE & FALSE & FALSE & FALSE & FALSE & FALSE\\\\\n\t FALSE & FALSE & FALSE & FALSE & FALSE & FALSE & FALSE & FALSE\\\\\n\t FALSE & FALSE & FALSE & FALSE & FALSE & FALSE & FALSE & FALSE\\\\\n\t FALSE & FALSE & FALSE & FALSE & FALSE & FALSE & FALSE & FALSE\\\\\n\t FALSE & FALSE & FALSE & FALSE & FALSE & FALSE & FALSE & FALSE\\\\\n\t ⋮ & ⋮ & ⋮ & ⋮ & ⋮ & ⋮ & ⋮ & ⋮\\\\\n\t FALSE & FALSE & FALSE & FALSE & FALSE & FALSE & FALSE & FALSE\\\\\n\t FALSE & FALSE & FALSE & FALSE & FALSE & FALSE & FALSE & FALSE\\\\\n\t FALSE & FALSE & FALSE & FALSE & FALSE & FALSE & FALSE & FALSE\\\\\n\t FALSE & FALSE & FALSE & FALSE & FALSE & FALSE & FALSE & FALSE\\\\\n\t FALSE & FALSE & FALSE & FALSE & FALSE & FALSE & FALSE & FALSE\\\\\n\t FALSE & FALSE & FALSE & FALSE & FALSE & FALSE & FALSE & FALSE\\\\\n\t FALSE & FALSE & FALSE & FALSE & FALSE & FALSE & FALSE & FALSE\\\\\n\t FALSE & FALSE & FALSE & FALSE & FALSE & FALSE & FALSE & FALSE\\\\\n\t FALSE & FALSE & FALSE & FALSE & FALSE & FALSE & FALSE & FALSE\\\\\n\t FALSE & FALSE & FALSE & FALSE & FALSE & FALSE & FALSE & FALSE\\\\\n\t FALSE & FALSE & FALSE & FALSE & FALSE & FALSE & FALSE & FALSE\\\\\n\t FALSE & FALSE & FALSE & FALSE & FALSE & FALSE & FALSE & FALSE\\\\\n\t FALSE & FALSE & FALSE & FALSE & FALSE & FALSE & FALSE & FALSE\\\\\n\t FALSE & FALSE & FALSE & FALSE & FALSE & FALSE & FALSE & FALSE\\\\\n\t FALSE & FALSE & FALSE & FALSE & FALSE & FALSE & FALSE & FALSE\\\\\n\t FALSE & FALSE & FALSE & FALSE & FALSE & FALSE & FALSE & FALSE\\\\\n\t FALSE & FALSE & FALSE & FALSE & FALSE & FALSE & FALSE & FALSE\\\\\n\t FALSE & FALSE & FALSE & FALSE & FALSE & FALSE & FALSE & FALSE\\\\\n\t FALSE & FALSE & FALSE & FALSE & FALSE & FALSE & FALSE & FALSE\\\\\n\t FALSE & FALSE & FALSE & FALSE & FALSE & FALSE & FALSE & FALSE\\\\\n\t FALSE & FALSE & FALSE & FALSE & FALSE & FALSE & FALSE & FALSE\\\\\n\t FALSE & FALSE & FALSE & FALSE & FALSE & FALSE & FALSE & FALSE\\\\\n\t FALSE & FALSE & FALSE & FALSE & FALSE & FALSE & FALSE & FALSE\\\\\n\t FALSE & FALSE & FALSE & FALSE & FALSE & FALSE & FALSE & FALSE\\\\\n\t FALSE & FALSE & FALSE & FALSE & FALSE & FALSE & FALSE & FALSE\\\\\n\t FALSE & FALSE & FALSE & FALSE & FALSE & FALSE & FALSE & FALSE\\\\\n\t FALSE & FALSE & FALSE & FALSE & FALSE & FALSE & FALSE & FALSE\\\\\n\t FALSE & FALSE & FALSE & FALSE & FALSE & FALSE & FALSE & FALSE\\\\\n\t FALSE & FALSE & FALSE & FALSE & FALSE & FALSE & FALSE & FALSE\\\\\n\t FALSE & FALSE & FALSE & FALSE & FALSE & FALSE & FALSE & FALSE\\\\\n\\end{tabular}\n",
            "text/markdown": "\nA matrix: 1000 × 8 of type lgl\n\n| gender | ethnicity | parental_education | lunch | preparation_course | math_score | reading_score | writing_score |\n|---|---|---|---|---|---|---|---|\n| FALSE | FALSE | FALSE | FALSE | FALSE | FALSE | FALSE | FALSE |\n| FALSE | FALSE | FALSE | FALSE | FALSE | FALSE | FALSE | FALSE |\n| FALSE | FALSE | FALSE | FALSE | FALSE | FALSE | FALSE | FALSE |\n| FALSE | FALSE | FALSE | FALSE | FALSE | FALSE | FALSE | FALSE |\n| FALSE | FALSE | FALSE | FALSE | FALSE | FALSE | FALSE | FALSE |\n| FALSE | FALSE | FALSE | FALSE | FALSE | FALSE | FALSE | FALSE |\n| FALSE | FALSE | FALSE | FALSE | FALSE | FALSE | FALSE | FALSE |\n| FALSE | FALSE | FALSE | FALSE | FALSE | FALSE | FALSE | FALSE |\n| FALSE | FALSE | FALSE | FALSE | FALSE | FALSE | FALSE | FALSE |\n| FALSE | FALSE | FALSE | FALSE | FALSE | FALSE | FALSE | FALSE |\n| FALSE | FALSE | FALSE | FALSE | FALSE | FALSE | FALSE | FALSE |\n| FALSE | FALSE | FALSE | FALSE | FALSE | FALSE | FALSE | FALSE |\n| FALSE | FALSE | FALSE | FALSE | FALSE | FALSE | FALSE | FALSE |\n| FALSE | FALSE | FALSE | FALSE | FALSE | FALSE | FALSE | FALSE |\n| FALSE | FALSE | FALSE | FALSE | FALSE | FALSE | FALSE | FALSE |\n| FALSE | FALSE | FALSE | FALSE | FALSE | FALSE | FALSE | FALSE |\n| FALSE | FALSE | FALSE | FALSE | FALSE | FALSE | FALSE | FALSE |\n| FALSE | FALSE | FALSE | FALSE | FALSE | FALSE | FALSE | FALSE |\n| FALSE | FALSE | FALSE | FALSE | FALSE | FALSE | FALSE | FALSE |\n| FALSE | FALSE | FALSE | FALSE | FALSE | FALSE | FALSE | FALSE |\n| FALSE | FALSE | FALSE | FALSE | FALSE | FALSE | FALSE | FALSE |\n| FALSE | FALSE | FALSE | FALSE | FALSE | FALSE | FALSE | FALSE |\n| FALSE | FALSE | FALSE | FALSE | FALSE | FALSE | FALSE | FALSE |\n| FALSE | FALSE | FALSE | FALSE | FALSE | FALSE | FALSE | FALSE |\n| FALSE | FALSE | FALSE | FALSE | FALSE | FALSE | FALSE | FALSE |\n| FALSE | FALSE | FALSE | FALSE | FALSE | FALSE | FALSE | FALSE |\n| FALSE | FALSE | FALSE | FALSE | FALSE | FALSE | FALSE | FALSE |\n| FALSE | FALSE | FALSE | FALSE | FALSE | FALSE | FALSE | FALSE |\n| FALSE | FALSE | FALSE | FALSE | FALSE | FALSE | FALSE | FALSE |\n| FALSE | FALSE | FALSE | FALSE | FALSE | FALSE | FALSE | FALSE |\n| ⋮ | ⋮ | ⋮ | ⋮ | ⋮ | ⋮ | ⋮ | ⋮ |\n| FALSE | FALSE | FALSE | FALSE | FALSE | FALSE | FALSE | FALSE |\n| FALSE | FALSE | FALSE | FALSE | FALSE | FALSE | FALSE | FALSE |\n| FALSE | FALSE | FALSE | FALSE | FALSE | FALSE | FALSE | FALSE |\n| FALSE | FALSE | FALSE | FALSE | FALSE | FALSE | FALSE | FALSE |\n| FALSE | FALSE | FALSE | FALSE | FALSE | FALSE | FALSE | FALSE |\n| FALSE | FALSE | FALSE | FALSE | FALSE | FALSE | FALSE | FALSE |\n| FALSE | FALSE | FALSE | FALSE | FALSE | FALSE | FALSE | FALSE |\n| FALSE | FALSE | FALSE | FALSE | FALSE | FALSE | FALSE | FALSE |\n| FALSE | FALSE | FALSE | FALSE | FALSE | FALSE | FALSE | FALSE |\n| FALSE | FALSE | FALSE | FALSE | FALSE | FALSE | FALSE | FALSE |\n| FALSE | FALSE | FALSE | FALSE | FALSE | FALSE | FALSE | FALSE |\n| FALSE | FALSE | FALSE | FALSE | FALSE | FALSE | FALSE | FALSE |\n| FALSE | FALSE | FALSE | FALSE | FALSE | FALSE | FALSE | FALSE |\n| FALSE | FALSE | FALSE | FALSE | FALSE | FALSE | FALSE | FALSE |\n| FALSE | FALSE | FALSE | FALSE | FALSE | FALSE | FALSE | FALSE |\n| FALSE | FALSE | FALSE | FALSE | FALSE | FALSE | FALSE | FALSE |\n| FALSE | FALSE | FALSE | FALSE | FALSE | FALSE | FALSE | FALSE |\n| FALSE | FALSE | FALSE | FALSE | FALSE | FALSE | FALSE | FALSE |\n| FALSE | FALSE | FALSE | FALSE | FALSE | FALSE | FALSE | FALSE |\n| FALSE | FALSE | FALSE | FALSE | FALSE | FALSE | FALSE | FALSE |\n| FALSE | FALSE | FALSE | FALSE | FALSE | FALSE | FALSE | FALSE |\n| FALSE | FALSE | FALSE | FALSE | FALSE | FALSE | FALSE | FALSE |\n| FALSE | FALSE | FALSE | FALSE | FALSE | FALSE | FALSE | FALSE |\n| FALSE | FALSE | FALSE | FALSE | FALSE | FALSE | FALSE | FALSE |\n| FALSE | FALSE | FALSE | FALSE | FALSE | FALSE | FALSE | FALSE |\n| FALSE | FALSE | FALSE | FALSE | FALSE | FALSE | FALSE | FALSE |\n| FALSE | FALSE | FALSE | FALSE | FALSE | FALSE | FALSE | FALSE |\n| FALSE | FALSE | FALSE | FALSE | FALSE | FALSE | FALSE | FALSE |\n| FALSE | FALSE | FALSE | FALSE | FALSE | FALSE | FALSE | FALSE |\n| FALSE | FALSE | FALSE | FALSE | FALSE | FALSE | FALSE | FALSE |\n\n",
            "text/html": [
              "<table class=\"dataframe\">\n",
              "<caption>A matrix: 1000 × 8 of type lgl</caption>\n",
              "<thead>\n",
              "\t<tr><th scope=col>gender</th><th scope=col>ethnicity</th><th scope=col>parental_education</th><th scope=col>lunch</th><th scope=col>preparation_course</th><th scope=col>math_score</th><th scope=col>reading_score</th><th scope=col>writing_score</th></tr>\n",
              "</thead>\n",
              "<tbody>\n",
              "\t<tr><td>FALSE</td><td>FALSE</td><td>FALSE</td><td>FALSE</td><td>FALSE</td><td>FALSE</td><td>FALSE</td><td>FALSE</td></tr>\n",
              "\t<tr><td>FALSE</td><td>FALSE</td><td>FALSE</td><td>FALSE</td><td>FALSE</td><td>FALSE</td><td>FALSE</td><td>FALSE</td></tr>\n",
              "\t<tr><td>FALSE</td><td>FALSE</td><td>FALSE</td><td>FALSE</td><td>FALSE</td><td>FALSE</td><td>FALSE</td><td>FALSE</td></tr>\n",
              "\t<tr><td>FALSE</td><td>FALSE</td><td>FALSE</td><td>FALSE</td><td>FALSE</td><td>FALSE</td><td>FALSE</td><td>FALSE</td></tr>\n",
              "\t<tr><td>FALSE</td><td>FALSE</td><td>FALSE</td><td>FALSE</td><td>FALSE</td><td>FALSE</td><td>FALSE</td><td>FALSE</td></tr>\n",
              "\t<tr><td>FALSE</td><td>FALSE</td><td>FALSE</td><td>FALSE</td><td>FALSE</td><td>FALSE</td><td>FALSE</td><td>FALSE</td></tr>\n",
              "\t<tr><td>FALSE</td><td>FALSE</td><td>FALSE</td><td>FALSE</td><td>FALSE</td><td>FALSE</td><td>FALSE</td><td>FALSE</td></tr>\n",
              "\t<tr><td>FALSE</td><td>FALSE</td><td>FALSE</td><td>FALSE</td><td>FALSE</td><td>FALSE</td><td>FALSE</td><td>FALSE</td></tr>\n",
              "\t<tr><td>FALSE</td><td>FALSE</td><td>FALSE</td><td>FALSE</td><td>FALSE</td><td>FALSE</td><td>FALSE</td><td>FALSE</td></tr>\n",
              "\t<tr><td>FALSE</td><td>FALSE</td><td>FALSE</td><td>FALSE</td><td>FALSE</td><td>FALSE</td><td>FALSE</td><td>FALSE</td></tr>\n",
              "\t<tr><td>FALSE</td><td>FALSE</td><td>FALSE</td><td>FALSE</td><td>FALSE</td><td>FALSE</td><td>FALSE</td><td>FALSE</td></tr>\n",
              "\t<tr><td>FALSE</td><td>FALSE</td><td>FALSE</td><td>FALSE</td><td>FALSE</td><td>FALSE</td><td>FALSE</td><td>FALSE</td></tr>\n",
              "\t<tr><td>FALSE</td><td>FALSE</td><td>FALSE</td><td>FALSE</td><td>FALSE</td><td>FALSE</td><td>FALSE</td><td>FALSE</td></tr>\n",
              "\t<tr><td>FALSE</td><td>FALSE</td><td>FALSE</td><td>FALSE</td><td>FALSE</td><td>FALSE</td><td>FALSE</td><td>FALSE</td></tr>\n",
              "\t<tr><td>FALSE</td><td>FALSE</td><td>FALSE</td><td>FALSE</td><td>FALSE</td><td>FALSE</td><td>FALSE</td><td>FALSE</td></tr>\n",
              "\t<tr><td>FALSE</td><td>FALSE</td><td>FALSE</td><td>FALSE</td><td>FALSE</td><td>FALSE</td><td>FALSE</td><td>FALSE</td></tr>\n",
              "\t<tr><td>FALSE</td><td>FALSE</td><td>FALSE</td><td>FALSE</td><td>FALSE</td><td>FALSE</td><td>FALSE</td><td>FALSE</td></tr>\n",
              "\t<tr><td>FALSE</td><td>FALSE</td><td>FALSE</td><td>FALSE</td><td>FALSE</td><td>FALSE</td><td>FALSE</td><td>FALSE</td></tr>\n",
              "\t<tr><td>FALSE</td><td>FALSE</td><td>FALSE</td><td>FALSE</td><td>FALSE</td><td>FALSE</td><td>FALSE</td><td>FALSE</td></tr>\n",
              "\t<tr><td>FALSE</td><td>FALSE</td><td>FALSE</td><td>FALSE</td><td>FALSE</td><td>FALSE</td><td>FALSE</td><td>FALSE</td></tr>\n",
              "\t<tr><td>FALSE</td><td>FALSE</td><td>FALSE</td><td>FALSE</td><td>FALSE</td><td>FALSE</td><td>FALSE</td><td>FALSE</td></tr>\n",
              "\t<tr><td>FALSE</td><td>FALSE</td><td>FALSE</td><td>FALSE</td><td>FALSE</td><td>FALSE</td><td>FALSE</td><td>FALSE</td></tr>\n",
              "\t<tr><td>FALSE</td><td>FALSE</td><td>FALSE</td><td>FALSE</td><td>FALSE</td><td>FALSE</td><td>FALSE</td><td>FALSE</td></tr>\n",
              "\t<tr><td>FALSE</td><td>FALSE</td><td>FALSE</td><td>FALSE</td><td>FALSE</td><td>FALSE</td><td>FALSE</td><td>FALSE</td></tr>\n",
              "\t<tr><td>FALSE</td><td>FALSE</td><td>FALSE</td><td>FALSE</td><td>FALSE</td><td>FALSE</td><td>FALSE</td><td>FALSE</td></tr>\n",
              "\t<tr><td>FALSE</td><td>FALSE</td><td>FALSE</td><td>FALSE</td><td>FALSE</td><td>FALSE</td><td>FALSE</td><td>FALSE</td></tr>\n",
              "\t<tr><td>FALSE</td><td>FALSE</td><td>FALSE</td><td>FALSE</td><td>FALSE</td><td>FALSE</td><td>FALSE</td><td>FALSE</td></tr>\n",
              "\t<tr><td>FALSE</td><td>FALSE</td><td>FALSE</td><td>FALSE</td><td>FALSE</td><td>FALSE</td><td>FALSE</td><td>FALSE</td></tr>\n",
              "\t<tr><td>FALSE</td><td>FALSE</td><td>FALSE</td><td>FALSE</td><td>FALSE</td><td>FALSE</td><td>FALSE</td><td>FALSE</td></tr>\n",
              "\t<tr><td>FALSE</td><td>FALSE</td><td>FALSE</td><td>FALSE</td><td>FALSE</td><td>FALSE</td><td>FALSE</td><td>FALSE</td></tr>\n",
              "\t<tr><td>⋮</td><td>⋮</td><td>⋮</td><td>⋮</td><td>⋮</td><td>⋮</td><td>⋮</td><td>⋮</td></tr>\n",
              "\t<tr><td>FALSE</td><td>FALSE</td><td>FALSE</td><td>FALSE</td><td>FALSE</td><td>FALSE</td><td>FALSE</td><td>FALSE</td></tr>\n",
              "\t<tr><td>FALSE</td><td>FALSE</td><td>FALSE</td><td>FALSE</td><td>FALSE</td><td>FALSE</td><td>FALSE</td><td>FALSE</td></tr>\n",
              "\t<tr><td>FALSE</td><td>FALSE</td><td>FALSE</td><td>FALSE</td><td>FALSE</td><td>FALSE</td><td>FALSE</td><td>FALSE</td></tr>\n",
              "\t<tr><td>FALSE</td><td>FALSE</td><td>FALSE</td><td>FALSE</td><td>FALSE</td><td>FALSE</td><td>FALSE</td><td>FALSE</td></tr>\n",
              "\t<tr><td>FALSE</td><td>FALSE</td><td>FALSE</td><td>FALSE</td><td>FALSE</td><td>FALSE</td><td>FALSE</td><td>FALSE</td></tr>\n",
              "\t<tr><td>FALSE</td><td>FALSE</td><td>FALSE</td><td>FALSE</td><td>FALSE</td><td>FALSE</td><td>FALSE</td><td>FALSE</td></tr>\n",
              "\t<tr><td>FALSE</td><td>FALSE</td><td>FALSE</td><td>FALSE</td><td>FALSE</td><td>FALSE</td><td>FALSE</td><td>FALSE</td></tr>\n",
              "\t<tr><td>FALSE</td><td>FALSE</td><td>FALSE</td><td>FALSE</td><td>FALSE</td><td>FALSE</td><td>FALSE</td><td>FALSE</td></tr>\n",
              "\t<tr><td>FALSE</td><td>FALSE</td><td>FALSE</td><td>FALSE</td><td>FALSE</td><td>FALSE</td><td>FALSE</td><td>FALSE</td></tr>\n",
              "\t<tr><td>FALSE</td><td>FALSE</td><td>FALSE</td><td>FALSE</td><td>FALSE</td><td>FALSE</td><td>FALSE</td><td>FALSE</td></tr>\n",
              "\t<tr><td>FALSE</td><td>FALSE</td><td>FALSE</td><td>FALSE</td><td>FALSE</td><td>FALSE</td><td>FALSE</td><td>FALSE</td></tr>\n",
              "\t<tr><td>FALSE</td><td>FALSE</td><td>FALSE</td><td>FALSE</td><td>FALSE</td><td>FALSE</td><td>FALSE</td><td>FALSE</td></tr>\n",
              "\t<tr><td>FALSE</td><td>FALSE</td><td>FALSE</td><td>FALSE</td><td>FALSE</td><td>FALSE</td><td>FALSE</td><td>FALSE</td></tr>\n",
              "\t<tr><td>FALSE</td><td>FALSE</td><td>FALSE</td><td>FALSE</td><td>FALSE</td><td>FALSE</td><td>FALSE</td><td>FALSE</td></tr>\n",
              "\t<tr><td>FALSE</td><td>FALSE</td><td>FALSE</td><td>FALSE</td><td>FALSE</td><td>FALSE</td><td>FALSE</td><td>FALSE</td></tr>\n",
              "\t<tr><td>FALSE</td><td>FALSE</td><td>FALSE</td><td>FALSE</td><td>FALSE</td><td>FALSE</td><td>FALSE</td><td>FALSE</td></tr>\n",
              "\t<tr><td>FALSE</td><td>FALSE</td><td>FALSE</td><td>FALSE</td><td>FALSE</td><td>FALSE</td><td>FALSE</td><td>FALSE</td></tr>\n",
              "\t<tr><td>FALSE</td><td>FALSE</td><td>FALSE</td><td>FALSE</td><td>FALSE</td><td>FALSE</td><td>FALSE</td><td>FALSE</td></tr>\n",
              "\t<tr><td>FALSE</td><td>FALSE</td><td>FALSE</td><td>FALSE</td><td>FALSE</td><td>FALSE</td><td>FALSE</td><td>FALSE</td></tr>\n",
              "\t<tr><td>FALSE</td><td>FALSE</td><td>FALSE</td><td>FALSE</td><td>FALSE</td><td>FALSE</td><td>FALSE</td><td>FALSE</td></tr>\n",
              "\t<tr><td>FALSE</td><td>FALSE</td><td>FALSE</td><td>FALSE</td><td>FALSE</td><td>FALSE</td><td>FALSE</td><td>FALSE</td></tr>\n",
              "\t<tr><td>FALSE</td><td>FALSE</td><td>FALSE</td><td>FALSE</td><td>FALSE</td><td>FALSE</td><td>FALSE</td><td>FALSE</td></tr>\n",
              "\t<tr><td>FALSE</td><td>FALSE</td><td>FALSE</td><td>FALSE</td><td>FALSE</td><td>FALSE</td><td>FALSE</td><td>FALSE</td></tr>\n",
              "\t<tr><td>FALSE</td><td>FALSE</td><td>FALSE</td><td>FALSE</td><td>FALSE</td><td>FALSE</td><td>FALSE</td><td>FALSE</td></tr>\n",
              "\t<tr><td>FALSE</td><td>FALSE</td><td>FALSE</td><td>FALSE</td><td>FALSE</td><td>FALSE</td><td>FALSE</td><td>FALSE</td></tr>\n",
              "\t<tr><td>FALSE</td><td>FALSE</td><td>FALSE</td><td>FALSE</td><td>FALSE</td><td>FALSE</td><td>FALSE</td><td>FALSE</td></tr>\n",
              "\t<tr><td>FALSE</td><td>FALSE</td><td>FALSE</td><td>FALSE</td><td>FALSE</td><td>FALSE</td><td>FALSE</td><td>FALSE</td></tr>\n",
              "\t<tr><td>FALSE</td><td>FALSE</td><td>FALSE</td><td>FALSE</td><td>FALSE</td><td>FALSE</td><td>FALSE</td><td>FALSE</td></tr>\n",
              "\t<tr><td>FALSE</td><td>FALSE</td><td>FALSE</td><td>FALSE</td><td>FALSE</td><td>FALSE</td><td>FALSE</td><td>FALSE</td></tr>\n",
              "\t<tr><td>FALSE</td><td>FALSE</td><td>FALSE</td><td>FALSE</td><td>FALSE</td><td>FALSE</td><td>FALSE</td><td>FALSE</td></tr>\n",
              "</tbody>\n",
              "</table>\n"
            ]
          },
          "metadata": {
            "tags": []
          }
        }
      ]
    },
    {
      "cell_type": "markdown",
      "metadata": {
        "id": "2062c520"
      },
      "source": [
        "### Visualise data distribution ### \n",
        "---\n",
        "\n",
        "In statistics, when you are preparing data for analysis, you must first check if your data is Gaussian or not (normally distributed). \n",
        "\n",
        "If data is normally distributed, it will have a bell curve and the spread of the data will tend to be small, with the mean centred in the data.\n",
        "\n",
        "The types of statistical test that are meaningful for the data depend on whether or not your data is normally distributed. \n",
        "\n",
        "To check for normality, lets first look at a histogram: \n",
        "\n",
        "**Using the ggplot2 package (similar to pythons Matplotlib):**\n",
        "\n",
        "```qplot(data$column, geom=\"histogram\") ```\n",
        "\n",
        "In R, `$` is used to specify the dataframe and target column so `data$age` would tell R to look at the age column - in Python pandas this would be ```df['age'] ```\n",
        "\n",
        "### Exercise 4 ###\n",
        "---\n",
        "\n",
        "Create histograms to check the distribution of each numeric column in your data (writing_score, reading_score, math_score)"
      ],
      "id": "2062c520"
    },
    {
      "cell_type": "code",
      "metadata": {
        "id": "55e6c624",
        "colab": {
          "base_uri": "https://localhost:8080/",
          "height": 1000
        },
        "outputId": "80dba675-385f-4c51-d2cc-8535f2ebf7e7"
      },
      "source": [
        "qplot(df$writing_score, geom=\"histogram\")\n",
        "qplot(df$reading_score, geom=\"histogram\")\n",
        "qplot(df$math_score, geom=\"histogram\")"
      ],
      "id": "55e6c624",
      "execution_count": null,
      "outputs": [
        {
          "output_type": "stream",
          "text": [
            "`stat_bin()` using `bins = 30`. Pick better value with `binwidth`.\n",
            "\n",
            "`stat_bin()` using `bins = 30`. Pick better value with `binwidth`.\n",
            "\n"
          ],
          "name": "stderr"
        },
        {
          "output_type": "display_data",
          "data": {
            "image/png": "[encoded data removed]",
            "text/plain": [
              "plot without title"
            ]
          },
          "metadata": {
            "tags": [],
            "image/png": {
              "width": 420,
              "height": 420
            }
          }
        },
        {
          "output_type": "stream",
          "text": [
            "`stat_bin()` using `bins = 30`. Pick better value with `binwidth`.\n",
            "\n"
          ],
          "name": "stderr"
        },
        {
          "output_type": "display_data",
          "data": {
            "image/png": "[encoded data removed]",
            "text/plain": [
              "plot without title"
            ]
          },
          "metadata": {
            "tags": [],
            "image/png": {
              "width": 420,
              "height": 420
            }
          }
        },
        {
          "output_type": "display_data",
          "data": {
            "image/png": "[encoded data removed]",
            "text/plain": [
              "plot without title"
            ]
          },
          "metadata": {
            "tags": [],
            "image/png": {
              "width": 420,
              "height": 420
            }
          }
        }
      ]
    },
    {
      "cell_type": "markdown",
      "metadata": {
        "id": "a6345893"
      },
      "source": [
        "## What about data that isn't numeric?\n",
        "---\n",
        "\n",
        "A linear regression is essentially a mathematical formula, which finds 2 terms (the slope and intercept) and can use that to predict new values. \n",
        "\n",
        "Obviously you cannot do any calculations on words (such as male or female). Therefore, we need to 'dummy code' categorical values such as sex.\n",
        "\n",
        "When R does the mathematical equation for the regression, we do not want the new dummy codes to interfere with the calculation, to get around that, we code the data using 0 and 1. \n",
        "\n",
        "**There are many ways to dummy code your data, but to make things easy we are going to use a package!**\n",
        "\n",
        "``` df_dummy <- dummy_cols(data, select_columns = c('column1', 'column2', 'column3'), remove_first_dummy = TRUE, remove_selected_columns = TRUE) ```\n",
        "\n",
        "The above code sets the new dataframe in a variable called `df_dummy`, it then states which dataframe we mean, then in the brackets, you put the column names that you want dummy coded. \n",
        "\n",
        "```remove_selected_columns = TRUE``` tells R to delete the existing categorical data columns afterwards\n",
        "\n",
        "```remove_first_dummy = TRUE``` tells R to remove the first dummy column. dummy_cols will create one column for each categorical value in the original column (so the sex columns becomes 2 columns called sex_female and sex_male) So removing the first column would leave the column sex__male,  where 1 means male and 0 means female. This is important as it stops multicollinearity in your model (your variables being too related to each other messing up the results). \n",
        "\n",
        "### Exercise 5 ###\n",
        "---\n",
        "\n",
        "Dummy code the catergorical columns, removing the first dummy and the original columns. "
      ],
      "id": "a6345893"
    },
    {
      "cell_type": "code",
      "metadata": {
        "id": "3e7d7f63",
        "colab": {
          "base_uri": "https://localhost:8080/",
          "height": 1000
        },
        "outputId": "9cb7d6f2-66be-41d4-9036-41c42a803f84"
      },
      "source": [
        "df_dummy <- dummy_cols(df, select_columns = c('gender'), remove_first_dummy = TRUE, remove_selected_columns = TRUE)\n",
        "df_dummy"
      ],
      "id": "3e7d7f63",
      "execution_count": null,
      "outputs": [
        {
          "output_type": "display_data",
          "data": {
            "text/plain": [
              "     ethnicity parental_education lunch        preparation_course math_score\n",
              "1    group E   some college       free/reduced none               65        \n",
              "2    group C   some college       standard     completed          75        \n",
              "3    group B   some high school   free/reduced completed          62        \n",
              "4    group D   some high school   standard     completed          60        \n",
              "5    group C   high school        free/reduced completed          34        \n",
              "6    group B   some college       free/reduced none               53        \n",
              "7    group D   some college       standard     none               85        \n",
              "8    group E   some high school   standard     none               93        \n",
              "9    group C   associate's degree standard     completed          58        \n",
              "10   group C   associate's degree standard     completed          85        \n",
              "11   group D   master's degree    standard     none               83        \n",
              "12   group D   associate's degree free/reduced none               54        \n",
              "13   group D   some high school   free/reduced none               38        \n",
              "14   group C   some college       standard     none               90        \n",
              "15   group A   some high school   free/reduced none               38        \n",
              "16   group E   associate's degree free/reduced none               61        \n",
              "17   group D   some high school   free/reduced completed          55        \n",
              "18   group A   master's degree    free/reduced completed          58        \n",
              "19   group B   some college       free/reduced none               44        \n",
              "20   group E   some college       standard     completed          71        \n",
              "21   group E   associate's degree free/reduced none               77        \n",
              "22   group C   high school        standard     none               39        \n",
              "23   group A   high school        free/reduced completed          71        \n",
              "24   group C   some college       standard     none               78        \n",
              "25   group B   master's degree    free/reduced none               74        \n",
              "26   group D   high school        standard     none               56        \n",
              "27   group C   associate's degree free/reduced completed          68        \n",
              "28   group B   associate's degree standard     none               48        \n",
              "29   group E   some high school   standard     none               90        \n",
              "30   group B   some high school   standard     completed          82        \n",
              "⋮    ⋮         ⋮                  ⋮            ⋮                  ⋮         \n",
              "971  group D   associate's degree standard     none                64       \n",
              "972  group D   some high school   free/reduced none                63       \n",
              "973  group B   bachelor's degree  free/reduced none                60       \n",
              "974  group C   associate's degree free/reduced completed           62       \n",
              "975  group A   some high school   free/reduced none                75       \n",
              "976  group D   associate's degree free/reduced none                56       \n",
              "977  group C   high school        standard     completed           67       \n",
              "978  group C   some high school   standard     none                83       \n",
              "979  group D   master's degree    free/reduced none                57       \n",
              "980  group D   high school        free/reduced none                65       \n",
              "981  group C   some college       free/reduced none                62       \n",
              "982  group C   high school        standard     none                76       \n",
              "983  group B   some high school   standard     none                55       \n",
              "984  group B   some college       standard     none                62       \n",
              "985  group E   some college       standard     none               100       \n",
              "986  group C   some high school   standard     completed           89       \n",
              "987  group C   high school        free/reduced none                59       \n",
              "988  group D   high school        free/reduced completed           75       \n",
              "989  group C   high school        free/reduced none                62       \n",
              "990  group D   associate's degree standard     completed           67       \n",
              "991  group B   high school        free/reduced completed           60       \n",
              "992  group C   some college       standard     none                68       \n",
              "993  group C   some college       free/reduced none                46       \n",
              "994  group E   high school        standard     none                79       \n",
              "995  group D   associate's degree standard     completed           72       \n",
              "996  group B   some college       standard     completed           80       \n",
              "997  group D   high school        standard     completed           82       \n",
              "998  group C   associate's degree standard     completed           65       \n",
              "999  group B   master's degree    free/reduced none                62       \n",
              "1000 group B   some college       standard     none                38       \n",
              "     reading_score writing_score gender_male\n",
              "1    76            71            0          \n",
              "2    72            69            1          \n",
              "3    56            61            0          \n",
              "4    60            59            1          \n",
              "5    54            55            0          \n",
              "6    66            61            0          \n",
              "7    88            92            0          \n",
              "8    73            70            1          \n",
              "9    71            63            0          \n",
              "10   75            82            1          \n",
              "11   94            92            0          \n",
              "12   69            70            0          \n",
              "13   36            42            0          \n",
              "14   81            81            1          \n",
              "15   57            52            0          \n",
              "16   64            62            0          \n",
              "17   71            73            0          \n",
              "18   60            56            1          \n",
              "19   54            49            0          \n",
              "20   79            82            0          \n",
              "21   79            72            1          \n",
              "22   35            33            0          \n",
              "23   85            81            0          \n",
              "24   82            86            0          \n",
              "25   63            65            1          \n",
              "26   60            56            1          \n",
              "27   64            65            1          \n",
              "28   39            43            1          \n",
              "29   92            84            0          \n",
              "30   80            83            0          \n",
              "⋮    ⋮             ⋮             ⋮          \n",
              "971  75            70            0          \n",
              "972  75            71            0          \n",
              "973  52            47            1          \n",
              "974  84            87            0          \n",
              "975  71            73            1          \n",
              "976  50            42            1          \n",
              "977  85            83            0          \n",
              "978  68            67            1          \n",
              "979  50            54            1          \n",
              "980  58            55            1          \n",
              "981  68            63            1          \n",
              "982  58            56            1          \n",
              "983  61            60            0          \n",
              "984  52            53            1          \n",
              "985  81            84            1          \n",
              "986  91            83            1          \n",
              "987  63            56            1          \n",
              "988  77            75            1          \n",
              "989  63            65            0          \n",
              "990  81            82            0          \n",
              "991  70            65            1          \n",
              "992  77            77            0          \n",
              "993  62            65            0          \n",
              "994  78            69            1          \n",
              "995  74            80            0          \n",
              "996  73            74            1          \n",
              "997  87            82            1          \n",
              "998  94            93            0          \n",
              "999  62            57            1          \n",
              "1000 39            40            1          "
            ],
            "text/latex": "A tibble: 1000 × 8\n\\begin{tabular}{llllllll}\n ethnicity & parental\\_education & lunch & preparation\\_course & math\\_score & reading\\_score & writing\\_score & gender\\_male\\\\\n <chr> & <chr> & <chr> & <chr> & <dbl> & <dbl> & <dbl> & <int>\\\\\n\\hline\n\t group E & some college       & free/reduced & none      & 65 & 76 & 71 & 0\\\\\n\t group C & some college       & standard     & completed & 75 & 72 & 69 & 1\\\\\n\t group B & some high school   & free/reduced & completed & 62 & 56 & 61 & 0\\\\\n\t group D & some high school   & standard     & completed & 60 & 60 & 59 & 1\\\\\n\t group C & high school        & free/reduced & completed & 34 & 54 & 55 & 0\\\\\n\t group B & some college       & free/reduced & none      & 53 & 66 & 61 & 0\\\\\n\t group D & some college       & standard     & none      & 85 & 88 & 92 & 0\\\\\n\t group E & some high school   & standard     & none      & 93 & 73 & 70 & 1\\\\\n\t group C & associate's degree & standard     & completed & 58 & 71 & 63 & 0\\\\\n\t group C & associate's degree & standard     & completed & 85 & 75 & 82 & 1\\\\\n\t group D & master's degree    & standard     & none      & 83 & 94 & 92 & 0\\\\\n\t group D & associate's degree & free/reduced & none      & 54 & 69 & 70 & 0\\\\\n\t group D & some high school   & free/reduced & none      & 38 & 36 & 42 & 0\\\\\n\t group C & some college       & standard     & none      & 90 & 81 & 81 & 1\\\\\n\t group A & some high school   & free/reduced & none      & 38 & 57 & 52 & 0\\\\\n\t group E & associate's degree & free/reduced & none      & 61 & 64 & 62 & 0\\\\\n\t group D & some high school   & free/reduced & completed & 55 & 71 & 73 & 0\\\\\n\t group A & master's degree    & free/reduced & completed & 58 & 60 & 56 & 1\\\\\n\t group B & some college       & free/reduced & none      & 44 & 54 & 49 & 0\\\\\n\t group E & some college       & standard     & completed & 71 & 79 & 82 & 0\\\\\n\t group E & associate's degree & free/reduced & none      & 77 & 79 & 72 & 1\\\\\n\t group C & high school        & standard     & none      & 39 & 35 & 33 & 0\\\\\n\t group A & high school        & free/reduced & completed & 71 & 85 & 81 & 0\\\\\n\t group C & some college       & standard     & none      & 78 & 82 & 86 & 0\\\\\n\t group B & master's degree    & free/reduced & none      & 74 & 63 & 65 & 1\\\\\n\t group D & high school        & standard     & none      & 56 & 60 & 56 & 1\\\\\n\t group C & associate's degree & free/reduced & completed & 68 & 64 & 65 & 1\\\\\n\t group B & associate's degree & standard     & none      & 48 & 39 & 43 & 1\\\\\n\t group E & some high school   & standard     & none      & 90 & 92 & 84 & 0\\\\\n\t group B & some high school   & standard     & completed & 82 & 80 & 83 & 0\\\\\n\t ⋮ & ⋮ & ⋮ & ⋮ & ⋮ & ⋮ & ⋮ & ⋮\\\\\n\t group D & associate's degree & standard     & none      &  64 & 75 & 70 & 0\\\\\n\t group D & some high school   & free/reduced & none      &  63 & 75 & 71 & 0\\\\\n\t group B & bachelor's degree  & free/reduced & none      &  60 & 52 & 47 & 1\\\\\n\t group C & associate's degree & free/reduced & completed &  62 & 84 & 87 & 0\\\\\n\t group A & some high school   & free/reduced & none      &  75 & 71 & 73 & 1\\\\\n\t group D & associate's degree & free/reduced & none      &  56 & 50 & 42 & 1\\\\\n\t group C & high school        & standard     & completed &  67 & 85 & 83 & 0\\\\\n\t group C & some high school   & standard     & none      &  83 & 68 & 67 & 1\\\\\n\t group D & master's degree    & free/reduced & none      &  57 & 50 & 54 & 1\\\\\n\t group D & high school        & free/reduced & none      &  65 & 58 & 55 & 1\\\\\n\t group C & some college       & free/reduced & none      &  62 & 68 & 63 & 1\\\\\n\t group C & high school        & standard     & none      &  76 & 58 & 56 & 1\\\\\n\t group B & some high school   & standard     & none      &  55 & 61 & 60 & 0\\\\\n\t group B & some college       & standard     & none      &  62 & 52 & 53 & 1\\\\\n\t group E & some college       & standard     & none      & 100 & 81 & 84 & 1\\\\\n\t group C & some high school   & standard     & completed &  89 & 91 & 83 & 1\\\\\n\t group C & high school        & free/reduced & none      &  59 & 63 & 56 & 1\\\\\n\t group D & high school        & free/reduced & completed &  75 & 77 & 75 & 1\\\\\n\t group C & high school        & free/reduced & none      &  62 & 63 & 65 & 0\\\\\n\t group D & associate's degree & standard     & completed &  67 & 81 & 82 & 0\\\\\n\t group B & high school        & free/reduced & completed &  60 & 70 & 65 & 1\\\\\n\t group C & some college       & standard     & none      &  68 & 77 & 77 & 0\\\\\n\t group C & some college       & free/reduced & none      &  46 & 62 & 65 & 0\\\\\n\t group E & high school        & standard     & none      &  79 & 78 & 69 & 1\\\\\n\t group D & associate's degree & standard     & completed &  72 & 74 & 80 & 0\\\\\n\t group B & some college       & standard     & completed &  80 & 73 & 74 & 1\\\\\n\t group D & high school        & standard     & completed &  82 & 87 & 82 & 1\\\\\n\t group C & associate's degree & standard     & completed &  65 & 94 & 93 & 0\\\\\n\t group B & master's degree    & free/reduced & none      &  62 & 62 & 57 & 1\\\\\n\t group B & some college       & standard     & none      &  38 & 39 & 40 & 1\\\\\n\\end{tabular}\n",
            "text/markdown": "\nA tibble: 1000 × 8\n\n| ethnicity &lt;chr&gt; | parental_education &lt;chr&gt; | lunch &lt;chr&gt; | preparation_course &lt;chr&gt; | math_score &lt;dbl&gt; | reading_score &lt;dbl&gt; | writing_score &lt;dbl&gt; | gender_male &lt;int&gt; |\n|---|---|---|---|---|---|---|---|\n| group E | some college       | free/reduced | none      | 65 | 76 | 71 | 0 |\n| group C | some college       | standard     | completed | 75 | 72 | 69 | 1 |\n| group B | some high school   | free/reduced | completed | 62 | 56 | 61 | 0 |\n| group D | some high school   | standard     | completed | 60 | 60 | 59 | 1 |\n| group C | high school        | free/reduced | completed | 34 | 54 | 55 | 0 |\n| group B | some college       | free/reduced | none      | 53 | 66 | 61 | 0 |\n| group D | some college       | standard     | none      | 85 | 88 | 92 | 0 |\n| group E | some high school   | standard     | none      | 93 | 73 | 70 | 1 |\n| group C | associate's degree | standard     | completed | 58 | 71 | 63 | 0 |\n| group C | associate's degree | standard     | completed | 85 | 75 | 82 | 1 |\n| group D | master's degree    | standard     | none      | 83 | 94 | 92 | 0 |\n| group D | associate's degree | free/reduced | none      | 54 | 69 | 70 | 0 |\n| group D | some high school   | free/reduced | none      | 38 | 36 | 42 | 0 |\n| group C | some college       | standard     | none      | 90 | 81 | 81 | 1 |\n| group A | some high school   | free/reduced | none      | 38 | 57 | 52 | 0 |\n| group E | associate's degree | free/reduced | none      | 61 | 64 | 62 | 0 |\n| group D | some high school   | free/reduced | completed | 55 | 71 | 73 | 0 |\n| group A | master's degree    | free/reduced | completed | 58 | 60 | 56 | 1 |\n| group B | some college       | free/reduced | none      | 44 | 54 | 49 | 0 |\n| group E | some college       | standard     | completed | 71 | 79 | 82 | 0 |\n| group E | associate's degree | free/reduced | none      | 77 | 79 | 72 | 1 |\n| group C | high school        | standard     | none      | 39 | 35 | 33 | 0 |\n| group A | high school        | free/reduced | completed | 71 | 85 | 81 | 0 |\n| group C | some college       | standard     | none      | 78 | 82 | 86 | 0 |\n| group B | master's degree    | free/reduced | none      | 74 | 63 | 65 | 1 |\n| group D | high school        | standard     | none      | 56 | 60 | 56 | 1 |\n| group C | associate's degree | free/reduced | completed | 68 | 64 | 65 | 1 |\n| group B | associate's degree | standard     | none      | 48 | 39 | 43 | 1 |\n| group E | some high school   | standard     | none      | 90 | 92 | 84 | 0 |\n| group B | some high school   | standard     | completed | 82 | 80 | 83 | 0 |\n| ⋮ | ⋮ | ⋮ | ⋮ | ⋮ | ⋮ | ⋮ | ⋮ |\n| group D | associate's degree | standard     | none      |  64 | 75 | 70 | 0 |\n| group D | some high school   | free/reduced | none      |  63 | 75 | 71 | 0 |\n| group B | bachelor's degree  | free/reduced | none      |  60 | 52 | 47 | 1 |\n| group C | associate's degree | free/reduced | completed |  62 | 84 | 87 | 0 |\n| group A | some high school   | free/reduced | none      |  75 | 71 | 73 | 1 |\n| group D | associate's degree | free/reduced | none      |  56 | 50 | 42 | 1 |\n| group C | high school        | standard     | completed |  67 | 85 | 83 | 0 |\n| group C | some high school   | standard     | none      |  83 | 68 | 67 | 1 |\n| group D | master's degree    | free/reduced | none      |  57 | 50 | 54 | 1 |\n| group D | high school        | free/reduced | none      |  65 | 58 | 55 | 1 |\n| group C | some college       | free/reduced | none      |  62 | 68 | 63 | 1 |\n| group C | high school        | standard     | none      |  76 | 58 | 56 | 1 |\n| group B | some high school   | standard     | none      |  55 | 61 | 60 | 0 |\n| group B | some college       | standard     | none      |  62 | 52 | 53 | 1 |\n| group E | some college       | standard     | none      | 100 | 81 | 84 | 1 |\n| group C | some high school   | standard     | completed |  89 | 91 | 83 | 1 |\n| group C | high school        | free/reduced | none      |  59 | 63 | 56 | 1 |\n| group D | high school        | free/reduced | completed |  75 | 77 | 75 | 1 |\n| group C | high school        | free/reduced | none      |  62 | 63 | 65 | 0 |\n| group D | associate's degree | standard     | completed |  67 | 81 | 82 | 0 |\n| group B | high school        | free/reduced | completed |  60 | 70 | 65 | 1 |\n| group C | some college       | standard     | none      |  68 | 77 | 77 | 0 |\n| group C | some college       | free/reduced | none      |  46 | 62 | 65 | 0 |\n| group E | high school        | standard     | none      |  79 | 78 | 69 | 1 |\n| group D | associate's degree | standard     | completed |  72 | 74 | 80 | 0 |\n| group B | some college       | standard     | completed |  80 | 73 | 74 | 1 |\n| group D | high school        | standard     | completed |  82 | 87 | 82 | 1 |\n| group C | associate's degree | standard     | completed |  65 | 94 | 93 | 0 |\n| group B | master's degree    | free/reduced | none      |  62 | 62 | 57 | 1 |\n| group B | some college       | standard     | none      |  38 | 39 | 40 | 1 |\n\n",
            "text/html": [
              "<table class=\"dataframe\">\n",
              "<caption>A tibble: 1000 × 8</caption>\n",
              "<thead>\n",
              "\t<tr><th scope=col>ethnicity</th><th scope=col>parental_education</th><th scope=col>lunch</th><th scope=col>preparation_course</th><th scope=col>math_score</th><th scope=col>reading_score</th><th scope=col>writing_score</th><th scope=col>gender_male</th></tr>\n",
              "\t<tr><th scope=col>&lt;chr&gt;</th><th scope=col>&lt;chr&gt;</th><th scope=col>&lt;chr&gt;</th><th scope=col>&lt;chr&gt;</th><th scope=col>&lt;dbl&gt;</th><th scope=col>&lt;dbl&gt;</th><th scope=col>&lt;dbl&gt;</th><th scope=col>&lt;int&gt;</th></tr>\n",
              "</thead>\n",
              "<tbody>\n",
              "\t<tr><td>group E</td><td>some college      </td><td>free/reduced</td><td>none     </td><td>65</td><td>76</td><td>71</td><td>0</td></tr>\n",
              "\t<tr><td>group C</td><td>some college      </td><td>standard    </td><td>completed</td><td>75</td><td>72</td><td>69</td><td>1</td></tr>\n",
              "\t<tr><td>group B</td><td>some high school  </td><td>free/reduced</td><td>completed</td><td>62</td><td>56</td><td>61</td><td>0</td></tr>\n",
              "\t<tr><td>group D</td><td>some high school  </td><td>standard    </td><td>completed</td><td>60</td><td>60</td><td>59</td><td>1</td></tr>\n",
              "\t<tr><td>group C</td><td>high school       </td><td>free/reduced</td><td>completed</td><td>34</td><td>54</td><td>55</td><td>0</td></tr>\n",
              "\t<tr><td>group B</td><td>some college      </td><td>free/reduced</td><td>none     </td><td>53</td><td>66</td><td>61</td><td>0</td></tr>\n",
              "\t<tr><td>group D</td><td>some college      </td><td>standard    </td><td>none     </td><td>85</td><td>88</td><td>92</td><td>0</td></tr>\n",
              "\t<tr><td>group E</td><td>some high school  </td><td>standard    </td><td>none     </td><td>93</td><td>73</td><td>70</td><td>1</td></tr>\n",
              "\t<tr><td>group C</td><td>associate's degree</td><td>standard    </td><td>completed</td><td>58</td><td>71</td><td>63</td><td>0</td></tr>\n",
              "\t<tr><td>group C</td><td>associate's degree</td><td>standard    </td><td>completed</td><td>85</td><td>75</td><td>82</td><td>1</td></tr>\n",
              "\t<tr><td>group D</td><td>master's degree   </td><td>standard    </td><td>none     </td><td>83</td><td>94</td><td>92</td><td>0</td></tr>\n",
              "\t<tr><td>group D</td><td>associate's degree</td><td>free/reduced</td><td>none     </td><td>54</td><td>69</td><td>70</td><td>0</td></tr>\n",
              "\t<tr><td>group D</td><td>some high school  </td><td>free/reduced</td><td>none     </td><td>38</td><td>36</td><td>42</td><td>0</td></tr>\n",
              "\t<tr><td>group C</td><td>some college      </td><td>standard    </td><td>none     </td><td>90</td><td>81</td><td>81</td><td>1</td></tr>\n",
              "\t<tr><td>group A</td><td>some high school  </td><td>free/reduced</td><td>none     </td><td>38</td><td>57</td><td>52</td><td>0</td></tr>\n",
              "\t<tr><td>group E</td><td>associate's degree</td><td>free/reduced</td><td>none     </td><td>61</td><td>64</td><td>62</td><td>0</td></tr>\n",
              "\t<tr><td>group D</td><td>some high school  </td><td>free/reduced</td><td>completed</td><td>55</td><td>71</td><td>73</td><td>0</td></tr>\n",
              "\t<tr><td>group A</td><td>master's degree   </td><td>free/reduced</td><td>completed</td><td>58</td><td>60</td><td>56</td><td>1</td></tr>\n",
              "\t<tr><td>group B</td><td>some college      </td><td>free/reduced</td><td>none     </td><td>44</td><td>54</td><td>49</td><td>0</td></tr>\n",
              "\t<tr><td>group E</td><td>some college      </td><td>standard    </td><td>completed</td><td>71</td><td>79</td><td>82</td><td>0</td></tr>\n",
              "\t<tr><td>group E</td><td>associate's degree</td><td>free/reduced</td><td>none     </td><td>77</td><td>79</td><td>72</td><td>1</td></tr>\n",
              "\t<tr><td>group C</td><td>high school       </td><td>standard    </td><td>none     </td><td>39</td><td>35</td><td>33</td><td>0</td></tr>\n",
              "\t<tr><td>group A</td><td>high school       </td><td>free/reduced</td><td>completed</td><td>71</td><td>85</td><td>81</td><td>0</td></tr>\n",
              "\t<tr><td>group C</td><td>some college      </td><td>standard    </td><td>none     </td><td>78</td><td>82</td><td>86</td><td>0</td></tr>\n",
              "\t<tr><td>group B</td><td>master's degree   </td><td>free/reduced</td><td>none     </td><td>74</td><td>63</td><td>65</td><td>1</td></tr>\n",
              "\t<tr><td>group D</td><td>high school       </td><td>standard    </td><td>none     </td><td>56</td><td>60</td><td>56</td><td>1</td></tr>\n",
              "\t<tr><td>group C</td><td>associate's degree</td><td>free/reduced</td><td>completed</td><td>68</td><td>64</td><td>65</td><td>1</td></tr>\n",
              "\t<tr><td>group B</td><td>associate's degree</td><td>standard    </td><td>none     </td><td>48</td><td>39</td><td>43</td><td>1</td></tr>\n",
              "\t<tr><td>group E</td><td>some high school  </td><td>standard    </td><td>none     </td><td>90</td><td>92</td><td>84</td><td>0</td></tr>\n",
              "\t<tr><td>group B</td><td>some high school  </td><td>standard    </td><td>completed</td><td>82</td><td>80</td><td>83</td><td>0</td></tr>\n",
              "\t<tr><td>⋮</td><td>⋮</td><td>⋮</td><td>⋮</td><td>⋮</td><td>⋮</td><td>⋮</td><td>⋮</td></tr>\n",
              "\t<tr><td>group D</td><td>associate's degree</td><td>standard    </td><td>none     </td><td> 64</td><td>75</td><td>70</td><td>0</td></tr>\n",
              "\t<tr><td>group D</td><td>some high school  </td><td>free/reduced</td><td>none     </td><td> 63</td><td>75</td><td>71</td><td>0</td></tr>\n",
              "\t<tr><td>group B</td><td>bachelor's degree </td><td>free/reduced</td><td>none     </td><td> 60</td><td>52</td><td>47</td><td>1</td></tr>\n",
              "\t<tr><td>group C</td><td>associate's degree</td><td>free/reduced</td><td>completed</td><td> 62</td><td>84</td><td>87</td><td>0</td></tr>\n",
              "\t<tr><td>group A</td><td>some high school  </td><td>free/reduced</td><td>none     </td><td> 75</td><td>71</td><td>73</td><td>1</td></tr>\n",
              "\t<tr><td>group D</td><td>associate's degree</td><td>free/reduced</td><td>none     </td><td> 56</td><td>50</td><td>42</td><td>1</td></tr>\n",
              "\t<tr><td>group C</td><td>high school       </td><td>standard    </td><td>completed</td><td> 67</td><td>85</td><td>83</td><td>0</td></tr>\n",
              "\t<tr><td>group C</td><td>some high school  </td><td>standard    </td><td>none     </td><td> 83</td><td>68</td><td>67</td><td>1</td></tr>\n",
              "\t<tr><td>group D</td><td>master's degree   </td><td>free/reduced</td><td>none     </td><td> 57</td><td>50</td><td>54</td><td>1</td></tr>\n",
              "\t<tr><td>group D</td><td>high school       </td><td>free/reduced</td><td>none     </td><td> 65</td><td>58</td><td>55</td><td>1</td></tr>\n",
              "\t<tr><td>group C</td><td>some college      </td><td>free/reduced</td><td>none     </td><td> 62</td><td>68</td><td>63</td><td>1</td></tr>\n",
              "\t<tr><td>group C</td><td>high school       </td><td>standard    </td><td>none     </td><td> 76</td><td>58</td><td>56</td><td>1</td></tr>\n",
              "\t<tr><td>group B</td><td>some high school  </td><td>standard    </td><td>none     </td><td> 55</td><td>61</td><td>60</td><td>0</td></tr>\n",
              "\t<tr><td>group B</td><td>some college      </td><td>standard    </td><td>none     </td><td> 62</td><td>52</td><td>53</td><td>1</td></tr>\n",
              "\t<tr><td>group E</td><td>some college      </td><td>standard    </td><td>none     </td><td>100</td><td>81</td><td>84</td><td>1</td></tr>\n",
              "\t<tr><td>group C</td><td>some high school  </td><td>standard    </td><td>completed</td><td> 89</td><td>91</td><td>83</td><td>1</td></tr>\n",
              "\t<tr><td>group C</td><td>high school       </td><td>free/reduced</td><td>none     </td><td> 59</td><td>63</td><td>56</td><td>1</td></tr>\n",
              "\t<tr><td>group D</td><td>high school       </td><td>free/reduced</td><td>completed</td><td> 75</td><td>77</td><td>75</td><td>1</td></tr>\n",
              "\t<tr><td>group C</td><td>high school       </td><td>free/reduced</td><td>none     </td><td> 62</td><td>63</td><td>65</td><td>0</td></tr>\n",
              "\t<tr><td>group D</td><td>associate's degree</td><td>standard    </td><td>completed</td><td> 67</td><td>81</td><td>82</td><td>0</td></tr>\n",
              "\t<tr><td>group B</td><td>high school       </td><td>free/reduced</td><td>completed</td><td> 60</td><td>70</td><td>65</td><td>1</td></tr>\n",
              "\t<tr><td>group C</td><td>some college      </td><td>standard    </td><td>none     </td><td> 68</td><td>77</td><td>77</td><td>0</td></tr>\n",
              "\t<tr><td>group C</td><td>some college      </td><td>free/reduced</td><td>none     </td><td> 46</td><td>62</td><td>65</td><td>0</td></tr>\n",
              "\t<tr><td>group E</td><td>high school       </td><td>standard    </td><td>none     </td><td> 79</td><td>78</td><td>69</td><td>1</td></tr>\n",
              "\t<tr><td>group D</td><td>associate's degree</td><td>standard    </td><td>completed</td><td> 72</td><td>74</td><td>80</td><td>0</td></tr>\n",
              "\t<tr><td>group B</td><td>some college      </td><td>standard    </td><td>completed</td><td> 80</td><td>73</td><td>74</td><td>1</td></tr>\n",
              "\t<tr><td>group D</td><td>high school       </td><td>standard    </td><td>completed</td><td> 82</td><td>87</td><td>82</td><td>1</td></tr>\n",
              "\t<tr><td>group C</td><td>associate's degree</td><td>standard    </td><td>completed</td><td> 65</td><td>94</td><td>93</td><td>0</td></tr>\n",
              "\t<tr><td>group B</td><td>master's degree   </td><td>free/reduced</td><td>none     </td><td> 62</td><td>62</td><td>57</td><td>1</td></tr>\n",
              "\t<tr><td>group B</td><td>some college      </td><td>standard    </td><td>none     </td><td> 38</td><td>39</td><td>40</td><td>1</td></tr>\n",
              "</tbody>\n",
              "</table>\n"
            ]
          },
          "metadata": {
            "tags": []
          }
        }
      ]
    },
    {
      "cell_type": "markdown",
      "metadata": {
        "id": "634ad052"
      },
      "source": [
        "### We want to work out if all the independent variables (eg. gender, race, parents education) predict students exam peformance. ###\n",
        "---\n",
        "\n",
        "At the moment, writing, math and reading scores are seperated.   \n",
        "Lets make a new column with the total scores.   \n",
        "\n",
        "To do this we use the ``mutate()`` function \n",
        "\n",
        "``` new_df <- mutate(data, new_column = ....) ```\n",
        "\n",
        "eg: \n",
        "\n",
        "``` new_df <- mutate(data, new_column = column1 / column2) ```  \n",
        "``` new_df <- mutate(data, new_column = column1 + column2) ```  \n",
        "``` new_df <- mutate(data, new_column = column1 * 2) ```  \n",
        "\n",
        "etc..\n",
        "\n",
        "### Exercise 6 ###\n",
        "---\n",
        "\n",
        "Using the mutate function, create a new column called ```total_score``` which contains the sum of each students reading, writing and math scores. "
      ],
      "id": "634ad052"
    },
    {
      "cell_type": "code",
      "metadata": {
        "id": "cd02714d",
        "colab": {
          "base_uri": "https://localhost:8080/",
          "height": 1000
        },
        "outputId": "e3c16b1c-af6f-4663-e0a4-dc95e9d05240"
      },
      "source": [
        "new_df <- mutate(df_dummy, total_score = math_score\t+ reading_score + writing_score)\n",
        "new_df"
      ],
      "id": "cd02714d",
      "execution_count": null,
      "outputs": [
        {
          "output_type": "display_data",
          "data": {
            "text/plain": [
              "     ethnicity parental_education lunch        preparation_course math_score\n",
              "1    group E   some college       free/reduced none               65        \n",
              "2    group C   some college       standard     completed          75        \n",
              "3    group B   some high school   free/reduced completed          62        \n",
              "4    group D   some high school   standard     completed          60        \n",
              "5    group C   high school        free/reduced completed          34        \n",
              "6    group B   some college       free/reduced none               53        \n",
              "7    group D   some college       standard     none               85        \n",
              "8    group E   some high school   standard     none               93        \n",
              "9    group C   associate's degree standard     completed          58        \n",
              "10   group C   associate's degree standard     completed          85        \n",
              "11   group D   master's degree    standard     none               83        \n",
              "12   group D   associate's degree free/reduced none               54        \n",
              "13   group D   some high school   free/reduced none               38        \n",
              "14   group C   some college       standard     none               90        \n",
              "15   group A   some high school   free/reduced none               38        \n",
              "16   group E   associate's degree free/reduced none               61        \n",
              "17   group D   some high school   free/reduced completed          55        \n",
              "18   group A   master's degree    free/reduced completed          58        \n",
              "19   group B   some college       free/reduced none               44        \n",
              "20   group E   some college       standard     completed          71        \n",
              "21   group E   associate's degree free/reduced none               77        \n",
              "22   group C   high school        standard     none               39        \n",
              "23   group A   high school        free/reduced completed          71        \n",
              "24   group C   some college       standard     none               78        \n",
              "25   group B   master's degree    free/reduced none               74        \n",
              "26   group D   high school        standard     none               56        \n",
              "27   group C   associate's degree free/reduced completed          68        \n",
              "28   group B   associate's degree standard     none               48        \n",
              "29   group E   some high school   standard     none               90        \n",
              "30   group B   some high school   standard     completed          82        \n",
              "⋮    ⋮         ⋮                  ⋮            ⋮                  ⋮         \n",
              "971  group D   associate's degree standard     none                64       \n",
              "972  group D   some high school   free/reduced none                63       \n",
              "973  group B   bachelor's degree  free/reduced none                60       \n",
              "974  group C   associate's degree free/reduced completed           62       \n",
              "975  group A   some high school   free/reduced none                75       \n",
              "976  group D   associate's degree free/reduced none                56       \n",
              "977  group C   high school        standard     completed           67       \n",
              "978  group C   some high school   standard     none                83       \n",
              "979  group D   master's degree    free/reduced none                57       \n",
              "980  group D   high school        free/reduced none                65       \n",
              "981  group C   some college       free/reduced none                62       \n",
              "982  group C   high school        standard     none                76       \n",
              "983  group B   some high school   standard     none                55       \n",
              "984  group B   some college       standard     none                62       \n",
              "985  group E   some college       standard     none               100       \n",
              "986  group C   some high school   standard     completed           89       \n",
              "987  group C   high school        free/reduced none                59       \n",
              "988  group D   high school        free/reduced completed           75       \n",
              "989  group C   high school        free/reduced none                62       \n",
              "990  group D   associate's degree standard     completed           67       \n",
              "991  group B   high school        free/reduced completed           60       \n",
              "992  group C   some college       standard     none                68       \n",
              "993  group C   some college       free/reduced none                46       \n",
              "994  group E   high school        standard     none                79       \n",
              "995  group D   associate's degree standard     completed           72       \n",
              "996  group B   some college       standard     completed           80       \n",
              "997  group D   high school        standard     completed           82       \n",
              "998  group C   associate's degree standard     completed           65       \n",
              "999  group B   master's degree    free/reduced none                62       \n",
              "1000 group B   some college       standard     none                38       \n",
              "     reading_score writing_score gender_male total_score\n",
              "1    76            71            0           212        \n",
              "2    72            69            1           216        \n",
              "3    56            61            0           179        \n",
              "4    60            59            1           179        \n",
              "5    54            55            0           143        \n",
              "6    66            61            0           180        \n",
              "7    88            92            0           265        \n",
              "8    73            70            1           236        \n",
              "9    71            63            0           192        \n",
              "10   75            82            1           242        \n",
              "11   94            92            0           269        \n",
              "12   69            70            0           193        \n",
              "13   36            42            0           116        \n",
              "14   81            81            1           252        \n",
              "15   57            52            0           147        \n",
              "16   64            62            0           187        \n",
              "17   71            73            0           199        \n",
              "18   60            56            1           174        \n",
              "19   54            49            0           147        \n",
              "20   79            82            0           232        \n",
              "21   79            72            1           228        \n",
              "22   35            33            0           107        \n",
              "23   85            81            0           237        \n",
              "24   82            86            0           246        \n",
              "25   63            65            1           202        \n",
              "26   60            56            1           172        \n",
              "27   64            65            1           197        \n",
              "28   39            43            1           130        \n",
              "29   92            84            0           266        \n",
              "30   80            83            0           245        \n",
              "⋮    ⋮             ⋮             ⋮           ⋮          \n",
              "971  75            70            0           209        \n",
              "972  75            71            0           209        \n",
              "973  52            47            1           159        \n",
              "974  84            87            0           233        \n",
              "975  71            73            1           219        \n",
              "976  50            42            1           148        \n",
              "977  85            83            0           235        \n",
              "978  68            67            1           218        \n",
              "979  50            54            1           161        \n",
              "980  58            55            1           178        \n",
              "981  68            63            1           193        \n",
              "982  58            56            1           190        \n",
              "983  61            60            0           176        \n",
              "984  52            53            1           167        \n",
              "985  81            84            1           265        \n",
              "986  91            83            1           263        \n",
              "987  63            56            1           178        \n",
              "988  77            75            1           227        \n",
              "989  63            65            0           190        \n",
              "990  81            82            0           230        \n",
              "991  70            65            1           195        \n",
              "992  77            77            0           222        \n",
              "993  62            65            0           173        \n",
              "994  78            69            1           226        \n",
              "995  74            80            0           226        \n",
              "996  73            74            1           227        \n",
              "997  87            82            1           251        \n",
              "998  94            93            0           252        \n",
              "999  62            57            1           181        \n",
              "1000 39            40            1           117        "
            ],
            "text/latex": "A tibble: 1000 × 9\n\\begin{tabular}{lllllllll}\n ethnicity & parental\\_education & lunch & preparation\\_course & math\\_score & reading\\_score & writing\\_score & gender\\_male & total\\_score\\\\\n <chr> & <chr> & <chr> & <chr> & <dbl> & <dbl> & <dbl> & <int> & <dbl>\\\\\n\\hline\n\t group E & some college       & free/reduced & none      & 65 & 76 & 71 & 0 & 212\\\\\n\t group C & some college       & standard     & completed & 75 & 72 & 69 & 1 & 216\\\\\n\t group B & some high school   & free/reduced & completed & 62 & 56 & 61 & 0 & 179\\\\\n\t group D & some high school   & standard     & completed & 60 & 60 & 59 & 1 & 179\\\\\n\t group C & high school        & free/reduced & completed & 34 & 54 & 55 & 0 & 143\\\\\n\t group B & some college       & free/reduced & none      & 53 & 66 & 61 & 0 & 180\\\\\n\t group D & some college       & standard     & none      & 85 & 88 & 92 & 0 & 265\\\\\n\t group E & some high school   & standard     & none      & 93 & 73 & 70 & 1 & 236\\\\\n\t group C & associate's degree & standard     & completed & 58 & 71 & 63 & 0 & 192\\\\\n\t group C & associate's degree & standard     & completed & 85 & 75 & 82 & 1 & 242\\\\\n\t group D & master's degree    & standard     & none      & 83 & 94 & 92 & 0 & 269\\\\\n\t group D & associate's degree & free/reduced & none      & 54 & 69 & 70 & 0 & 193\\\\\n\t group D & some high school   & free/reduced & none      & 38 & 36 & 42 & 0 & 116\\\\\n\t group C & some college       & standard     & none      & 90 & 81 & 81 & 1 & 252\\\\\n\t group A & some high school   & free/reduced & none      & 38 & 57 & 52 & 0 & 147\\\\\n\t group E & associate's degree & free/reduced & none      & 61 & 64 & 62 & 0 & 187\\\\\n\t group D & some high school   & free/reduced & completed & 55 & 71 & 73 & 0 & 199\\\\\n\t group A & master's degree    & free/reduced & completed & 58 & 60 & 56 & 1 & 174\\\\\n\t group B & some college       & free/reduced & none      & 44 & 54 & 49 & 0 & 147\\\\\n\t group E & some college       & standard     & completed & 71 & 79 & 82 & 0 & 232\\\\\n\t group E & associate's degree & free/reduced & none      & 77 & 79 & 72 & 1 & 228\\\\\n\t group C & high school        & standard     & none      & 39 & 35 & 33 & 0 & 107\\\\\n\t group A & high school        & free/reduced & completed & 71 & 85 & 81 & 0 & 237\\\\\n\t group C & some college       & standard     & none      & 78 & 82 & 86 & 0 & 246\\\\\n\t group B & master's degree    & free/reduced & none      & 74 & 63 & 65 & 1 & 202\\\\\n\t group D & high school        & standard     & none      & 56 & 60 & 56 & 1 & 172\\\\\n\t group C & associate's degree & free/reduced & completed & 68 & 64 & 65 & 1 & 197\\\\\n\t group B & associate's degree & standard     & none      & 48 & 39 & 43 & 1 & 130\\\\\n\t group E & some high school   & standard     & none      & 90 & 92 & 84 & 0 & 266\\\\\n\t group B & some high school   & standard     & completed & 82 & 80 & 83 & 0 & 245\\\\\n\t ⋮ & ⋮ & ⋮ & ⋮ & ⋮ & ⋮ & ⋮ & ⋮ & ⋮\\\\\n\t group D & associate's degree & standard     & none      &  64 & 75 & 70 & 0 & 209\\\\\n\t group D & some high school   & free/reduced & none      &  63 & 75 & 71 & 0 & 209\\\\\n\t group B & bachelor's degree  & free/reduced & none      &  60 & 52 & 47 & 1 & 159\\\\\n\t group C & associate's degree & free/reduced & completed &  62 & 84 & 87 & 0 & 233\\\\\n\t group A & some high school   & free/reduced & none      &  75 & 71 & 73 & 1 & 219\\\\\n\t group D & associate's degree & free/reduced & none      &  56 & 50 & 42 & 1 & 148\\\\\n\t group C & high school        & standard     & completed &  67 & 85 & 83 & 0 & 235\\\\\n\t group C & some high school   & standard     & none      &  83 & 68 & 67 & 1 & 218\\\\\n\t group D & master's degree    & free/reduced & none      &  57 & 50 & 54 & 1 & 161\\\\\n\t group D & high school        & free/reduced & none      &  65 & 58 & 55 & 1 & 178\\\\\n\t group C & some college       & free/reduced & none      &  62 & 68 & 63 & 1 & 193\\\\\n\t group C & high school        & standard     & none      &  76 & 58 & 56 & 1 & 190\\\\\n\t group B & some high school   & standard     & none      &  55 & 61 & 60 & 0 & 176\\\\\n\t group B & some college       & standard     & none      &  62 & 52 & 53 & 1 & 167\\\\\n\t group E & some college       & standard     & none      & 100 & 81 & 84 & 1 & 265\\\\\n\t group C & some high school   & standard     & completed &  89 & 91 & 83 & 1 & 263\\\\\n\t group C & high school        & free/reduced & none      &  59 & 63 & 56 & 1 & 178\\\\\n\t group D & high school        & free/reduced & completed &  75 & 77 & 75 & 1 & 227\\\\\n\t group C & high school        & free/reduced & none      &  62 & 63 & 65 & 0 & 190\\\\\n\t group D & associate's degree & standard     & completed &  67 & 81 & 82 & 0 & 230\\\\\n\t group B & high school        & free/reduced & completed &  60 & 70 & 65 & 1 & 195\\\\\n\t group C & some college       & standard     & none      &  68 & 77 & 77 & 0 & 222\\\\\n\t group C & some college       & free/reduced & none      &  46 & 62 & 65 & 0 & 173\\\\\n\t group E & high school        & standard     & none      &  79 & 78 & 69 & 1 & 226\\\\\n\t group D & associate's degree & standard     & completed &  72 & 74 & 80 & 0 & 226\\\\\n\t group B & some college       & standard     & completed &  80 & 73 & 74 & 1 & 227\\\\\n\t group D & high school        & standard     & completed &  82 & 87 & 82 & 1 & 251\\\\\n\t group C & associate's degree & standard     & completed &  65 & 94 & 93 & 0 & 252\\\\\n\t group B & master's degree    & free/reduced & none      &  62 & 62 & 57 & 1 & 181\\\\\n\t group B & some college       & standard     & none      &  38 & 39 & 40 & 1 & 117\\\\\n\\end{tabular}\n",
            "text/markdown": "\nA tibble: 1000 × 9\n\n| ethnicity &lt;chr&gt; | parental_education &lt;chr&gt; | lunch &lt;chr&gt; | preparation_course &lt;chr&gt; | math_score &lt;dbl&gt; | reading_score &lt;dbl&gt; | writing_score &lt;dbl&gt; | gender_male &lt;int&gt; | total_score &lt;dbl&gt; |\n|---|---|---|---|---|---|---|---|---|\n| group E | some college       | free/reduced | none      | 65 | 76 | 71 | 0 | 212 |\n| group C | some college       | standard     | completed | 75 | 72 | 69 | 1 | 216 |\n| group B | some high school   | free/reduced | completed | 62 | 56 | 61 | 0 | 179 |\n| group D | some high school   | standard     | completed | 60 | 60 | 59 | 1 | 179 |\n| group C | high school        | free/reduced | completed | 34 | 54 | 55 | 0 | 143 |\n| group B | some college       | free/reduced | none      | 53 | 66 | 61 | 0 | 180 |\n| group D | some college       | standard     | none      | 85 | 88 | 92 | 0 | 265 |\n| group E | some high school   | standard     | none      | 93 | 73 | 70 | 1 | 236 |\n| group C | associate's degree | standard     | completed | 58 | 71 | 63 | 0 | 192 |\n| group C | associate's degree | standard     | completed | 85 | 75 | 82 | 1 | 242 |\n| group D | master's degree    | standard     | none      | 83 | 94 | 92 | 0 | 269 |\n| group D | associate's degree | free/reduced | none      | 54 | 69 | 70 | 0 | 193 |\n| group D | some high school   | free/reduced | none      | 38 | 36 | 42 | 0 | 116 |\n| group C | some college       | standard     | none      | 90 | 81 | 81 | 1 | 252 |\n| group A | some high school   | free/reduced | none      | 38 | 57 | 52 | 0 | 147 |\n| group E | associate's degree | free/reduced | none      | 61 | 64 | 62 | 0 | 187 |\n| group D | some high school   | free/reduced | completed | 55 | 71 | 73 | 0 | 199 |\n| group A | master's degree    | free/reduced | completed | 58 | 60 | 56 | 1 | 174 |\n| group B | some college       | free/reduced | none      | 44 | 54 | 49 | 0 | 147 |\n| group E | some college       | standard     | completed | 71 | 79 | 82 | 0 | 232 |\n| group E | associate's degree | free/reduced | none      | 77 | 79 | 72 | 1 | 228 |\n| group C | high school        | standard     | none      | 39 | 35 | 33 | 0 | 107 |\n| group A | high school        | free/reduced | completed | 71 | 85 | 81 | 0 | 237 |\n| group C | some college       | standard     | none      | 78 | 82 | 86 | 0 | 246 |\n| group B | master's degree    | free/reduced | none      | 74 | 63 | 65 | 1 | 202 |\n| group D | high school        | standard     | none      | 56 | 60 | 56 | 1 | 172 |\n| group C | associate's degree | free/reduced | completed | 68 | 64 | 65 | 1 | 197 |\n| group B | associate's degree | standard     | none      | 48 | 39 | 43 | 1 | 130 |\n| group E | some high school   | standard     | none      | 90 | 92 | 84 | 0 | 266 |\n| group B | some high school   | standard     | completed | 82 | 80 | 83 | 0 | 245 |\n| ⋮ | ⋮ | ⋮ | ⋮ | ⋮ | ⋮ | ⋮ | ⋮ | ⋮ |\n| group D | associate's degree | standard     | none      |  64 | 75 | 70 | 0 | 209 |\n| group D | some high school   | free/reduced | none      |  63 | 75 | 71 | 0 | 209 |\n| group B | bachelor's degree  | free/reduced | none      |  60 | 52 | 47 | 1 | 159 |\n| group C | associate's degree | free/reduced | completed |  62 | 84 | 87 | 0 | 233 |\n| group A | some high school   | free/reduced | none      |  75 | 71 | 73 | 1 | 219 |\n| group D | associate's degree | free/reduced | none      |  56 | 50 | 42 | 1 | 148 |\n| group C | high school        | standard     | completed |  67 | 85 | 83 | 0 | 235 |\n| group C | some high school   | standard     | none      |  83 | 68 | 67 | 1 | 218 |\n| group D | master's degree    | free/reduced | none      |  57 | 50 | 54 | 1 | 161 |\n| group D | high school        | free/reduced | none      |  65 | 58 | 55 | 1 | 178 |\n| group C | some college       | free/reduced | none      |  62 | 68 | 63 | 1 | 193 |\n| group C | high school        | standard     | none      |  76 | 58 | 56 | 1 | 190 |\n| group B | some high school   | standard     | none      |  55 | 61 | 60 | 0 | 176 |\n| group B | some college       | standard     | none      |  62 | 52 | 53 | 1 | 167 |\n| group E | some college       | standard     | none      | 100 | 81 | 84 | 1 | 265 |\n| group C | some high school   | standard     | completed |  89 | 91 | 83 | 1 | 263 |\n| group C | high school        | free/reduced | none      |  59 | 63 | 56 | 1 | 178 |\n| group D | high school        | free/reduced | completed |  75 | 77 | 75 | 1 | 227 |\n| group C | high school        | free/reduced | none      |  62 | 63 | 65 | 0 | 190 |\n| group D | associate's degree | standard     | completed |  67 | 81 | 82 | 0 | 230 |\n| group B | high school        | free/reduced | completed |  60 | 70 | 65 | 1 | 195 |\n| group C | some college       | standard     | none      |  68 | 77 | 77 | 0 | 222 |\n| group C | some college       | free/reduced | none      |  46 | 62 | 65 | 0 | 173 |\n| group E | high school        | standard     | none      |  79 | 78 | 69 | 1 | 226 |\n| group D | associate's degree | standard     | completed |  72 | 74 | 80 | 0 | 226 |\n| group B | some college       | standard     | completed |  80 | 73 | 74 | 1 | 227 |\n| group D | high school        | standard     | completed |  82 | 87 | 82 | 1 | 251 |\n| group C | associate's degree | standard     | completed |  65 | 94 | 93 | 0 | 252 |\n| group B | master's degree    | free/reduced | none      |  62 | 62 | 57 | 1 | 181 |\n| group B | some college       | standard     | none      |  38 | 39 | 40 | 1 | 117 |\n\n",
            "text/html": [
              "<table class=\"dataframe\">\n",
              "<caption>A tibble: 1000 × 9</caption>\n",
              "<thead>\n",
              "\t<tr><th scope=col>ethnicity</th><th scope=col>parental_education</th><th scope=col>lunch</th><th scope=col>preparation_course</th><th scope=col>math_score</th><th scope=col>reading_score</th><th scope=col>writing_score</th><th scope=col>gender_male</th><th scope=col>total_score</th></tr>\n",
              "\t<tr><th scope=col>&lt;chr&gt;</th><th scope=col>&lt;chr&gt;</th><th scope=col>&lt;chr&gt;</th><th scope=col>&lt;chr&gt;</th><th scope=col>&lt;dbl&gt;</th><th scope=col>&lt;dbl&gt;</th><th scope=col>&lt;dbl&gt;</th><th scope=col>&lt;int&gt;</th><th scope=col>&lt;dbl&gt;</th></tr>\n",
              "</thead>\n",
              "<tbody>\n",
              "\t<tr><td>group E</td><td>some college      </td><td>free/reduced</td><td>none     </td><td>65</td><td>76</td><td>71</td><td>0</td><td>212</td></tr>\n",
              "\t<tr><td>group C</td><td>some college      </td><td>standard    </td><td>completed</td><td>75</td><td>72</td><td>69</td><td>1</td><td>216</td></tr>\n",
              "\t<tr><td>group B</td><td>some high school  </td><td>free/reduced</td><td>completed</td><td>62</td><td>56</td><td>61</td><td>0</td><td>179</td></tr>\n",
              "\t<tr><td>group D</td><td>some high school  </td><td>standard    </td><td>completed</td><td>60</td><td>60</td><td>59</td><td>1</td><td>179</td></tr>\n",
              "\t<tr><td>group C</td><td>high school       </td><td>free/reduced</td><td>completed</td><td>34</td><td>54</td><td>55</td><td>0</td><td>143</td></tr>\n",
              "\t<tr><td>group B</td><td>some college      </td><td>free/reduced</td><td>none     </td><td>53</td><td>66</td><td>61</td><td>0</td><td>180</td></tr>\n",
              "\t<tr><td>group D</td><td>some college      </td><td>standard    </td><td>none     </td><td>85</td><td>88</td><td>92</td><td>0</td><td>265</td></tr>\n",
              "\t<tr><td>group E</td><td>some high school  </td><td>standard    </td><td>none     </td><td>93</td><td>73</td><td>70</td><td>1</td><td>236</td></tr>\n",
              "\t<tr><td>group C</td><td>associate's degree</td><td>standard    </td><td>completed</td><td>58</td><td>71</td><td>63</td><td>0</td><td>192</td></tr>\n",
              "\t<tr><td>group C</td><td>associate's degree</td><td>standard    </td><td>completed</td><td>85</td><td>75</td><td>82</td><td>1</td><td>242</td></tr>\n",
              "\t<tr><td>group D</td><td>master's degree   </td><td>standard    </td><td>none     </td><td>83</td><td>94</td><td>92</td><td>0</td><td>269</td></tr>\n",
              "\t<tr><td>group D</td><td>associate's degree</td><td>free/reduced</td><td>none     </td><td>54</td><td>69</td><td>70</td><td>0</td><td>193</td></tr>\n",
              "\t<tr><td>group D</td><td>some high school  </td><td>free/reduced</td><td>none     </td><td>38</td><td>36</td><td>42</td><td>0</td><td>116</td></tr>\n",
              "\t<tr><td>group C</td><td>some college      </td><td>standard    </td><td>none     </td><td>90</td><td>81</td><td>81</td><td>1</td><td>252</td></tr>\n",
              "\t<tr><td>group A</td><td>some high school  </td><td>free/reduced</td><td>none     </td><td>38</td><td>57</td><td>52</td><td>0</td><td>147</td></tr>\n",
              "\t<tr><td>group E</td><td>associate's degree</td><td>free/reduced</td><td>none     </td><td>61</td><td>64</td><td>62</td><td>0</td><td>187</td></tr>\n",
              "\t<tr><td>group D</td><td>some high school  </td><td>free/reduced</td><td>completed</td><td>55</td><td>71</td><td>73</td><td>0</td><td>199</td></tr>\n",
              "\t<tr><td>group A</td><td>master's degree   </td><td>free/reduced</td><td>completed</td><td>58</td><td>60</td><td>56</td><td>1</td><td>174</td></tr>\n",
              "\t<tr><td>group B</td><td>some college      </td><td>free/reduced</td><td>none     </td><td>44</td><td>54</td><td>49</td><td>0</td><td>147</td></tr>\n",
              "\t<tr><td>group E</td><td>some college      </td><td>standard    </td><td>completed</td><td>71</td><td>79</td><td>82</td><td>0</td><td>232</td></tr>\n",
              "\t<tr><td>group E</td><td>associate's degree</td><td>free/reduced</td><td>none     </td><td>77</td><td>79</td><td>72</td><td>1</td><td>228</td></tr>\n",
              "\t<tr><td>group C</td><td>high school       </td><td>standard    </td><td>none     </td><td>39</td><td>35</td><td>33</td><td>0</td><td>107</td></tr>\n",
              "\t<tr><td>group A</td><td>high school       </td><td>free/reduced</td><td>completed</td><td>71</td><td>85</td><td>81</td><td>0</td><td>237</td></tr>\n",
              "\t<tr><td>group C</td><td>some college      </td><td>standard    </td><td>none     </td><td>78</td><td>82</td><td>86</td><td>0</td><td>246</td></tr>\n",
              "\t<tr><td>group B</td><td>master's degree   </td><td>free/reduced</td><td>none     </td><td>74</td><td>63</td><td>65</td><td>1</td><td>202</td></tr>\n",
              "\t<tr><td>group D</td><td>high school       </td><td>standard    </td><td>none     </td><td>56</td><td>60</td><td>56</td><td>1</td><td>172</td></tr>\n",
              "\t<tr><td>group C</td><td>associate's degree</td><td>free/reduced</td><td>completed</td><td>68</td><td>64</td><td>65</td><td>1</td><td>197</td></tr>\n",
              "\t<tr><td>group B</td><td>associate's degree</td><td>standard    </td><td>none     </td><td>48</td><td>39</td><td>43</td><td>1</td><td>130</td></tr>\n",
              "\t<tr><td>group E</td><td>some high school  </td><td>standard    </td><td>none     </td><td>90</td><td>92</td><td>84</td><td>0</td><td>266</td></tr>\n",
              "\t<tr><td>group B</td><td>some high school  </td><td>standard    </td><td>completed</td><td>82</td><td>80</td><td>83</td><td>0</td><td>245</td></tr>\n",
              "\t<tr><td>⋮</td><td>⋮</td><td>⋮</td><td>⋮</td><td>⋮</td><td>⋮</td><td>⋮</td><td>⋮</td><td>⋮</td></tr>\n",
              "\t<tr><td>group D</td><td>associate's degree</td><td>standard    </td><td>none     </td><td> 64</td><td>75</td><td>70</td><td>0</td><td>209</td></tr>\n",
              "\t<tr><td>group D</td><td>some high school  </td><td>free/reduced</td><td>none     </td><td> 63</td><td>75</td><td>71</td><td>0</td><td>209</td></tr>\n",
              "\t<tr><td>group B</td><td>bachelor's degree </td><td>free/reduced</td><td>none     </td><td> 60</td><td>52</td><td>47</td><td>1</td><td>159</td></tr>\n",
              "\t<tr><td>group C</td><td>associate's degree</td><td>free/reduced</td><td>completed</td><td> 62</td><td>84</td><td>87</td><td>0</td><td>233</td></tr>\n",
              "\t<tr><td>group A</td><td>some high school  </td><td>free/reduced</td><td>none     </td><td> 75</td><td>71</td><td>73</td><td>1</td><td>219</td></tr>\n",
              "\t<tr><td>group D</td><td>associate's degree</td><td>free/reduced</td><td>none     </td><td> 56</td><td>50</td><td>42</td><td>1</td><td>148</td></tr>\n",
              "\t<tr><td>group C</td><td>high school       </td><td>standard    </td><td>completed</td><td> 67</td><td>85</td><td>83</td><td>0</td><td>235</td></tr>\n",
              "\t<tr><td>group C</td><td>some high school  </td><td>standard    </td><td>none     </td><td> 83</td><td>68</td><td>67</td><td>1</td><td>218</td></tr>\n",
              "\t<tr><td>group D</td><td>master's degree   </td><td>free/reduced</td><td>none     </td><td> 57</td><td>50</td><td>54</td><td>1</td><td>161</td></tr>\n",
              "\t<tr><td>group D</td><td>high school       </td><td>free/reduced</td><td>none     </td><td> 65</td><td>58</td><td>55</td><td>1</td><td>178</td></tr>\n",
              "\t<tr><td>group C</td><td>some college      </td><td>free/reduced</td><td>none     </td><td> 62</td><td>68</td><td>63</td><td>1</td><td>193</td></tr>\n",
              "\t<tr><td>group C</td><td>high school       </td><td>standard    </td><td>none     </td><td> 76</td><td>58</td><td>56</td><td>1</td><td>190</td></tr>\n",
              "\t<tr><td>group B</td><td>some high school  </td><td>standard    </td><td>none     </td><td> 55</td><td>61</td><td>60</td><td>0</td><td>176</td></tr>\n",
              "\t<tr><td>group B</td><td>some college      </td><td>standard    </td><td>none     </td><td> 62</td><td>52</td><td>53</td><td>1</td><td>167</td></tr>\n",
              "\t<tr><td>group E</td><td>some college      </td><td>standard    </td><td>none     </td><td>100</td><td>81</td><td>84</td><td>1</td><td>265</td></tr>\n",
              "\t<tr><td>group C</td><td>some high school  </td><td>standard    </td><td>completed</td><td> 89</td><td>91</td><td>83</td><td>1</td><td>263</td></tr>\n",
              "\t<tr><td>group C</td><td>high school       </td><td>free/reduced</td><td>none     </td><td> 59</td><td>63</td><td>56</td><td>1</td><td>178</td></tr>\n",
              "\t<tr><td>group D</td><td>high school       </td><td>free/reduced</td><td>completed</td><td> 75</td><td>77</td><td>75</td><td>1</td><td>227</td></tr>\n",
              "\t<tr><td>group C</td><td>high school       </td><td>free/reduced</td><td>none     </td><td> 62</td><td>63</td><td>65</td><td>0</td><td>190</td></tr>\n",
              "\t<tr><td>group D</td><td>associate's degree</td><td>standard    </td><td>completed</td><td> 67</td><td>81</td><td>82</td><td>0</td><td>230</td></tr>\n",
              "\t<tr><td>group B</td><td>high school       </td><td>free/reduced</td><td>completed</td><td> 60</td><td>70</td><td>65</td><td>1</td><td>195</td></tr>\n",
              "\t<tr><td>group C</td><td>some college      </td><td>standard    </td><td>none     </td><td> 68</td><td>77</td><td>77</td><td>0</td><td>222</td></tr>\n",
              "\t<tr><td>group C</td><td>some college      </td><td>free/reduced</td><td>none     </td><td> 46</td><td>62</td><td>65</td><td>0</td><td>173</td></tr>\n",
              "\t<tr><td>group E</td><td>high school       </td><td>standard    </td><td>none     </td><td> 79</td><td>78</td><td>69</td><td>1</td><td>226</td></tr>\n",
              "\t<tr><td>group D</td><td>associate's degree</td><td>standard    </td><td>completed</td><td> 72</td><td>74</td><td>80</td><td>0</td><td>226</td></tr>\n",
              "\t<tr><td>group B</td><td>some college      </td><td>standard    </td><td>completed</td><td> 80</td><td>73</td><td>74</td><td>1</td><td>227</td></tr>\n",
              "\t<tr><td>group D</td><td>high school       </td><td>standard    </td><td>completed</td><td> 82</td><td>87</td><td>82</td><td>1</td><td>251</td></tr>\n",
              "\t<tr><td>group C</td><td>associate's degree</td><td>standard    </td><td>completed</td><td> 65</td><td>94</td><td>93</td><td>0</td><td>252</td></tr>\n",
              "\t<tr><td>group B</td><td>master's degree   </td><td>free/reduced</td><td>none     </td><td> 62</td><td>62</td><td>57</td><td>1</td><td>181</td></tr>\n",
              "\t<tr><td>group B</td><td>some college      </td><td>standard    </td><td>none     </td><td> 38</td><td>39</td><td>40</td><td>1</td><td>117</td></tr>\n",
              "</tbody>\n",
              "</table>\n"
            ]
          },
          "metadata": {
            "tags": []
          }
        }
      ]
    },
    {
      "cell_type": "markdown",
      "metadata": {
        "id": "v8M5_nr77_b1"
      },
      "source": [
        "### Outliers\n",
        "--- \n",
        "\n",
        "For the purpose of today, as we are more focused on understanding how to read a linear regression output, we wont worry about outliers in the data.   \n",
        "\n",
        "However, removing outliers can improve the quality of your model due to excluding abnormalities in the data and we will look at this in more detail in the future. "
      ],
      "id": "v8M5_nr77_b1"
    },
    {
      "cell_type": "markdown",
      "metadata": {
        "id": "5a5c2c36"
      },
      "source": [
        "### We are now ready to do our multiple linear regression ###\n",
        "---\n",
        "\n",
        "We are looking to find out using our dataset if we can predict student exam performance. \n",
        "\n",
        "Therefore, total_score is our dependent variable (DV) as it can be changed by the other variables \n",
        "\n",
        "Gender, ethnicity, parental_education, lunch and preparation_course are therefore our independent variables (IV) as they cannot be affected by students exam performance.   \n",
        "\n",
        "To do a linear regression, we are going to create a model that tests how significantly the IV's impact the DV.   \n",
        "\n",
        "**how?**\n",
        "\n",
        "``` regression_model <- lm(DV ~ IV1 + IV2 + IV3..., data = df) ```  \n",
        "``` summary(regression_model) ```\n",
        "\n",
        "The above code does a very similar thing to stats.linregress in python! \n",
        "\n",
        "**Some of the new dummy variable names are seperated by spaces, so to include them incase them in \\` ` (backtick)**\n",
        "\n",
        "eg. \\` ethnicity_group B `\n",
        "\n",
        "### Exercise 7 ###\n",
        "---\n",
        "Perform a linear regression using total_score as the DV and display the summary data \n"
      ],
      "id": "5a5c2c36"
    },
    {
      "cell_type": "code",
      "metadata": {
        "id": "54c682af",
        "colab": {
          "base_uri": "https://localhost:8080/",
          "height": 780
        },
        "outputId": "02e5d208-ffb0-4f48-91bb-0c41eefdc865"
      },
      "source": [
        "regression_model <- lm(total_score ~ gender_male + ethnicity + parental_education + lunch + preparation_course, data = new_df)\n",
        "summary(regression_model)"
      ],
      "id": "54c682af",
      "execution_count": null,
      "outputs": [
        {
          "output_type": "display_data",
          "data": {
            "text/plain": [
              "\n",
              "Call:\n",
              "lm(formula = total_score ~ gender_male + ethnicity + parental_education + \n",
              "    lunch + preparation_course, data = new_df)\n",
              "\n",
              "Residuals:\n",
              "     Min       1Q   Median       3Q      Max \n",
              "-163.453  -24.851   -0.639   26.237   82.150 \n",
              "\n",
              "Coefficients:\n",
              "                                    Estimate Std. Error t value\n",
              "(Intercept)                          205.679      5.448  37.754\n",
              "gender_male                          -13.563      2.338  -5.801\n",
              "ethnicitygroup B                      -6.106      4.865  -1.255\n",
              "ethnicitygroup C                      -1.030      4.584  -0.225\n",
              "ethnicitygroup D                      10.552      4.704   2.243\n",
              "ethnicitygroup E                      24.838      5.050   4.918\n",
              "parental_educationbachelor's degree    6.775      4.424   1.531\n",
              "parental_educationhigh school         -7.058      3.775  -1.870\n",
              "parental_educationmaster's degree     21.103      5.023   4.201\n",
              "parental_educationsome college        -2.525      3.587  -0.704\n",
              "parental_educationsome high school   -17.693      3.821  -4.631\n",
              "lunchstandard                         27.516      2.441  11.270\n",
              "preparation_coursenone               -21.236      2.434  -8.723\n",
              "                                                Pr(>|t|)    \n",
              "(Intercept)                         < 0.0000000000000002 ***\n",
              "gender_male                                0.00000000888 ***\n",
              "ethnicitygroup B                                  0.2098    \n",
              "ethnicitygroup C                                  0.8223    \n",
              "ethnicitygroup D                                  0.0251 *  \n",
              "ethnicitygroup E                           0.00000102180 ***\n",
              "parental_educationbachelor's degree               0.1260    \n",
              "parental_educationhigh school                     0.0618 .  \n",
              "parental_educationmaster's degree          0.00002895863 ***\n",
              "parental_educationsome college                    0.4818    \n",
              "parental_educationsome high school         0.00000412882 ***\n",
              "lunchstandard                       < 0.0000000000000002 ***\n",
              "preparation_coursenone              < 0.0000000000000002 ***\n",
              "---\n",
              "Signif. codes:  0 ‘***’ 0.001 ‘**’ 0.01 ‘*’ 0.05 ‘.’ 0.1 ‘ ’ 1\n",
              "\n",
              "Residual standard error: 36.86 on 987 degrees of freedom\n",
              "Multiple R-squared:  0.2829,\tAdjusted R-squared:  0.2742 \n",
              "F-statistic: 32.45 on 12 and 987 DF,  p-value: < 0.00000000000000022\n"
            ]
          },
          "metadata": {
            "tags": []
          }
        }
      ]
    },
    {
      "cell_type": "markdown",
      "metadata": {
        "id": "39a48f86"
      },
      "source": [
        "### Lets understand the output ### \n",
        "---\n",
        "\n",
        "**Statistical significance**\n",
        "\n",
        "If something is statistically significant it means that the probability that the hypothesis (the thing your asking) is true/correct, is very very high aka less than 5% chance that the effect on the DV is random. \n",
        "\n",
        "So when reading a regression output, if the p-value (the right hand column) is less than 0.05 then it means it is significant, and more than 95% likely to be affecting the DV. \n",
        "\n",
        "In R, *'s are used to indicate which variables are significantly predicting the dependent variable. \n",
        "\n",
        "**The regression equation** \n",
        "\n",
        "The equation for a line of best fit is y = mx + c or y = slope*x + intercept. \n",
        "\n",
        "y = dependent variable\n",
        "x = independent variable\n",
        "\n",
        "In a multiple linear regression, we have multiple x. \n",
        "\n",
        "The equation is therefore:\n",
        "\n",
        "```y = intercept + slope1*x1 + slope2*x2... ```\n",
        "\n",
        "Each x (IV) has its own slope. \n",
        "\n",
        "**Coefficents (slope)**\n",
        "\n",
        "The estimates column lists all the regression coefficents (slopes) for each variable. What these mean in simple terms is how much the dependent variable is increased or decreased by that variable. These only matter however, if the variable is significant.   \n",
        "\n",
        "So for example, if gender_male was significant (p-value < 0.05) and had a positive coefficent, it would mean that male students were performing significantly better in their exams than female students. Therefore, gender predicted exam performance. A negative coefficent would mean that the score is less for males or rather more for females. \n",
        "\n",
        "**R squared**\n",
        "\n",
        "R^2 is how well your variables explain the variance in value of the dependent variable. So the higher the R^2 value, the better your model explains the change in value of your dependent variable. \n",
        "\n",
        "A low R^2 doesnt necessarily mean that your model is bad, but indicates that the variables in your dataset are not telling the whole story! \n",
        "\n",
        "For example, a R^2 of 0.50 would mean that your data only explains 50% of the change in scores between each student. \n",
        "\n",
        "Essentially it tells you how well your model fits the data. \n",
        "\n",
        "\n",
        "**F-Statistic**\n",
        "\n",
        "It shows results of a complex mathematical formula. But we only need to worry about it's significance! If your F statistic is significant ( p-value < 0.05), it means that when compared with a model which does not have any of the independent variables in it, your model is better. \n",
        "\n",
        "\n",
        "### Exercise 8 ###\n",
        "---\n",
        "\n",
        "Read the regression output and write some comments on the findings. \n",
        "Try to note which variables are significant, and evaluate how well the variables explain student performance. \n"
      ],
      "id": "39a48f86"
    },
    {
      "cell_type": "code",
      "metadata": {
        "id": "99d26544"
      },
      "source": [
        "# F-statistic: 32.45 on 12 and 987 DF ,  p-value: < 0.00000000000000022\n",
        "# My p-value is < 0.05, so data depended somehow \n",
        "\n",
        "# Multiple R-squared:  0.2829\n",
        "# My data describes only 28% of data change\n",
        "\n",
        "# Most related values is: Lunch, ethnicitygroup E, preparation_coursenone\n",
        "# lunch = standard  \n",
        "# ethnicity = group E\n",
        "# preparation_course = completed\n",
        "# parental_education\t= master's degree"
      ],
      "id": "99d26544",
      "execution_count": null,
      "outputs": []
    },
    {
      "cell_type": "markdown",
      "metadata": {
        "id": "e23d1213"
      },
      "source": [
        "### Assumptions ###\n",
        "---\n",
        "When we do linear regressions we have to assume that our data is guassian (normally distributed). We therefore now need to test that our assumptions of normality are true and that our model is therefore meaningful. \n",
        "\n",
        "1. linearity :\n",
        "\n",
        "``` plot(model, 1) ```\n",
        "\n",
        "A largely horizontal line at about 0 means that our data has good linearity, meaning our model is good!\n",
        "\n",
        "2. Q-Q plot or P-P plot: \n",
        "\n",
        "``` plot(model, 2) ```\n",
        "\n",
        "The points following a straightish diagonal line means that again we have good normality. \n",
        "\n",
        "\n",
        "### Exercise 9 ###\n",
        "---\n",
        "\n",
        "Check both the assumptions of your model and write a comment with your findings"
      ],
      "id": "e23d1213"
    },
    {
      "cell_type": "code",
      "metadata": {
        "id": "4d1f4186"
      },
      "source": [
        ""
      ],
      "id": "4d1f4186",
      "execution_count": null,
      "outputs": []
    },
    {
      "cell_type": "markdown",
      "metadata": {
        "id": "ZwGSPCR_Dwud"
      },
      "source": [
        "# Exploring the data\n",
        "---\n",
        "\n",
        "In the previous exercises, we only looked at the effect on total score. Now that we know that some of our variables did significantly predict student exam scores let's explore it in more detail. \n",
        "\n",
        "### Exercise 10\n",
        "---\n",
        "\n",
        "* Run a regression called `write_mod` using `writing_score` as the DV \n",
        "* Run a regression called `read_mod` using `reading_score` as the DV\n",
        "* Run a regression called `math_mod` using `math_score` as the DV \n",
        "* Compare the results with the model from exercise 7 and comment your findings\n",
        "* Compare the results of each model with each other. What inferences can you \n",
        "make?\n",
        "* Look at the difference in coefficents of significant variables between models - what does it tell you?\n"
      ],
      "id": "ZwGSPCR_Dwud"
    },
    {
      "cell_type": "code",
      "metadata": {
        "id": "nbBN0RoUJQww"
      },
      "source": [
        ""
      ],
      "id": "nbBN0RoUJQww",
      "execution_count": null,
      "outputs": []
    },
    {
      "cell_type": "markdown",
      "metadata": {
        "id": "JgibNCXnKvHE"
      },
      "source": [
        "# Reflection\n",
        "----\n",
        "\n",
        "## What skills have you demonstrated in completing this notebook?"
      ],
      "id": "JgibNCXnKvHE"
    },
    {
      "cell_type": "markdown",
      "metadata": {
        "id": "PWZ6NctwKv88"
      },
      "source": [
        "Your answer:"
      ],
      "id": "PWZ6NctwKv88"
    },
    {
      "cell_type": "markdown",
      "metadata": {
        "id": "Y4SWfDOCKz34"
      },
      "source": [
        "## What caused you the most difficulty?"
      ],
      "id": "Y4SWfDOCKz34"
    },
    {
      "cell_type": "markdown",
      "metadata": {
        "id": "Y84WximLK0gL"
      },
      "source": [
        "Your answer:"
      ],
      "id": "Y84WximLK0gL"
    }
  ]
}