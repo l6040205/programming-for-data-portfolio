{
 "cells": [
  {
   "cell_type": "markdown",
   "metadata": {
    "id": "Z-M-RCWATK71"
   },
   "source": [
    "# Lists and tuples\n",
    "\n",
    "Often we need to store a number of single items of data together so that they can be processed together. This might be because all the data refers to one person (e.g. name, age, gender, etc) OR it might be because we have a set of data (e.g. all the items that should be displayed in a drop down list, such as all the years from this year back to 100 years ago so that someone can select their year of birth)\n",
    "\n",
    "Python has a range of data structures available including:\n",
    "*   lists  \n",
    "*   tuples  \n",
    "*   dictionaries  \n",
    "*   sets\n",
    "\n",
    "This worksheet looks at lists and tuples.\n",
    "\n",
    "## List\n",
    "A list is a set of related, individual data objects, that are indexed and can be processed as a whole, as subsets or as individual items.  Lists are stored, essentially, as contiguous items in memory so that access can be as quick as possible.  However, they are mutable (they can be changed after they are created and stored) and so those mechanisms need to include extra functionality to deal with changing list sizes.\n",
    "\n",
    "## Tuple\n",
    "Essentially the same as a list but it is immutable.  Once it has been created it can't be changed.  It is stored in memory as contiguous items, with the size required being fixed right from the start.  This makes it faster to access.\n",
    "\n",
    "The code below will create two lists and a tuple.\n",
    "*   the first list contains 1000 random numbers between 1 and 100\n",
    "*   the second list is of random length (up to 5000) and each item is one of the 9 characteristics that are protected under the Equality Act in the UK.\n",
    "*   the tuple contains the 9 protected characteristics\n",
    "\n",
    "**Before you start the exercises, run the code below.**  It will generate the lists and tuple so that you can use them in the exercises.  If you need to recreate the lists again (because you have changed them and need to work on the originals, just run this cell again).\n",
    "\n",
    "***Note:***  *a list variable contains a reference to the start of the list in memory, rather than storing the list itself.  This means that if you assign the list to another variable (to make a copy), it will only copy across the reference.  If you change the copy, you change the original list.*\n",
    "\n",
    "*If you need to make a copy of the list you will need to use a loop to create a new list and copy all items across.*"
   ]
  },
  {
   "cell_type": "code",
   "execution_count": 3,
   "metadata": {
    "id": "BDRckXeQXFMT"
   },
   "outputs": [],
   "source": [
    "### RUN THIS CODE EVERYTIME YOU NEED LISTS TO WORK WITH IN THE EXERCISES BELOW ###\n",
    "from random import randint, choice\n",
    "\n",
    "def get_num_list():\n",
    "  num_list = [randint(1,100) for n in range(1000)]\n",
    "  return num_list\n",
    "\n",
    "def get_protected_characteristics():\n",
    "  characteristics_tuple = ('age','disability','gender reassignment','marriage and civil partnership','pregnancy and maternity','race','religion or belief','sex','sexual orientation')\n",
    "  return characteristics_tuple\n",
    "\n",
    "def get_protected_characteristic_list(protected_characteristics):\n",
    "  char_list = [choice(protected_characteristics) for ch in range(randint(1,5000))]\n",
    "  return char_list\n",
    "\n",
    "nums = get_num_list()\n",
    "protected_characteristics = get_protected_characteristics()\n",
    "characteristics = get_protected_characteristic_list(protected_characteristics)"
   ]
  },
  {
   "cell_type": "markdown",
   "metadata": {
    "id": "xXT38-4ZV45n"
   },
   "source": [
    "## The exercises below will use the lists:  \n",
    "*   **nums** (a list of between 1 and 1000 random numbers, each number is between 0 and 1000)\n",
    "*   **characteristics** (a list of 5000 random protected_characteristics)\n",
    "\n",
    "and the tuple:\n",
    "*  **protected_characteristics** (a set of the 9 protected characteristics identified in the Equality Act)\n",
    "\n",
    "## You can run the cell above any number of times to generate new lists."
   ]
  },
  {
   "cell_type": "markdown",
   "metadata": {
    "id": "Ft0dXl7fUuaK"
   },
   "source": [
    "---\n",
    "### Exercise 1 - list head, tail and shape\n",
    "\n",
    "Write a function, **describe_list()** which will:\n",
    "*  print the length of the list `nums`\n",
    "*  print the first 10 items in `nums`  \n",
    "*  print the last 5 items in `nums`  \n",
    "\n",
    "*Expected output*:  \n",
    "The length of nums is *552* (note: 552 is an example - the number will be between 1 and 1000)    \n",
    "First 10 items: [a list of 10 characteristics]  \n",
    "Last 5 items: [a list of 5 characteristics]\n"
   ]
  },
  {
   "cell_type": "code",
   "execution_count": 2,
   "metadata": {
    "id": "jUcZD7mmTJdA"
   },
   "outputs": [],
   "source": [
    "def describe_list():\n",
    "    print(len(nums))\n",
    "    print(nums[:10])\n",
    "    print(nums[-5:])"
   ]
  },
  {
   "cell_type": "markdown",
   "metadata": {
    "id": "yNWg08k6bXv0"
   },
   "source": [
    "---\n",
    "### Exercise 2 - show tuple items\n",
    "\n",
    "Write a function which will:\n",
    "*   use a loop to print the list of protected characteristics from the `protected_characteristics` tuple.  \n",
    "\n",
    "*Expected output*:  \n",
    "age  \n",
    "disability  \n",
    "gender reassignment  \n",
    "marriage and civil partnership  \n",
    "pregnancy and maternity  \n",
    "race  \n",
    "religion or belief  \n",
    "sex  \n",
    "sexual orientation  \n"
   ]
  },
  {
   "cell_type": "code",
   "execution_count": null,
   "metadata": {
    "id": "P2HnCG9pb1BS"
   },
   "outputs": [],
   "source": [
    "def print_proctect_characteristics():\n",
    "    for i in protected_characteristics:\n",
    "        print(i)"
   ]
  },
  {
   "cell_type": "markdown",
   "metadata": {
    "id": "RTSuQZs4b1JU"
   },
   "source": [
    "---\n",
    "### Exercise 3 - display items in the middle\n",
    "\n",
    "Write a function which will:\n",
    "*  calculate the position of the middle item in the `characteristics` list   \n",
    "(*Hint: use len() to help with this*)\n",
    "*  calculate the position of the item that is 5 places before the middle item\n",
    "*  calculate the position of the item that is 5 places after the middle item\n",
    "*  print the part of the list that includes the items from 5 places before to 5 places after.  \n",
    "\n",
    "*Expected output*:  \n",
    "Your list will include 10 items.  "
   ]
  },
  {
   "cell_type": "code",
   "execution_count": null,
   "metadata": {
    "colab": {
     "base_uri": "https://localhost:8080/"
    },
    "id": "OwhFnH2kdC11",
    "outputId": "84dbe2e2-4dd1-48b1-deb4-24379c3ccdc7"
   },
   "outputs": [
    {
     "name": "stdout",
     "output_type": "stream",
     "text": [
      "['disability', 'gender reassignment', 'pregnancy and maternity', 'marriage and civil partnership', 'sex', 'sexual orientation', 'sexual orientation', 'pregnancy and maternity', 'marriage and civil partnership', 'religion or belief']\n"
     ]
    }
   ],
   "source": [
    " def describe_characteristics():\n",
    "    median1 = len(characteristics)/2\n",
    "    median2= int(median)\n",
    "    before= median2-5\n",
    "    after= median2+5\n",
    "    print(characteristics[before:after])"
   ]
  },
  {
   "cell_type": "markdown",
   "metadata": {
    "id": "KS0x3oFNePI9"
   },
   "source": [
    "---\n",
    "### Exercise 4 - create a copy\n",
    "\n",
    "Write a function which will: use a for loop to create a copy of the `nums` list:\n",
    "\n",
    "*   create a new, empty, list called **new_nums**  (*Hint: an empty list is [ ]*)\n",
    "*   use a for loop which uses the following syntax:  `for num in nums:`\n",
    "*   each time round the loop append `num` to `new_nums`  ( *`new_nums.append(num)`*)\n",
    "*   print the first 10 items of `new_nums`\n",
    "*   print the first 10 items of `nums`\n",
    "*   print the length of both lists\n",
    "\n",
    "*Example expected output*:  \n",
    "[34, 3, 16, 3, 79, 33, 98, 24, 48, 8]  \n",
    "[34, 3, 16, 3, 79, 33, 98, 24, 48, 8]  \n",
    "Length of new_nums: 1000 Length of nums: 1000  "
   ]
  },
  {
   "cell_type": "code",
   "execution_count": null,
   "metadata": {
    "id": "mpK1Ip3we-uC"
   },
   "outputs": [],
   "source": [
    "new_nums=[]\n",
    "for num in nums:\n",
    "    new_nums.append(num)\n",
    "    print(new_nums[:10])\n",
    "    print(nums[:10])\n",
    "    print(len(new_nums))\n",
    "    print(len(nums))"
   ]
  },
  {
   "cell_type": "markdown",
   "metadata": {
    "id": "deUIFWjRe-3G"
   },
   "source": [
    "### Exercise 5 - count the occurrence of age in characteristics\n",
    "\n",
    "---\n",
    "\n",
    "Write a function which will use the list method:\n",
    "\n",
    "`list_name.count(item)`\n",
    "\n",
    "to count the number of occurrences of 'age' in the `characteristics` list.\n",
    "\n",
    "Print the result.\n",
    "\n",
    "*Example expected output*:  \n",
    "Number of times age appears in list: 42"
   ]
  },
  {
   "cell_type": "code",
   "execution_count": 18,
   "metadata": {
    "id": "b9TrHQ9hfoIU"
   },
   "outputs": [
    {
     "name": "stdout",
     "output_type": "stream",
     "text": [
      "212\n"
     ]
    }
   ],
   "source": [
    "def age_count():\n",
    "   print(characteristics.count('age'))"
   ]
  },
  {
   "cell_type": "markdown",
   "metadata": {
    "id": "zm2VI5RmfoSy"
   },
   "source": [
    "---\n",
    "### Exercise 6 - sort the nums list\n",
    "\n",
    "Write a function which will:\n",
    "*   call the function `get_num_list()` and store the result in a new list called **sort_nums**\n",
    "*   print the first, and last, 10 items in the `sort_nums` list\n",
    "*   use the `list_name.sort()` method to sort the `sort_nums` list into ascending order\n",
    "*   print the first, and last, 10 items again  \n",
    "*   use the `list_name.sort()` method again to sort the `sort_nums` list into descending order\n",
    "*   print the first, and last, 10 items again  \n",
    "\n",
    "*Example expected output*:  \n",
    "Unsorted [94, 95, 54, 75, 87, 32, 55, 15, 37, 30] ....... [91, 92, 40, 83, 37, 82, 78, 82, 80, 9]  \n",
    "Ascending [1, 1, 1, 1, 1, 1, 1, 2, 2, 2] ....... [99, 99, 99, 100, 100, 100, 100, 100, 100, 100]  \n",
    "Descending [100, 100, 100, 100, 100, 100, 100, 99, 99, 99] ....... [2, 2, 2, 1, 1, 1, 1, 1, 1, 1]  "
   ]
  },
  {
   "cell_type": "code",
   "execution_count": null,
   "metadata": {
    "id": "Fksgpj9JgWDs"
   },
   "outputs": [],
   "source": [
    "def sorting_numbers ():\n",
    "    sort_nums= get_num_list()\n",
    "    print(sort_nums[:10])\n",
    "    print(sort_nums[-10:])\n",
    "    sort_nums.sort()\n",
    "    print(sort_nums[:10])\n",
    "    print(sort_nums[-10:])\n",
    "    sort_nums.sort(reverse=True)\n",
    "    print(sort_nums[:10])\n",
    "    print(sort_nums[-10:])"
   ]
  },
  {
   "cell_type": "markdown",
   "metadata": {
    "id": "_OF-Xuj1UrW0"
   },
   "source": [
    "---\n",
    "### Exercise 7 - get statistics (max(), min(), sum() )\n",
    "\n",
    "Write a function which will:\n",
    "*   print the maximum and minimum numbers in the `nums` list  \n",
    "*   print the sum of the `nums` list\n",
    "*   calculate and print the average of the `nums` list (using `len()` to help)  \n",
    "\n",
    "*Example expected output*:  \n",
    "Maximum: 100 Minimum: 1  \n",
    "Sum 49750  \n",
    "Average 49.75   \n"
   ]
  },
  {
   "cell_type": "code",
   "execution_count": null,
   "metadata": {
    "id": "9YmYMenZVGod"
   },
   "outputs": [],
   "source": [
    "def get_statistics():\n",
    "    print(max(nums))\n",
    "    print(min(nums))\n",
    "    length = len(nums)\n",
    "    sum(nums)/length"
   ]
  },
  {
   "cell_type": "markdown",
   "metadata": {
    "id": "Mn4tHQ_KVbHa"
   },
   "source": [
    "---\n",
    "### Exercise 8 - percentage difference\n",
    "\n",
    "Write a function which will:\n",
    "*   generate a new list called **ex8_nums** using `get_num_list()`\n",
    "*   calculate and print the percentage difference between the first number in each list (as a percentage of the number in the nums list) (Hint:  find the difference between the two numbers, divide the difference by the number in `nums` and multiply by 100 - and use abs to ensure that the number is always positive)\n",
    "*   calculate and print the percentage difference between the last numbers in each list in the same way\n",
    "*   calculate and print the percentage difference between the middle numbers in each list in the same way.\n",
    "*   calculate and print the percentage difference between the sums of each list in the same way\n",
    "\n",
    "*Example expected output*:  \n",
    "First number difference 0.59 %  \n",
    "Last number difference 0.97 %  \n",
    "Middle number difference 0.65 %  \n",
    "Sum number difference 0.01 %  "
   ]
  },
  {
   "cell_type": "code",
   "execution_count": null,
   "metadata": {
    "id": "nJCQjZIeZL0e"
   },
   "outputs": [],
   "source": [
    "def percentage_difference():\n",
    "ex8_nums = get_num_list()\n",
    "print(abs(ex8_nums[0]-nums[0])/nums[0]*100)\n",
    "print(abs(ex8_nums[-1]-nums[-1])/nums[-1]*100)\n",
    "median_ex8 = int(len(ex8_nums)/2)\n",
    "median_nums= int(len(nums)/2)\n",
    "print(abs(ex8_nums[median_ex8]-nums[median_nums])/nums[median_nums]*100)\n",
    "print(abs(abs(sum(ex8_nums)-sum(nums))/sum(nums)*100))\n",
    "\n"
   ]
  },
  {
   "cell_type": "markdown",
   "metadata": {
    "id": "HNs3lZmYawFO"
   },
   "source": [
    "---\n",
    "### Exercise 9 - characteristic counts\n",
    "\n",
    "Write a function which will:\n",
    "*  iterate through the `protected_characteristics` tuple and for each **characteristic**:\n",
    "*   *   count the number of occurrences of that `characteristic` in the `characteristics` list\n",
    "*   *   print the `protected_characteristic` and the **count**    \n",
    "  \n",
    "*Example expected output*:\n",
    "\n",
    "age 100  \n",
    "disability 120  \n",
    "gender reassignment 120  \n",
    "marriage and civil partnership 111  \n",
    "pregnancy and maternity 103  \n",
    "race 106  \n",
    "religion or belief 95  \n",
    "sex 110  \n",
    "sexual orientation 113  \n",
    "\n",
    "Extra learning:  you can read [here](https://thispointer.com/python-how-to-pad-strings-with-zero-space-or-some-other-character/) how to justify the printed characteristic so that the output is organised into two columns as shown below:  \n",
    "![tabulated output](https://drive.google.com/uc?id=1CCXfX6K5ZeDefnq7vUsqxCDmqvcfY8Mz)\n",
    "\n",
    "\n",
    "\n"
   ]
  },
  {
   "cell_type": "code",
   "execution_count": null,
   "metadata": {
    "id": "GURT11albqUs"
   },
   "outputs": [],
   "source": [
    "def charcater_count():\n",
    "for i in protected_characteristics:\n",
    "    print(i.ljust(23), str(protected_characteristics.count(i)).rjust(21))"
   ]
  },
  {
   "cell_type": "markdown",
   "metadata": {
    "id": "9Po7yQj-ds38"
   },
   "source": [
    "# Exercise 10 - characteristics statistics\n",
    "\n",
    "Assuming that the `characteristics` list may have been taken from a study of cases that have been taken to court in relation to the Equality Act.  \n",
    "\n",
    "Write a function which will:\n",
    "\n",
    "*   find the most common characteristic resulting in court action, from this population\n",
    "*   print this in a message, e.g. The characteristic with the highest number of court cases is:  *characteristic*\n",
    "*   print the list of `protected_characteristics`, on one line if possible - see [here](https://www.geeksforgeeks.org/g-fact-25-print-single-multiple-variable-python/)\n",
    "*   ask the user to enter a characteristic that they would like to see statistics on and use a while loop to continue until the user has entered a valid characteristic\n",
    "*   print the characteristic, its frequency and the percentage that this frequency is of the whole population.\n",
    "\n",
    "*Test input*:  \n",
    "maternity and pregnancy\n",
    "\n",
    "*Example expected output*:  \n",
    "The characteristic with the highest number of court cases is: sex\n",
    "Protected characteristics:  age disability gender reassignment marriage and civil partnership pregnancy and maternity race religion or belief sex sexual orientation \n",
    "Which characteristic would you like to see statistics on? marriage\n",
    "Which characteristic would you like to see statistics on? age\n",
    "age 473 10.97 %\n"
   ]
  },
  {
   "cell_type": "code",
   "execution_count": 26,
   "metadata": {
    "id": "uk_I5z7UgbDs"
   },
   "outputs": [
    {
     "name": "stdout",
     "output_type": "stream",
     "text": [
      "The characteristic with the highest number of court cases is: sexual orientation\n",
      "('age', 'disability', 'gender reassignment', 'marriage and civil partnership', 'pregnancy and maternity', 'race', 'religion or belief', 'sex', 'sexual orientation') Which characteristic would you like to see statistics on?\n",
      "marrigage\n",
      "Which characteristic would you like to see statistics on?\n"
     ]
    },
    {
     "ename": "KeyboardInterrupt",
     "evalue": "Interrupted by user",
     "output_type": "error",
     "traceback": [
      "\u001b[1;31m---------------------------------------------------------------------------\u001b[0m",
      "\u001b[1;31mKeyboardInterrupt\u001b[0m                         Traceback (most recent call last)",
      "\u001b[1;32m<ipython-input-26-fedbd33ce33f>\u001b[0m in \u001b[0;36m<module>\u001b[1;34m\u001b[0m\n\u001b[0;32m      9\u001b[0m \u001b[1;32mwhile\u001b[0m \u001b[0mage\u001b[0m \u001b[1;33m!=\u001b[0m \u001b[1;34m'age'\u001b[0m\u001b[1;33m:\u001b[0m\u001b[1;33m\u001b[0m\u001b[1;33m\u001b[0m\u001b[0m\n\u001b[0;32m     10\u001b[0m     \u001b[0mprint\u001b[0m\u001b[1;33m(\u001b[0m\u001b[1;34m'Which characteristic would you like to see statistics on?'\u001b[0m\u001b[1;33m)\u001b[0m\u001b[1;33m\u001b[0m\u001b[1;33m\u001b[0m\u001b[0m\n\u001b[1;32m---> 11\u001b[1;33m     \u001b[0mage\u001b[0m \u001b[1;33m=\u001b[0m \u001b[0minput\u001b[0m\u001b[1;33m(\u001b[0m\u001b[1;33m)\u001b[0m\u001b[1;33m\u001b[0m\u001b[1;33m\u001b[0m\u001b[0m\n\u001b[0m\u001b[0;32m     12\u001b[0m \u001b[0mprint\u001b[0m\u001b[1;33m(\u001b[0m\u001b[1;34m'There are'\u001b[0m \u001b[1;33m,\u001b[0m \u001b[0mfrequency\u001b[0m\u001b[1;33m,\u001b[0m \u001b[1;34m'counts of age. This is'\u001b[0m \u001b[1;33m,\u001b[0m \u001b[0mpercentage\u001b[0m\u001b[1;33m,\u001b[0m \u001b[1;34m'% of all characteristics'\u001b[0m\u001b[1;33m)\u001b[0m\u001b[1;33m\u001b[0m\u001b[1;33m\u001b[0m\u001b[0m\n\u001b[0;32m     13\u001b[0m \u001b[1;33m\u001b[0m\u001b[0m\n",
      "\u001b[1;32m~\\anaconda3\\lib\\site-packages\\ipykernel\\kernelbase.py\u001b[0m in \u001b[0;36mraw_input\u001b[1;34m(self, prompt)\u001b[0m\n\u001b[0;32m    858\u001b[0m                 \u001b[1;34m\"raw_input was called, but this frontend does not support input requests.\"\u001b[0m\u001b[1;33m\u001b[0m\u001b[1;33m\u001b[0m\u001b[0m\n\u001b[0;32m    859\u001b[0m             )\n\u001b[1;32m--> 860\u001b[1;33m         return self._input_request(str(prompt),\n\u001b[0m\u001b[0;32m    861\u001b[0m             \u001b[0mself\u001b[0m\u001b[1;33m.\u001b[0m\u001b[0m_parent_ident\u001b[0m\u001b[1;33m,\u001b[0m\u001b[1;33m\u001b[0m\u001b[1;33m\u001b[0m\u001b[0m\n\u001b[0;32m    862\u001b[0m             \u001b[0mself\u001b[0m\u001b[1;33m.\u001b[0m\u001b[0m_parent_header\u001b[0m\u001b[1;33m,\u001b[0m\u001b[1;33m\u001b[0m\u001b[1;33m\u001b[0m\u001b[0m\n",
      "\u001b[1;32m~\\anaconda3\\lib\\site-packages\\ipykernel\\kernelbase.py\u001b[0m in \u001b[0;36m_input_request\u001b[1;34m(self, prompt, ident, parent, password)\u001b[0m\n\u001b[0;32m    902\u001b[0m             \u001b[1;32mexcept\u001b[0m \u001b[0mKeyboardInterrupt\u001b[0m\u001b[1;33m:\u001b[0m\u001b[1;33m\u001b[0m\u001b[1;33m\u001b[0m\u001b[0m\n\u001b[0;32m    903\u001b[0m                 \u001b[1;31m# re-raise KeyboardInterrupt, to truncate traceback\u001b[0m\u001b[1;33m\u001b[0m\u001b[1;33m\u001b[0m\u001b[1;33m\u001b[0m\u001b[0m\n\u001b[1;32m--> 904\u001b[1;33m                 \u001b[1;32mraise\u001b[0m \u001b[0mKeyboardInterrupt\u001b[0m\u001b[1;33m(\u001b[0m\u001b[1;34m\"Interrupted by user\"\u001b[0m\u001b[1;33m)\u001b[0m \u001b[1;32mfrom\u001b[0m \u001b[1;32mNone\u001b[0m\u001b[1;33m\u001b[0m\u001b[1;33m\u001b[0m\u001b[0m\n\u001b[0m\u001b[0;32m    905\u001b[0m             \u001b[1;32mexcept\u001b[0m \u001b[0mException\u001b[0m \u001b[1;32mas\u001b[0m \u001b[0me\u001b[0m\u001b[1;33m:\u001b[0m\u001b[1;33m\u001b[0m\u001b[1;33m\u001b[0m\u001b[0m\n\u001b[0;32m    906\u001b[0m                 \u001b[0mself\u001b[0m\u001b[1;33m.\u001b[0m\u001b[0mlog\u001b[0m\u001b[1;33m.\u001b[0m\u001b[0mwarning\u001b[0m\u001b[1;33m(\u001b[0m\u001b[1;34m\"Invalid Message:\"\u001b[0m\u001b[1;33m,\u001b[0m \u001b[0mexc_info\u001b[0m\u001b[1;33m=\u001b[0m\u001b[1;32mTrue\u001b[0m\u001b[1;33m)\u001b[0m\u001b[1;33m\u001b[0m\u001b[1;33m\u001b[0m\u001b[0m\n",
      "\u001b[1;31mKeyboardInterrupt\u001b[0m: Interrupted by user"
     ]
    }
   ],
   "source": [
    "string= \"The characteristic with the highest number of court cases is:\"\n",
    "print(string, max(set(characteristics), key=characteristics.count))\n",
    "print(protected_characteristics, end=\" \")\n",
    "frequency= characteristics.count('age')\n",
    "percentage=int(frequency/len(characteristics)*100)\n",
    "str(frequency)\n",
    "str(percentage)\n",
    "age = ''\n",
    "while age != 'age':\n",
    "    print('Which characteristic would you like to see statistics on?')\n",
    "    age = input()\n",
    "print('There are' , frequency, 'counts of age. This is' , percentage, '% of all characteristics')\n",
    "\n",
    "\n",
    "\n",
    "\n",
    "    "
   ]
  },
  {
   "cell_type": "markdown",
   "metadata": {
    "id": "g24vq4z2zECI"
   },
   "source": [
    "# Reflection\n",
    "----\n",
    "\n",
    "## What skills have you demonstrated in completing this notebook?"
   ]
  },
  {
   "cell_type": "markdown",
   "metadata": {
    "id": "dJ-UIZakzI4S"
   },
   "source": []
  },
  {
   "cell_type": "markdown",
   "metadata": {
    "id": "MYoQrjddzJxg"
   },
   "source": [
    "## What caused you the most difficulty?"
   ]
  },
  {
   "cell_type": "markdown",
   "metadata": {
    "id": "aFPNBDPPzjx9"
   },
   "source": []
  }
 ],
 "metadata": {
  "colab": {
   "collapsed_sections": [],
   "name": "Lists and Tuples.pynb",
   "provenance": []
  },
  "kernelspec": {
   "display_name": "Python 3",
   "language": "python",
   "name": "python3"
  },
  "language_info": {
   "codemirror_mode": {
    "name": "ipython",
    "version": 3
   },
   "file_extension": ".py",
   "mimetype": "text/x-python",
   "name": "python",
   "nbconvert_exporter": "python",
   "pygments_lexer": "ipython3",
   "version": "3.8.8"
  }
 },
 "nbformat": 4,
 "nbformat_minor": 1
}
